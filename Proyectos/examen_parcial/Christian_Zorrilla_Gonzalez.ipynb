{
 "cells": [
  {
   "cell_type": "markdown",
   "metadata": {},
   "source": [
    "# Examen parcial\n",
    "\n",
    "Valor: 20 puntos\n",
    "\n",
    "Fecha de entrega y presentación: jueves, 2 de noviembre\n",
    "\n",
    "Desarrolla un juego utilizando Pygame que incluya un árbol de comportamiento o una máquina de estados orientada a controlar un agente, y debe incluir un algoritmo de búsqueda. También debe agregar el REAS correspondiente.\n",
    "\n",
    "Detalles:\n",
    "\n",
    "1. El juego debe estar hecho en Python con pygame. No es necesario que sea muy elaborado y puede ser una versión reducida de algún otro juego. No se evaluará la apariencia del juego, pero debe ser jugable.\n",
    "\n",
    "2. Tanto el árbol de comportamiento como el algoritmo de búsqueda deben ser implementados manualmente. No se deben utilizar librerías externas para implementarlos.\n",
    "\n",
    "3. Los proyectos son individuales y no pueden repetirse. Hay un foro en la carpeta de exámenes que pueden utilizar para decir/describir qué juego van a hacer como proyecto. Así quedará constancia de que alguien eligió su proyecto con tiempo para saber cuál es el que se tomará en cuenta.\n",
    "\n",
    "4. El archivo debe ser un script de Python (.py) ya que en el notebook no se puede utilizar pygame de una manera adecuada.\n",
    "\n",
    "5. Cada sección del archivo debe contener comentarios para facilitar la lectura del código.\n",
    "\n",
    "6. En un comentario del archivo deben incluir información como nombre y matrícula.\n",
    "\n",
    "7. El día de la presentación, compartirán pantalla para mostrar su proyecto y explicarán cómo implementaron y/o adaptaron los algoritmos en el proyecto. En caso de faltar tiempo, continuaremos en la siguiente clase.\n",
    "\n",
    "8. El proyecto debe subirse a la carpeta de exámenes hasta el jueves, 2 de noviembre."
   ]
  }
 ],
 "metadata": {
  "language_info": {
   "name": "python"
  }
 },
 "nbformat": 4,
 "nbformat_minor": 2
}
