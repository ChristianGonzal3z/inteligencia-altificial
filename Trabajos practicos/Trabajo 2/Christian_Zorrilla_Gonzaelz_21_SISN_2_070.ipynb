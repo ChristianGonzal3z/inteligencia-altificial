{
  "nbformat": 4,
  "nbformat_minor": 0,
  "metadata": {
    "colab": {
      "provenance": [],
      "toc_visible": true
    },
    "kernelspec": {
      "name": "python3",
      "display_name": "Python 3"
    },
    "language_info": {
      "name": "python"
    },
    "widgets": {
      "application/vnd.jupyter.widget-state+json": {
        "d4a90d5d7ebf4c96b1b7bb5b666513c0": {
          "model_module": "@jupyter-widgets/controls",
          "model_name": "VBoxModel",
          "model_module_version": "1.5.0",
          "state": {
            "_dom_classes": [
              "widget-interact"
            ],
            "_model_module": "@jupyter-widgets/controls",
            "_model_module_version": "1.5.0",
            "_model_name": "VBoxModel",
            "_view_count": null,
            "_view_module": "@jupyter-widgets/controls",
            "_view_module_version": "1.5.0",
            "_view_name": "VBoxView",
            "box_style": "",
            "children": [
              "IPY_MODEL_4450cf6508bb4ec99d49da95a5e05b15",
              "IPY_MODEL_4474f62091c04cf6bb76641e56e0b0d9",
              "IPY_MODEL_972ccb2cae2e4911b35d24c24251b04c",
              "IPY_MODEL_d8fb914d025d437d8394f7df47743dd9"
            ],
            "layout": "IPY_MODEL_8ee6f4917f9f4a5c91b752b526da61c4"
          }
        },
        "4450cf6508bb4ec99d49da95a5e05b15": {
          "model_module": "@jupyter-widgets/controls",
          "model_name": "IntSliderModel",
          "model_module_version": "1.5.0",
          "state": {
            "_dom_classes": [],
            "_model_module": "@jupyter-widgets/controls",
            "_model_module_version": "1.5.0",
            "_model_name": "IntSliderModel",
            "_view_count": null,
            "_view_module": "@jupyter-widgets/controls",
            "_view_module_version": "1.5.0",
            "_view_name": "IntSliderView",
            "continuous_update": true,
            "description": "a",
            "description_tooltip": null,
            "disabled": false,
            "layout": "IPY_MODEL_f56701d6382e449983d517e6c25bf7b8",
            "max": 1,
            "min": 0,
            "orientation": "horizontal",
            "readout": true,
            "readout_format": "d",
            "step": 1,
            "style": "IPY_MODEL_5ac86d06c83f4efbbc601f66d13e1d7c",
            "value": 1
          }
        },
        "4474f62091c04cf6bb76641e56e0b0d9": {
          "model_module": "@jupyter-widgets/controls",
          "model_name": "IntSliderModel",
          "model_module_version": "1.5.0",
          "state": {
            "_dom_classes": [],
            "_model_module": "@jupyter-widgets/controls",
            "_model_module_version": "1.5.0",
            "_model_name": "IntSliderModel",
            "_view_count": null,
            "_view_module": "@jupyter-widgets/controls",
            "_view_module_version": "1.5.0",
            "_view_name": "IntSliderView",
            "continuous_update": true,
            "description": "b",
            "description_tooltip": null,
            "disabled": false,
            "layout": "IPY_MODEL_20900ec1960c4e14a1b27c3967fdd30a",
            "max": 1,
            "min": 0,
            "orientation": "horizontal",
            "readout": true,
            "readout_format": "d",
            "step": 1,
            "style": "IPY_MODEL_2172da183c54477a9e400d6389bae629",
            "value": 1
          }
        },
        "972ccb2cae2e4911b35d24c24251b04c": {
          "model_module": "@jupyter-widgets/controls",
          "model_name": "DropdownModel",
          "model_module_version": "1.5.0",
          "state": {
            "_dom_classes": [],
            "_model_module": "@jupyter-widgets/controls",
            "_model_module_version": "1.5.0",
            "_model_name": "DropdownModel",
            "_options_labels": [
              "suma",
              "resta",
              "multiplicacion",
              "division",
              "potencia"
            ],
            "_view_count": null,
            "_view_module": "@jupyter-widgets/controls",
            "_view_module_version": "1.5.0",
            "_view_name": "DropdownView",
            "description": "operacion",
            "description_tooltip": null,
            "disabled": false,
            "index": 0,
            "layout": "IPY_MODEL_bbbd8fb0150945c591a78c5cd0e5f671",
            "style": "IPY_MODEL_0113f79a53dc435cb044d8d29b5d9673"
          }
        },
        "d8fb914d025d437d8394f7df47743dd9": {
          "model_module": "@jupyter-widgets/output",
          "model_name": "OutputModel",
          "model_module_version": "1.0.0",
          "state": {
            "_dom_classes": [],
            "_model_module": "@jupyter-widgets/output",
            "_model_module_version": "1.0.0",
            "_model_name": "OutputModel",
            "_view_count": null,
            "_view_module": "@jupyter-widgets/output",
            "_view_module_version": "1.0.0",
            "_view_name": "OutputView",
            "layout": "IPY_MODEL_139c10726a3947a895632fbd09506fd9",
            "msg_id": "",
            "outputs": [
              {
                "output_type": "stream",
                "name": "stdout",
                "text": [
                  "El resultado de la operación suma entre 1 y 1 es: 2\n"
                ]
              }
            ]
          }
        },
        "8ee6f4917f9f4a5c91b752b526da61c4": {
          "model_module": "@jupyter-widgets/base",
          "model_name": "LayoutModel",
          "model_module_version": "1.2.0",
          "state": {
            "_model_module": "@jupyter-widgets/base",
            "_model_module_version": "1.2.0",
            "_model_name": "LayoutModel",
            "_view_count": null,
            "_view_module": "@jupyter-widgets/base",
            "_view_module_version": "1.2.0",
            "_view_name": "LayoutView",
            "align_content": null,
            "align_items": null,
            "align_self": null,
            "border": null,
            "bottom": null,
            "display": null,
            "flex": null,
            "flex_flow": null,
            "grid_area": null,
            "grid_auto_columns": null,
            "grid_auto_flow": null,
            "grid_auto_rows": null,
            "grid_column": null,
            "grid_gap": null,
            "grid_row": null,
            "grid_template_areas": null,
            "grid_template_columns": null,
            "grid_template_rows": null,
            "height": null,
            "justify_content": null,
            "justify_items": null,
            "left": null,
            "margin": null,
            "max_height": null,
            "max_width": null,
            "min_height": null,
            "min_width": null,
            "object_fit": null,
            "object_position": null,
            "order": null,
            "overflow": null,
            "overflow_x": null,
            "overflow_y": null,
            "padding": null,
            "right": null,
            "top": null,
            "visibility": null,
            "width": null
          }
        },
        "f56701d6382e449983d517e6c25bf7b8": {
          "model_module": "@jupyter-widgets/base",
          "model_name": "LayoutModel",
          "model_module_version": "1.2.0",
          "state": {
            "_model_module": "@jupyter-widgets/base",
            "_model_module_version": "1.2.0",
            "_model_name": "LayoutModel",
            "_view_count": null,
            "_view_module": "@jupyter-widgets/base",
            "_view_module_version": "1.2.0",
            "_view_name": "LayoutView",
            "align_content": null,
            "align_items": null,
            "align_self": null,
            "border": null,
            "bottom": null,
            "display": null,
            "flex": null,
            "flex_flow": null,
            "grid_area": null,
            "grid_auto_columns": null,
            "grid_auto_flow": null,
            "grid_auto_rows": null,
            "grid_column": null,
            "grid_gap": null,
            "grid_row": null,
            "grid_template_areas": null,
            "grid_template_columns": null,
            "grid_template_rows": null,
            "height": null,
            "justify_content": null,
            "justify_items": null,
            "left": null,
            "margin": null,
            "max_height": null,
            "max_width": null,
            "min_height": null,
            "min_width": null,
            "object_fit": null,
            "object_position": null,
            "order": null,
            "overflow": null,
            "overflow_x": null,
            "overflow_y": null,
            "padding": null,
            "right": null,
            "top": null,
            "visibility": null,
            "width": null
          }
        },
        "5ac86d06c83f4efbbc601f66d13e1d7c": {
          "model_module": "@jupyter-widgets/controls",
          "model_name": "SliderStyleModel",
          "model_module_version": "1.5.0",
          "state": {
            "_model_module": "@jupyter-widgets/controls",
            "_model_module_version": "1.5.0",
            "_model_name": "SliderStyleModel",
            "_view_count": null,
            "_view_module": "@jupyter-widgets/base",
            "_view_module_version": "1.2.0",
            "_view_name": "StyleView",
            "description_width": "",
            "handle_color": null
          }
        },
        "20900ec1960c4e14a1b27c3967fdd30a": {
          "model_module": "@jupyter-widgets/base",
          "model_name": "LayoutModel",
          "model_module_version": "1.2.0",
          "state": {
            "_model_module": "@jupyter-widgets/base",
            "_model_module_version": "1.2.0",
            "_model_name": "LayoutModel",
            "_view_count": null,
            "_view_module": "@jupyter-widgets/base",
            "_view_module_version": "1.2.0",
            "_view_name": "LayoutView",
            "align_content": null,
            "align_items": null,
            "align_self": null,
            "border": null,
            "bottom": null,
            "display": null,
            "flex": null,
            "flex_flow": null,
            "grid_area": null,
            "grid_auto_columns": null,
            "grid_auto_flow": null,
            "grid_auto_rows": null,
            "grid_column": null,
            "grid_gap": null,
            "grid_row": null,
            "grid_template_areas": null,
            "grid_template_columns": null,
            "grid_template_rows": null,
            "height": null,
            "justify_content": null,
            "justify_items": null,
            "left": null,
            "margin": null,
            "max_height": null,
            "max_width": null,
            "min_height": null,
            "min_width": null,
            "object_fit": null,
            "object_position": null,
            "order": null,
            "overflow": null,
            "overflow_x": null,
            "overflow_y": null,
            "padding": null,
            "right": null,
            "top": null,
            "visibility": null,
            "width": null
          }
        },
        "2172da183c54477a9e400d6389bae629": {
          "model_module": "@jupyter-widgets/controls",
          "model_name": "SliderStyleModel",
          "model_module_version": "1.5.0",
          "state": {
            "_model_module": "@jupyter-widgets/controls",
            "_model_module_version": "1.5.0",
            "_model_name": "SliderStyleModel",
            "_view_count": null,
            "_view_module": "@jupyter-widgets/base",
            "_view_module_version": "1.2.0",
            "_view_name": "StyleView",
            "description_width": "",
            "handle_color": null
          }
        },
        "bbbd8fb0150945c591a78c5cd0e5f671": {
          "model_module": "@jupyter-widgets/base",
          "model_name": "LayoutModel",
          "model_module_version": "1.2.0",
          "state": {
            "_model_module": "@jupyter-widgets/base",
            "_model_module_version": "1.2.0",
            "_model_name": "LayoutModel",
            "_view_count": null,
            "_view_module": "@jupyter-widgets/base",
            "_view_module_version": "1.2.0",
            "_view_name": "LayoutView",
            "align_content": null,
            "align_items": null,
            "align_self": null,
            "border": null,
            "bottom": null,
            "display": null,
            "flex": null,
            "flex_flow": null,
            "grid_area": null,
            "grid_auto_columns": null,
            "grid_auto_flow": null,
            "grid_auto_rows": null,
            "grid_column": null,
            "grid_gap": null,
            "grid_row": null,
            "grid_template_areas": null,
            "grid_template_columns": null,
            "grid_template_rows": null,
            "height": null,
            "justify_content": null,
            "justify_items": null,
            "left": null,
            "margin": null,
            "max_height": null,
            "max_width": null,
            "min_height": null,
            "min_width": null,
            "object_fit": null,
            "object_position": null,
            "order": null,
            "overflow": null,
            "overflow_x": null,
            "overflow_y": null,
            "padding": null,
            "right": null,
            "top": null,
            "visibility": null,
            "width": null
          }
        },
        "0113f79a53dc435cb044d8d29b5d9673": {
          "model_module": "@jupyter-widgets/controls",
          "model_name": "DescriptionStyleModel",
          "model_module_version": "1.5.0",
          "state": {
            "_model_module": "@jupyter-widgets/controls",
            "_model_module_version": "1.5.0",
            "_model_name": "DescriptionStyleModel",
            "_view_count": null,
            "_view_module": "@jupyter-widgets/base",
            "_view_module_version": "1.2.0",
            "_view_name": "StyleView",
            "description_width": ""
          }
        },
        "139c10726a3947a895632fbd09506fd9": {
          "model_module": "@jupyter-widgets/base",
          "model_name": "LayoutModel",
          "model_module_version": "1.2.0",
          "state": {
            "_model_module": "@jupyter-widgets/base",
            "_model_module_version": "1.2.0",
            "_model_name": "LayoutModel",
            "_view_count": null,
            "_view_module": "@jupyter-widgets/base",
            "_view_module_version": "1.2.0",
            "_view_name": "LayoutView",
            "align_content": null,
            "align_items": null,
            "align_self": null,
            "border": null,
            "bottom": null,
            "display": null,
            "flex": null,
            "flex_flow": null,
            "grid_area": null,
            "grid_auto_columns": null,
            "grid_auto_flow": null,
            "grid_auto_rows": null,
            "grid_column": null,
            "grid_gap": null,
            "grid_row": null,
            "grid_template_areas": null,
            "grid_template_columns": null,
            "grid_template_rows": null,
            "height": null,
            "justify_content": null,
            "justify_items": null,
            "left": null,
            "margin": null,
            "max_height": null,
            "max_width": null,
            "min_height": null,
            "min_width": null,
            "object_fit": null,
            "object_position": null,
            "order": null,
            "overflow": null,
            "overflow_x": null,
            "overflow_y": null,
            "padding": null,
            "right": null,
            "top": null,
            "visibility": null,
            "width": null
          }
        }
      }
    }
  },
  "cells": [
    {
      "cell_type": "markdown",
      "source": [
        "# Practica #2\n",
        "\n",
        "## Nombre: Christian Zorrilla Gonzalez\n",
        "\n",
        "## Matrícula: 21-SISN-2-070\n",
        "\n",
        "## Fecha de entrega: miercoles 20\n",
        "\n",
        "1. Hable de:  los Agentes Inteligentes\n",
        "  \n",
        "  Los agentes inteligentes son entidades capaces de percibir su entorno, tomar decisiones y actuar en base a esas decisiones para alcanzar objetivos específicos. Estos agentes pueden ser tanto sistemas de software como sistemas físicos.\n",
        "\n",
        "\n",
        "2. Hable de los sensores, Actuadores y entornos, de ejemplos.\n",
        "\n",
        "  Los sensores, actuadores y entornos son componentes clave en los sistemas de agentes inteligentes. Aquí tienes una descripción de cada uno de ellos, junto con algunos ejemplos:\n",
        "\n",
        "    1. **Sensores:** Los sensores son dispositivos que permiten a un agente inteligente percibir y recopilar información sobre su entorno. Estos dispositivos capturan datos del entorno y los convierten en señales que el agente puede procesar. Algunos ejemplos de sensores utilizados en agentes inteligentes son:\n",
        "\n",
        "      - **Cámaras:** Utilizadas en sistemas de visión por computadora para capturar imágenes y reconocer objetos.\n",
        "      - **Micrófonos:** Utilizados en sistemas de procesamiento de lenguaje natural para capturar y analizar el habla.\n",
        "      - **Sensores de proximidad:** Utilizados en robots para detectar la presencia de objetos cercanos y evitar colisiones.\n",
        "      - **Sensores de temperatura:** Utilizados en sistemas de control de climatización para medir la temperatura ambiente.\n",
        "      - **Sensores de movimiento:** Utilizados en sistemas de seguridad para detectar movimientos no deseados.\n",
        "    2. **Actuadores:** Los actuadores son dispositivos que permiten a un agente inteligente interactuar con su entorno y llevar a cabo acciones físicas o digitales. Estos dispositivos reciben señales del agente y las convierten en acciones concretas en el entorno. Algunos ejemplos de actuadores utilizados en agentes inteligentes son:\n",
        "\n",
        "      - **Motores:** Utilizados en robots para moverse y manipular objetos.\n",
        "      - **Altavoces:** Utilizados en sistemas de asistentes virtuales para generar respuestas de voz.\n",
        "      - **Pantallas:** Utilizadas en sistemas de interfaces de usuario para mostrar información visual.\n",
        "      - **Válvulas:** Utilizadas en sistemas de control de procesos para regular el flujo de líquidos o gases.\n",
        "      - **Luces:** Utilizadas en sistemas de iluminación inteligente para controlar la intensidad y el color de la luz.\n",
        "    \n",
        "    3. **Entornos:** El entorno es el contexto en el que un agente inteligente opera y realiza sus acciones. Puede ser físico, como el mundo real, o virtual, como un entorno de simulación. Los entornos pueden ser simples o complejos, deterministas o estocásticos, estáticos o dinámicos. Algunos ejemplos de entornos en los que operan agentes inteligentes son:\n",
        "\n",
        "      - **Entorno de un robot en un almacén:** El robot debe moverse de manera autónoma, evitar obstáculos y recoger y entregar objetos en ubicaciones específicas.\n",
        "      - **Entorno de un vehículo autónomo:** El vehículo debe navegar por carreteras, reconocer señales de tráfico, detectar peatones y otros vehículos, y tomar decisiones de conducción seguras.\n",
        "      - **Entorno de un sistema de recomendación:** El sistema debe analizar los datos de los usuarios, como historiales de compras o preferencias, y recomendar productos o contenido relevante.\n",
        "      - **Entorno de un juego de ajedrez:** El agente debe analizar el tablero, predecir movimientos futuros y seleccionar la mejor jugada para ganar el juego.\n",
        "\n",
        "3. Haga una comparación entre los agentes inteligentes y los objetos en la Orientación a Objetos.\n",
        "\n",
        "  Los agentes inteligentes y los objetos en la programación orientada a objetos (POO) son conceptos relacionados pero tienen diferencias significativas. Aquí tienes una comparación entre ambos:\n",
        "\n",
        "  1. **Propósito:**\n",
        "\n",
        "      - Agentes inteligentes: Los agentes inteligentes tienen como objetivo principal interactuar con su entorno para lograr objetivos específicos. Están diseñados para tomar decisiones y actuar de manera - autónoma en función de la información percibida.\n",
        "      - Objetos en la POO: Los objetos en la POO se utilizan para modelar entidades del mundo real o conceptos abstractos. Estos objetos encapsulan datos y comportamientos relacionados, y se utilizan para construir sistemas más grandes y complejos.\n",
        "   2. **Comunicación:**\n",
        "\n",
        "      - Agentes inteligentes: Los agentes inteligentes pueden comunicarse con otros agentes o sistemas a través de protocolos específicos. Pueden intercambiar información, coordinar acciones y colaborar para lograr objetivos comunes.\n",
        "      - Objetos en la POO: Los objetos en la POO pueden comunicarse entre sí a través de mensajes o métodos. Pueden enviar y recibir información, invocar comportamientos en otros objetos y colaborar para realizar tareas.\n",
        "  \n",
        "  3. **Autonomía:**\n",
        "\n",
        "     - Agentes inteligentes: Los agentes inteligentes son autónomos en el sentido de que pueden tomar decisiones y actuar de manera independiente en función de su conocimiento y objetivos. Pueden adaptarse y aprender a lo largo del tiempo para mejorar su rendimiento.\n",
        "     - Objetos en la POO: Los objetos en la POO no son inherentemente autónomos. Dependen de un programa o un controlador externo para invocar sus métodos y utilizar sus datos. No tienen la capacidad de tomar decisiones por sí mismos.\n",
        "  4. **Enfoque:**\n",
        "\n",
        "    - Agentes inteligentes: Los agentes inteligentes se centran en la interacción con el entorno y la toma de decisiones basada en la percepción y el razonamiento. Se utilizan en aplicaciones de inteligencia artificial y sistemas inteligentes.\n",
        "    - Objetos en la POO: Los objetos en la POO se centran en la encapsulación de datos y comportamientos relacionados en unidades cohesivas. Se utilizan en el desarrollo de software para facilitar la modularidad, reutilización y mantenibilidad del código.\n",
        "\n",
        "4. Usando una celda python desarrolle un agente utilizando la programacion orientada a objetos.\n"
      ],
      "metadata": {
        "id": "sUcy76ZV-ShG"
      }
    },
    {
      "cell_type": "code",
      "source": [
        "class Agente:\n",
        "    def __init__(self, nombre):\n",
        "        self.nombre = nombre\n",
        "\n",
        "    def tomar_decision(self, entorno):\n",
        "        decision = \"Realizar una acción\"\n",
        "        return decision\n",
        "\n",
        "    def actuar(self, decision):\n",
        "        print(f\"{self.nombre} está realizando la acción: {decision}\")\n",
        "\n",
        "agente = Agente(\"Agente1\")\n",
        "\n",
        "entorno = \"Entorno de prueba\"\n",
        "\n",
        "decision = agente.tomar_decision(entorno)\n",
        "\n",
        "agente.actuar(decision)\n"
      ],
      "metadata": {
        "colab": {
          "base_uri": "https://localhost:8080/"
        },
        "id": "IdrCI0ul_0fu",
        "outputId": "179ebd7c-54f4-454f-a18a-c5597fb3ca70"
      },
      "execution_count": 1,
      "outputs": [
        {
          "output_type": "stream",
          "name": "stdout",
          "text": [
            "Agente1 está realizando la acción: Realizar una acción\n"
          ]
        }
      ]
    },
    {
      "cell_type": "markdown",
      "source": [
        "5. Agregue celdas de python que al ejecutarse muestre como resultado (2 puntos):\n",
        "\n",
        "- El factorial de un numero entero ingresado a través de un campo de formulario."
      ],
      "metadata": {
        "id": "tdGv39UaAP9G"
      }
    },
    {
      "cell_type": "code",
      "source": [
        "def calcular_factorial(numero):\n",
        "    factorial = 1\n",
        "    for i in range(1, numero + 1):\n",
        "        factorial *= i\n",
        "    return factorial\n",
        "\n",
        "numero = int(input(\"Ingrese un número entero: \"))\n",
        "factorial = calcular_factorial(numero)\n",
        "print(f\"El factorial de {numero} es: {factorial}\")\n"
      ],
      "metadata": {
        "colab": {
          "base_uri": "https://localhost:8080/"
        },
        "id": "i5zROJrZAbuy",
        "outputId": "fb429721-a70f-4cd1-d2c0-886eebaa2914"
      },
      "execution_count": 2,
      "outputs": [
        {
          "output_type": "stream",
          "name": "stdout",
          "text": [
            "Ingrese un número entero: 10\n",
            "El factorial de 10 es: 3628800\n"
          ]
        }
      ]
    },
    {
      "cell_type": "markdown",
      "source": [
        "  - la tabla de multiplicar de un numero entero ingresado a través de un campo de formulario.\n"
      ],
      "metadata": {
        "id": "XEQyiEr2BP9f"
      }
    },
    {
      "cell_type": "code",
      "source": [
        "numero = int(input(\"Ingrese un número entero: \"))\n",
        "print(f\"Tabla de multiplicar de {numero}:\")\n",
        "for i in range(1, 13):\n",
        "    resultado = numero * i\n",
        "    print(f\"{numero} x {i} = {resultado}\")\n"
      ],
      "metadata": {
        "colab": {
          "base_uri": "https://localhost:8080/"
        },
        "id": "7rnoy-fSBVjK",
        "outputId": "ad856dff-dbcd-48df-c200-d7ad7b85d483"
      },
      "execution_count": 5,
      "outputs": [
        {
          "output_type": "stream",
          "name": "stdout",
          "text": [
            "Ingrese un número entero: 10\n",
            "Tabla de multiplicar de 10:\n",
            "10 x 1 = 10\n",
            "10 x 2 = 20\n",
            "10 x 3 = 30\n",
            "10 x 4 = 40\n",
            "10 x 5 = 50\n",
            "10 x 6 = 60\n",
            "10 x 7 = 70\n",
            "10 x 8 = 80\n",
            "10 x 9 = 90\n",
            "10 x 10 = 100\n",
            "10 x 11 = 110\n",
            "10 x 12 = 120\n"
          ]
        }
      ]
    },
    {
      "cell_type": "markdown",
      "source": [
        "   - la tabla de multiplicar de un numero entero ingresado a través de un campo de formulario, pero que solo muestre los resultados de la multiplicación de los números pares.\n"
      ],
      "metadata": {
        "id": "58icEfYRBeTk"
      }
    },
    {
      "cell_type": "code",
      "source": [
        "numero = int(input(\"Ingrese un número entero: \"))\n",
        "print(f\"Tabla de multiplicar de {numero} (solo números pares):\")\n",
        "for i in range(1, 11):\n",
        "    if i % 2 == 0:\n",
        "        resultado = numero * i\n",
        "        print(f\"{numero} x {i} = {resultado}\")\n"
      ],
      "metadata": {
        "colab": {
          "base_uri": "https://localhost:8080/"
        },
        "id": "xezXRyZpCEjg",
        "outputId": "a1b01c26-db16-4837-de4c-6e7f3a1ce2fb"
      },
      "execution_count": 8,
      "outputs": [
        {
          "output_type": "stream",
          "name": "stdout",
          "text": [
            "Ingrese un número entero: 10\n",
            "Tabla de multiplicar de 10 (solo números pares):\n",
            "10 x 2 = 20\n",
            "10 x 4 = 40\n",
            "10 x 6 = 60\n",
            "10 x 8 = 80\n",
            "10 x 10 = 100\n"
          ]
        }
      ]
    },
    {
      "cell_type": "markdown",
      "source": [
        "   - la tabla de multiplicar de un numero entero ingresado a través de un campo de formulario, pero que solo muestre los resultados de la multiplicación de los números impares.\n"
      ],
      "metadata": {
        "id": "o40WaeKKDIJ_"
      }
    },
    {
      "cell_type": "code",
      "source": [
        "numero = int(input(\"Ingrese un número entero: \"))\n",
        "print(f\"Tabla de multiplicar de {numero} (solo números impares):\")\n",
        "for i in range(1, 11):\n",
        "    if i % 2 != 0:\n",
        "        resultado = numero * i\n",
        "        print(f\"{numero} x {i} = {resultado}\")\n"
      ],
      "metadata": {
        "colab": {
          "base_uri": "https://localhost:8080/"
        },
        "id": "rl1tVKE6DAlr",
        "outputId": "042602e9-5a6f-45d7-9dad-b622e29de5a3"
      },
      "execution_count": 6,
      "outputs": [
        {
          "output_type": "stream",
          "name": "stdout",
          "text": [
            "Ingrese un número entero: 10\n",
            "Tabla de multiplicar de 10 (solo números impares):\n",
            "10 x 1 = 10\n",
            "10 x 3 = 30\n",
            "10 x 5 = 50\n",
            "10 x 7 = 70\n",
            "10 x 9 = 90\n"
          ]
        }
      ]
    },
    {
      "cell_type": "markdown",
      "source": [
        "6. Agregue una celda de código python, que al ejecutarse defina las siguientes funciones (2 puntos):\n",
        "    - suma(a, b) que reciba dos números y retorne la suma de los mismos.\n",
        "    - resta(a, b) que reciba dos números y retorne la resta de los mismos.\n",
        "    - multiplicacion(a, b) que reciba dos números y retorne la multiplicación de los mismos.\n",
        "    - division(a, b) que reciba dos números y retorne la división de los mismos.\n",
        "    - potencia(a, b) que reciba dos números y retorne la potencia de los mismos.\n",
        "    - Ademas Agregue una celda de código python, esta debe contar con 3 campos de formulario. En el primero se ingresa un número entero, en el segundo se ingresa otro número entero, y el tercero debe ser una lista que permita elegir qué operación se va a realizar. Las opciones en la lista son las funciones definidas en la celda anterior. Al ejecutarse la celda, debe mostrar como resultado la operación seleccionada con los dos números ingresados.\n"
      ],
      "metadata": {
        "id": "ZIWyZ35IDkSE"
      }
    },
    {
      "cell_type": "code",
      "source": [
        "def suma(a, b):\n",
        "    return a + b\n",
        "\n",
        "def resta(a, b):\n",
        "    return a - b\n",
        "\n",
        "def multiplicacion(a, b):\n",
        "    return a * b\n",
        "\n",
        "def division(a, b):\n",
        "    return a / b\n",
        "\n",
        "def potencia(a, b):\n",
        "    return a ** b\n",
        "\n",
        "from ipywidgets import interact\n",
        "\n",
        "@interact\n",
        "def operacion_numeros(a=0, b=0, operacion=['suma', 'resta', 'multiplicacion', 'division', 'potencia']):\n",
        "    if operacion == 'suma':\n",
        "        resultado = suma(a, b)\n",
        "    elif operacion == 'resta':\n",
        "        resultado = resta(a, b)\n",
        "    elif operacion == 'multiplicacion':\n",
        "        resultado = multiplicacion(a, b)\n",
        "    elif operacion == 'division':\n",
        "        resultado = division(a, b)\n",
        "    elif operacion == 'potencia':\n",
        "        resultado = potencia(a, b)\n",
        "\n",
        "    print(f\"El resultado de la operación {operacion} entre {a} y {b} es: {resultado}\")\n"
      ],
      "metadata": {
        "colab": {
          "base_uri": "https://localhost:8080/",
          "height": 131,
          "referenced_widgets": [
            "d4a90d5d7ebf4c96b1b7bb5b666513c0",
            "4450cf6508bb4ec99d49da95a5e05b15",
            "4474f62091c04cf6bb76641e56e0b0d9",
            "972ccb2cae2e4911b35d24c24251b04c",
            "d8fb914d025d437d8394f7df47743dd9",
            "8ee6f4917f9f4a5c91b752b526da61c4",
            "f56701d6382e449983d517e6c25bf7b8",
            "5ac86d06c83f4efbbc601f66d13e1d7c",
            "20900ec1960c4e14a1b27c3967fdd30a",
            "2172da183c54477a9e400d6389bae629",
            "bbbd8fb0150945c591a78c5cd0e5f671",
            "0113f79a53dc435cb044d8d29b5d9673",
            "139c10726a3947a895632fbd09506fd9"
          ]
        },
        "id": "dHhbE8Y0OOws",
        "outputId": "09d3a6a2-0988-4283-e589-5658456a75c7"
      },
      "execution_count": 9,
      "outputs": [
        {
          "output_type": "display_data",
          "data": {
            "text/plain": [
              "interactive(children=(IntSlider(value=0, description='a', max=1), IntSlider(value=0, description='b', max=1), …"
            ],
            "application/vnd.jupyter.widget-view+json": {
              "version_major": 2,
              "version_minor": 0,
              "model_id": "d4a90d5d7ebf4c96b1b7bb5b666513c0"
            }
          },
          "metadata": {}
        }
      ]
    },
    {
      "cell_type": "markdown",
      "source": [
        "7. La lista de personas (2 puntos):\n",
        "\n",
        "- Agrega una celda de código en Python que, al ejecutarse, cree un archivo de texto CSV con los encabezados \"nombre\", \"apellido\" y \"edad\" y lo guarde en el disco del entorno de Colab.\n",
        "\n"
      ],
      "metadata": {
        "id": "rSa_QF5tPVpH"
      }
    },
    {
      "cell_type": "code",
      "source": [
        "import csv\n",
        "\n",
        "datos = [\n",
        "    [\"John\", \"Doe\", 25],\n",
        "    [\"Jane\", \"Smith\", 30],\n",
        "    [\"Michael\", \"Johnson\", 35]\n",
        "]\n",
        "\n",
        "ruta_archivo = \"/content/nombre.csv\"\n",
        "\n",
        "with open(ruta_archivo, mode='w', newline='') as archivo:\n",
        "    escritor_csv = csv.writer(archivo)\n",
        "    escritor_csv.writerow([\"nombre\", \"apellido\", \"edad\"])\n",
        "\n",
        "with open(ruta_archivo, mode='a', newline='') as archivo:\n",
        "    escritor_csv = csv.writer(archivo)\n",
        "    escritor_csv.writerows(datos)\n",
        "\n",
        "print(\"Archivo CSV creado exitosamente.\")\n"
      ],
      "metadata": {
        "colab": {
          "base_uri": "https://localhost:8080/"
        },
        "id": "Pt9-X3PbPqha",
        "outputId": "957b5b95-a0c9-496c-9c8e-8f5119d44a79"
      },
      "execution_count": 10,
      "outputs": [
        {
          "output_type": "stream",
          "name": "stdout",
          "text": [
            "Archivo CSV creado exitosamente.\n"
          ]
        }
      ]
    },
    {
      "cell_type": "markdown",
      "source": [
        "  \n",
        "  - Luego, agrega otra celda de código Python que permita al usuario ingresar datos para el archivo CSV creado anteriormente. Deberás incluir campos para ingresar el nombre, apellido y edad. El programa debe tomar estas entradas y agregarlas al archivo CSV existente."
      ],
      "metadata": {
        "id": "sxTuxEu5PrMS"
      }
    },
    {
      "cell_type": "code",
      "source": [
        "import csv\n",
        "\n",
        "ruta_archivo = \"/content/nombre.csv\"\n",
        "\n",
        "nombre = input(\"Ingrese el nombre: \")\n",
        "apellido = input(\"Ingrese el apellido: \")\n",
        "edad = input(\"Ingrese la edad: \")\n",
        "\n",
        "with open(ruta_archivo, mode='a', newline='') as archivo:\n",
        "    escritor_csv = csv.writer(archivo)\n",
        "    escritor_csv.writerow([nombre, apellido, edad])\n",
        "\n",
        "print(\"Datos agregados exitosamente al archivo CSV.\")\n"
      ],
      "metadata": {
        "colab": {
          "base_uri": "https://localhost:8080/"
        },
        "id": "NJdmpE-7PzEr",
        "outputId": "e2a01060-7c8d-496c-a601-d0a3f5bbafc7"
      },
      "execution_count": 12,
      "outputs": [
        {
          "output_type": "stream",
          "name": "stdout",
          "text": [
            "Ingrese el nombre: Juan\n",
            "Ingrese el apellido: Pablo\n",
            "Ingrese la edad: 40\n",
            "Datos agregados exitosamente al archivo CSV.\n"
          ]
        }
      ]
    },
    {
      "cell_type": "markdown",
      "source": [
        " - Finalmente, agrega una tercera celda de código Python que, al ejecutarse, muestre las entradas del archivo CSV creado anteriormente. El programa debe permitir al usuario elegir el campo por el cual se ordenarán las entradas, ya sea por nombre, apellido o edad, y mostrar las entradas ordenadas según el campo seleccionado."
      ],
      "metadata": {
        "id": "_6JgLCYsQMxJ"
      }
    },
    {
      "cell_type": "code",
      "source": [
        "import csv\n",
        "\n",
        "def mostrar_entradas(archivo_csv):\n",
        "    with open(archivo_csv, 'r') as archivo:\n",
        "        lector_csv = csv.DictReader(archivo)\n",
        "        entradas = list(lector_csv)\n",
        "\n",
        "        if len(entradas) == 0:\n",
        "            print(\"El archivo CSV está vacío.\")\n",
        "            return\n",
        "\n",
        "        print(\"Las entradas del archivo CSV son las siguientes:\")\n",
        "        for entrada in entradas:\n",
        "            print(entrada)\n",
        "\n",
        "def ordenar_entradas(archivo_csv, campo):\n",
        "    with open(archivo_csv, 'r') as archivo:\n",
        "        lector_csv = csv.DictReader(archivo)\n",
        "        entradas = list(lector_csv)\n",
        "\n",
        "        if len(entradas) == 0:\n",
        "            print(\"El archivo CSV está vacío.\")\n",
        "            return\n",
        "\n",
        "        entradas_ordenadas = sorted(entradas, key=lambda x: x[campo])\n",
        "\n",
        "        print(f\"Las entradas ordenadas por {campo} son las siguientes:\")\n",
        "        for entrada in entradas_ordenadas:\n",
        "            print(entrada)\n",
        "\n",
        "archivo_csv = 'nombre.csv'\n",
        "\n",
        "mostrar_entradas(archivo_csv)\n",
        "\n",
        "campo_ordenamiento = input(\"Ingrese el campo por el cual desea ordenar las entradas (nombre, apellido, edad): \")\n",
        "\n",
        "ordenar_entradas(archivo_csv, campo_ordenamiento)\n"
      ],
      "metadata": {
        "colab": {
          "base_uri": "https://localhost:8080/"
        },
        "id": "mDaLZToXQO0y",
        "outputId": "11deb27a-877a-426c-f7c0-75a0969eaac8"
      },
      "execution_count": 14,
      "outputs": [
        {
          "output_type": "stream",
          "name": "stdout",
          "text": [
            "Las entradas del archivo CSV son las siguientes:\n",
            "{'nombre': 'John', 'apellido': 'Doe', 'edad': '25'}\n",
            "{'nombre': 'Jane', 'apellido': 'Smith', 'edad': '30'}\n",
            "{'nombre': 'Michael', 'apellido': 'Johnson', 'edad': '35'}\n",
            "{'nombre': 'Juan', 'apellido': 'Pablo', 'edad': '40'}\n",
            "Ingrese el campo por el cual desea ordenar las entradas (nombre, apellido, edad): nombre\n",
            "Las entradas ordenadas por nombre son las siguientes:\n",
            "{'nombre': 'Jane', 'apellido': 'Smith', 'edad': '30'}\n",
            "{'nombre': 'John', 'apellido': 'Doe', 'edad': '25'}\n",
            "{'nombre': 'Juan', 'apellido': 'Pablo', 'edad': '40'}\n",
            "{'nombre': 'Michael', 'apellido': 'Johnson', 'edad': '35'}\n"
          ]
        }
      ]
    }
  ]
}