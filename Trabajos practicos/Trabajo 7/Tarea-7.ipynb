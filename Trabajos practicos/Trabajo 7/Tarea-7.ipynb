{
 "cells": [
  {
   "cell_type": "markdown",
   "metadata": {},
   "source": [
    "### El clasificador (Una clase por imagen)\n",
    "\n",
    "Utilizando la siguiente arquitectura:\n",
    "\n",
    "```python\n",
    "class NN(nn.Module):\n",
    "    def __init__(self, num_classes):\n",
    "        super().__init__() \n",
    "        self.model = models.resnet18(weights=models.ResNet18_Weights.IMAGENET1K_V1, progress=True)\n",
    "        for param in self.model.parameters():\n",
    "            param.requires_grad = False\n",
    "         \n",
    "        self.model.fc = nn.Sequential(\n",
    "            nn.Linear(self.model.fc.in_features, 512),  \n",
    "            nn.ReLU(inplace=True),   \n",
    "            nn.Dropout(0.2), \n",
    "            nn.Linear(512, num_classes) \n",
    "        )\n",
    "        \n",
    "    def forward(self, x):\n",
    "        return self.model(x)\n",
    "\n",
    "\n",
    "```\n",
    "\n",
    "Entrenar una red neuronal que pueda clasificar imágenes en las siguientes clases: \n",
    "\n",
    "- Mujer joven\n",
    "- Mujer mayor\n",
    "- Hombre joven\n",
    "- Hombre mayor\n",
    "- Niño\n",
    "- Niña\n",
    "- Perro\n",
    "- Gato\n",
    "- Ilustración\n",
    "\n",
    "Las etiquetas deben respetar ese orden, Mujer joven=0, Mujer mayor=1, Hombre joven=2, Hombre mayor=3, Niño=4, Niña=5, Perro=6, Gato=7, Ilustración=8.  \n",
    "\n",
    "Lo que usted subirá a la plataforma es únicamente el modelo en formato safetensors, con su nombre y matricula como nombre del modelo.\n",
    "\n",
    "No pueden repetir modelos, los modelos iguales tendrán 0 de nota.\n",
    "\n",
    "Si usan un formato diferente o cambian la arquitectura valdrá 0.\n",
    "\n",
    "No incumpliendo estos puntos su nota dependerá del acuracy alcanzado con su modelo, por lo que esfuércese con la recolección de datos y entrenamiento de su modelo y vera las recompensas."
   ]
  },
  {
   "cell_type": "markdown",
   "metadata": {},
   "source": []
  }
 ],
 "metadata": {
  "language_info": {
   "name": "python"
  }
 },
 "nbformat": 4,
 "nbformat_minor": 2
}
