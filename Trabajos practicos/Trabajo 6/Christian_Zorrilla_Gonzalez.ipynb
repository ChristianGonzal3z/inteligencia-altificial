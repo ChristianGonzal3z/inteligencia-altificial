{
 "cells": [
  {
   "cell_type": "markdown",
   "metadata": {},
   "source": [
    "# Practica #6\n",
    "\n",
    "## Nombre: Christian Zorrilla Gonzalez\n",
    "\n",
    "## Matrícula: 21-SISN-2-070\n",
    "\n",
    "## Fecha de entrega: 18 de Octubre de 2023\n",
    "\n",
    "## Frases e imágenes\n",
    "\n",
    "Utilizando una interfaz Gradio, crear una aplicación que reciba una entrada de texto y, al ejecutarlo, devuelva una frase relacionada y una imagen.\n",
    "\n",
    "Ejemplo: si introducimos \"guerra\", debe mostrar una imagen relacionada con la guerra y una frase sobre este tema.\n",
    "\n",
    "## Traductor\n",
    "\n",
    "Utilizando una interfaz Gradio, crear una aplicación que reciba una entrada de texto y lo traduzca a uno de los idiomas disponibles en una lista. La traducción debe realizarse sin agregar nada más. La lista debe contener al menos 5 idiomas.\n",
    "\n",
    "Ejemplo: si la entrada es \"Watashi wa michi to shinri to inochi desu\" y se selecciona el idioma español, debe devolver únicamente: \"Yo soy el camino, la verdad y la vida\", sin agregar nada más.\""
   ]
  },
  {
   "cell_type": "code",
   "execution_count": null,
   "metadata": {},
   "outputs": [],
   "source": [
    "import gradio as gr\n",
    "import requests\n",
    "\n",
    "# Función para obtener una imagen relacionada con la palabra clave\n",
    "def obtener_imagen(palabra_clave):\n",
    "    url = f\"https://api.unsplash.com/photos/random?query={palabra_clave}&client_id=YOUR_UNSPLASH_ACCESS_KEY\"\n",
    "    response = requests.get(url)\n",
    "    data = response.json()\n",
    "    return data['urls']['regular']\n",
    "\n",
    "# Función para obtener una frase relacionada con la palabra clave\n",
    "def obtener_frase(palabra_clave):\n",
    "    url = f\"https://api.example.com/frases?palabra={palabra_clave}\"\n",
    "    response = requests.get(url)\n",
    "    data = response.json()\n",
    "    return data['frase']\n",
    "\n",
    "# Función para ejecutar cuando se haga una predicción en Gradio\n",
    "def predicciones(palabra_clave):\n",
    "    imagen_url = obtener_imagen(palabra_clave)\n",
    "    frase = obtener_frase(palabra_clave)\n",
    "    return frase, imagen_url\n",
    "\n",
    "# Crear una interfaz Gradio\n",
    "iface = gr.Interface(fn=predicciones, inputs=\"text\", outputs=[\"text\", \"image\"])\n",
    "\n",
    "# Ejecutar la interfaz de Gradio\n",
    "iface.launch()"
   ]
  },
  {
   "cell_type": "markdown",
   "metadata": {},
   "source": [
    "## Traductor\n"
   ]
  },
  {
   "cell_type": "code",
   "execution_count": 1,
   "metadata": {},
   "outputs": [
    {
     "ename": "AttributeError",
     "evalue": "module 'gradio' has no attribute 'Select'",
     "output_type": "error",
     "traceback": [
      "\u001b[0;31m---------------------------------------------------------------------------\u001b[0m",
      "\u001b[0;31mAttributeError\u001b[0m                            Traceback (most recent call last)",
      "\u001b[1;32m/workspaces/inteligencia-altificial/Trabajos practicos/Trabajo 6/Christian_Zorrilla_Gonzalez.ipynb Cell 4\u001b[0m line \u001b[0;36m2\n\u001b[1;32m     <a href='vscode-notebook-cell://codespaces%2Bopulent-winner-w479vj45g9g294v6/workspaces/inteligencia-altificial/Trabajos%20practicos/Trabajo%206/Christian_Zorrilla_Gonzalez.ipynb#W3sdnNjb2RlLXJlbW90ZQ%3D%3D?line=19'>20</a>\u001b[0m         resultado\u001b[39m.\u001b[39mset_text(traducir(texto, idioma))\n\u001b[1;32m     <a href='vscode-notebook-cell://codespaces%2Bopulent-winner-w479vj45g9g294v6/workspaces/inteligencia-altificial/Trabajos%20practicos/Trabajo%206/Christian_Zorrilla_Gonzalez.ipynb#W3sdnNjb2RlLXJlbW90ZQ%3D%3D?line=21'>22</a>\u001b[0m     \u001b[39mreturn\u001b[39;00m gr\u001b[39m.\u001b[39mInterface(entrada, idioma, resultado)\n\u001b[0;32m---> <a href='vscode-notebook-cell://codespaces%2Bopulent-winner-w479vj45g9g294v6/workspaces/inteligencia-altificial/Trabajos%20practicos/Trabajo%206/Christian_Zorrilla_Gonzalez.ipynb#W3sdnNjb2RlLXJlbW90ZQ%3D%3D?line=23'>24</a>\u001b[0m app()\n",
      "\u001b[1;32m/workspaces/inteligencia-altificial/Trabajos practicos/Trabajo 6/Christian_Zorrilla_Gonzalez.ipynb Cell 4\u001b[0m line \u001b[0;36m1\n\u001b[1;32m     <a href='vscode-notebook-cell://codespaces%2Bopulent-winner-w479vj45g9g294v6/workspaces/inteligencia-altificial/Trabajos%20practicos/Trabajo%206/Christian_Zorrilla_Gonzalez.ipynb#W3sdnNjb2RlLXJlbW90ZQ%3D%3D?line=12'>13</a>\u001b[0m \u001b[39mdef\u001b[39;00m \u001b[39mapp\u001b[39m():\n\u001b[1;32m     <a href='vscode-notebook-cell://codespaces%2Bopulent-winner-w479vj45g9g294v6/workspaces/inteligencia-altificial/Trabajos%20practicos/Trabajo%206/Christian_Zorrilla_Gonzalez.ipynb#W3sdnNjb2RlLXJlbW90ZQ%3D%3D?line=13'>14</a>\u001b[0m     entrada \u001b[39m=\u001b[39m gr\u001b[39m.\u001b[39mTextbox()\n\u001b[0;32m---> <a href='vscode-notebook-cell://codespaces%2Bopulent-winner-w479vj45g9g294v6/workspaces/inteligencia-altificial/Trabajos%20practicos/Trabajo%206/Christian_Zorrilla_Gonzalez.ipynb#W3sdnNjb2RlLXJlbW90ZQ%3D%3D?line=14'>15</a>\u001b[0m     idioma \u001b[39m=\u001b[39m gr\u001b[39m.\u001b[39;49mSelect(idiomas)\n\u001b[1;32m     <a href='vscode-notebook-cell://codespaces%2Bopulent-winner-w479vj45g9g294v6/workspaces/inteligencia-altificial/Trabajos%20practicos/Trabajo%206/Christian_Zorrilla_Gonzalez.ipynb#W3sdnNjb2RlLXJlbW90ZQ%3D%3D?line=15'>16</a>\u001b[0m     resultado \u001b[39m=\u001b[39m gr\u001b[39m.\u001b[39mOutput()\n\u001b[1;32m     <a href='vscode-notebook-cell://codespaces%2Bopulent-winner-w479vj45g9g294v6/workspaces/inteligencia-altificial/Trabajos%20practicos/Trabajo%206/Christian_Zorrilla_Gonzalez.ipynb#W3sdnNjb2RlLXJlbW90ZQ%3D%3D?line=17'>18</a>\u001b[0m     \u001b[39m@gr\u001b[39m\u001b[39m.\u001b[39mon_submit\n\u001b[1;32m     <a href='vscode-notebook-cell://codespaces%2Bopulent-winner-w479vj45g9g294v6/workspaces/inteligencia-altificial/Trabajos%20practicos/Trabajo%206/Christian_Zorrilla_Gonzalez.ipynb#W3sdnNjb2RlLXJlbW90ZQ%3D%3D?line=18'>19</a>\u001b[0m     \u001b[39mdef\u001b[39;00m \u001b[39mhandle_submit\u001b[39m(texto, idioma):\n",
      "\u001b[0;31mAttributeError\u001b[0m: module 'gradio' has no attribute 'Select'"
     ]
    }
   ],
   "source": [
    "import gradio as gr\n",
    "import googletrans\n",
    "\n",
    "# Lista de idiomas disponibles\n",
    "idiomas = [\"español\", \"inglés\", \"francés\", \"portugués\", \"italiano\"]\n",
    "\n",
    "# Función de traducción\n",
    "def traducir(texto, idioma):\n",
    "    traductor = googletrans.Translator()\n",
    "    return traductor.translate(texto, dest=idioma).text\n",
    "\n",
    "# Interfaz Gradio\n",
    "def app():\n",
    "    entrada = gr.Textbox()\n",
    "    idioma = gr.Select(idiomas)\n",
    "    resultado = gr.Output()\n",
    "\n",
    "    @gr.on_submit\n",
    "    def handle_submit(texto, idioma):\n",
    "        resultado.set_text(traducir(texto, idioma))\n",
    "\n",
    "    return gr.Interface(entrada, idioma, resultado)\n",
    "\n",
    "app()"
   ]
  }
 ],
 "metadata": {
  "kernelspec": {
   "display_name": "Python 3",
   "language": "python",
   "name": "python3"
  },
  "language_info": {
   "codemirror_mode": {
    "name": "ipython",
    "version": 3
   },
   "file_extension": ".py",
   "mimetype": "text/x-python",
   "name": "python",
   "nbconvert_exporter": "python",
   "pygments_lexer": "ipython3",
   "version": "3.10.8"
  }
 },
 "nbformat": 4,
 "nbformat_minor": 2
}
