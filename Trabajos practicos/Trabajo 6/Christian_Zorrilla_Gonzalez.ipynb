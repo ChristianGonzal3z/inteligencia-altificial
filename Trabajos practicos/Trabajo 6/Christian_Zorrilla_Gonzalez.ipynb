{
 "cells": [
  {
   "cell_type": "markdown",
   "metadata": {},
   "source": [
    "# Practica #6\n",
    "\n",
    "## Nombre: Christian Zorrilla Gonzalez\n",
    "\n",
    "## Matrícula: 21-SISN-2-070\n",
    "\n",
    "## Fecha de entrega: 18 de Octubre de 2023\n"
   ]
  },
  {
   "cell_type": "markdown",
   "metadata": {},
   "source": [
    "## Traductor\n",
    "\n",
    "Utilizando una interfaz Gradio, crear una aplicación que reciba una entrada de texto y lo traduzca a uno de los idiomas disponibles en una lista. La traducción debe realizarse sin agregar nada más. La lista debe contener al menos 5 idiomas.\n",
    "\n",
    "Ejemplo: si la entrada es \"Watashi wa michi to shinri to inochi desu\" y se selecciona el idioma español, debe devolver únicamente: \"Yo soy el camino, la verdad y la vida\", sin agregar nada más.\""
   ]
  },
  {
   "cell_type": "code",
   "execution_count": null,
   "metadata": {},
   "outputs": [],
   "source": [
    "import gradio as gr\n",
    "from transformers import AutoTokenizer, AutoModelForSeq2SeqLM, pipeline\n",
    "import torch\n",
    "\n",
    "# this model was loaded from https://hf.co/models\n",
    "model = AutoModelForSeq2SeqLM.from_pretrained(\"facebook/nllb-200-distilled-600M\")\n",
    "tokenizer = AutoTokenizer.from_pretrained(\"facebook/nllb-200-distilled-600M\")\n",
    "device = 0 if torch.cuda.is_available() else -1\n",
    "LANGS = [\"ace_Arab\", \"eng_Latn\", \"fra_Latn\", \"spa_Latn\"]\n",
    "\n",
    "def translate(text, src_lang, tgt_lang):\n",
    "    \"\"\"\n",
    "    Translate the text from source lang to target lang\n",
    "    \"\"\"\n",
    "    translation_pipeline = pipeline(\"translation\", model=model, tokenizer=tokenizer, src_lang=src_lang, tgt_lang=tgt_lang, max_length=400, device=device)\n",
    "    result = translation_pipeline(text)\n",
    "    return result[0]['translation_text']\n",
    "\n",
    "demo = gr.Interface(\n",
    "    fn=translate,\n",
    "    inputs=[\n",
    "        gr.components.Textbox(label=\"Text\"),\n",
    "        gr.components.Dropdown(label=\"Source Language\", choices=LANGS),\n",
    "        gr.components.Dropdown(label=\"Target Language\", choices=LANGS),\n",
    "    ],\n",
    "    outputs=[\"text\"],\n",
    "    examples=[[\"Building a translation demo with Gradio is so easy!\", \"eng_Latn\", \"spa_Latn\"]],\n",
    "    cache_examples=False,\n",
    "    title=\"Translation Demo\",\n",
    "    description=\"This demo is a simplified version of the original [NLLB-Translator](https://huggingface.co/spaces/Narrativaai/NLLB-Translator) space\"\n",
    ")\n",
    "\n",
    "demo.launch()"
   ]
  },
  {
   "cell_type": "markdown",
   "metadata": {},
   "source": [
    "## Imagenes\n",
    "\n",
    "Utilizando una interfaz Gradio, crear una aplicación que reciba una entrada de texto y, al ejecutarlo, devuelva una frase relacionada y una imagen.\n",
    "\n",
    "Ejemplo: si introducimos \"guerra\", debe mostrar una imagen relacionada con la guerra y una frase sobre este tema."
   ]
  },
  {
   "cell_type": "code",
   "execution_count": 4,
   "metadata": {},
   "outputs": [
    {
     "name": "stdout",
     "output_type": "stream",
     "text": [
      "Requirement already satisfied: gradio in /usr/local/python/3.10.8/lib/python3.10/site-packages (3.47.1)\n",
      "Requirement already satisfied: aiofiles<24.0,>=22.0 in /usr/local/python/3.10.8/lib/python3.10/site-packages (from gradio) (23.2.1)\n",
      "Requirement already satisfied: altair<6.0,>=4.2.0 in /usr/local/python/3.10.8/lib/python3.10/site-packages (from gradio) (5.1.2)\n",
      "Requirement already satisfied: fastapi in /usr/local/python/3.10.8/lib/python3.10/site-packages (from gradio) (0.103.2)\n",
      "Requirement already satisfied: ffmpy in /usr/local/python/3.10.8/lib/python3.10/site-packages (from gradio) (0.3.1)\n",
      "Requirement already satisfied: gradio-client==0.6.0 in /usr/local/python/3.10.8/lib/python3.10/site-packages (from gradio) (0.6.0)\n",
      "Requirement already satisfied: httpx in /usr/local/python/3.10.8/lib/python3.10/site-packages (from gradio) (0.13.3)\n",
      "Requirement already satisfied: huggingface-hub>=0.14.0 in /usr/local/python/3.10.8/lib/python3.10/site-packages (from gradio) (0.17.3)\n",
      "Requirement already satisfied: importlib-resources<7.0,>=1.3 in /usr/local/python/3.10.8/lib/python3.10/site-packages (from gradio) (6.1.0)\n",
      "Requirement already satisfied: jinja2<4.0 in /home/codespace/.local/lib/python3.10/site-packages (from gradio) (3.1.2)\n",
      "Requirement already satisfied: markupsafe~=2.0 in /home/codespace/.local/lib/python3.10/site-packages (from gradio) (2.1.3)\n",
      "Requirement already satisfied: matplotlib~=3.0 in /usr/local/python/3.10.8/lib/python3.10/site-packages (from gradio) (3.7.0)\n",
      "Requirement already satisfied: numpy~=1.0 in /usr/local/python/3.10.8/lib/python3.10/site-packages (from gradio) (1.24.2)\n",
      "Requirement already satisfied: orjson~=3.0 in /usr/local/python/3.10.8/lib/python3.10/site-packages (from gradio) (3.9.9)\n",
      "Requirement already satisfied: packaging in /home/codespace/.local/lib/python3.10/site-packages (from gradio) (23.1)\n",
      "Requirement already satisfied: pandas<3.0,>=1.0 in /usr/local/python/3.10.8/lib/python3.10/site-packages (from gradio) (1.5.3)\n",
      "Requirement already satisfied: pillow<11.0,>=8.0 in /home/codespace/.local/lib/python3.10/site-packages (from gradio) (10.0.0)\n",
      "Requirement already satisfied: pydantic!=1.8,!=1.8.1,!=2.0.0,!=2.0.1,<3.0.0,>=1.7.4 in /usr/local/python/3.10.8/lib/python3.10/site-packages (from gradio) (2.4.2)\n",
      "Requirement already satisfied: pydub in /usr/local/python/3.10.8/lib/python3.10/site-packages (from gradio) (0.25.1)\n",
      "Requirement already satisfied: python-multipart in /usr/local/python/3.10.8/lib/python3.10/site-packages (from gradio) (0.0.6)\n",
      "Requirement already satisfied: pyyaml<7.0,>=5.0 in /home/codespace/.local/lib/python3.10/site-packages (from gradio) (6.0.1)\n",
      "Requirement already satisfied: requests~=2.0 in /home/codespace/.local/lib/python3.10/site-packages (from gradio) (2.31.0)\n",
      "Requirement already satisfied: semantic-version~=2.0 in /usr/local/python/3.10.8/lib/python3.10/site-packages (from gradio) (2.10.0)\n",
      "Requirement already satisfied: typing-extensions~=4.0 in /home/codespace/.local/lib/python3.10/site-packages (from gradio) (4.7.1)\n",
      "Requirement already satisfied: uvicorn>=0.14.0 in /usr/local/python/3.10.8/lib/python3.10/site-packages (from gradio) (0.23.2)\n",
      "Requirement already satisfied: websockets<12.0,>=10.0 in /usr/local/python/3.10.8/lib/python3.10/site-packages (from gradio) (11.0.3)\n",
      "Requirement already satisfied: fsspec in /usr/local/python/3.10.8/lib/python3.10/site-packages (from gradio-client==0.6.0->gradio) (2023.9.2)\n",
      "Requirement already satisfied: jsonschema>=3.0 in /home/codespace/.local/lib/python3.10/site-packages (from altair<6.0,>=4.2.0->gradio) (4.19.0)\n",
      "Requirement already satisfied: toolz in /usr/local/python/3.10.8/lib/python3.10/site-packages (from altair<6.0,>=4.2.0->gradio) (0.12.0)\n",
      "Requirement already satisfied: filelock in /home/codespace/.local/lib/python3.10/site-packages (from huggingface-hub>=0.14.0->gradio) (3.12.3)\n",
      "Requirement already satisfied: tqdm>=4.42.1 in /usr/local/python/3.10.8/lib/python3.10/site-packages (from huggingface-hub>=0.14.0->gradio) (4.64.0)\n",
      "Requirement already satisfied: contourpy>=1.0.1 in /home/codespace/.local/lib/python3.10/site-packages (from matplotlib~=3.0->gradio) (1.1.0)\n",
      "Requirement already satisfied: cycler>=0.10 in /home/codespace/.local/lib/python3.10/site-packages (from matplotlib~=3.0->gradio) (0.11.0)\n",
      "Requirement already satisfied: fonttools>=4.22.0 in /home/codespace/.local/lib/python3.10/site-packages (from matplotlib~=3.0->gradio) (4.42.1)\n",
      "Requirement already satisfied: kiwisolver>=1.0.1 in /home/codespace/.local/lib/python3.10/site-packages (from matplotlib~=3.0->gradio) (1.4.5)\n",
      "Requirement already satisfied: pyparsing>=2.3.1 in /home/codespace/.local/lib/python3.10/site-packages (from matplotlib~=3.0->gradio) (3.0.9)\n",
      "Requirement already satisfied: python-dateutil>=2.7 in /home/codespace/.local/lib/python3.10/site-packages (from matplotlib~=3.0->gradio) (2.8.2)\n",
      "Requirement already satisfied: pytz>=2020.1 in /home/codespace/.local/lib/python3.10/site-packages (from pandas<3.0,>=1.0->gradio) (2023.3.post1)\n",
      "Requirement already satisfied: annotated-types>=0.4.0 in /usr/local/python/3.10.8/lib/python3.10/site-packages (from pydantic!=1.8,!=1.8.1,!=2.0.0,!=2.0.1,<3.0.0,>=1.7.4->gradio) (0.6.0)\n",
      "Requirement already satisfied: pydantic-core==2.10.1 in /usr/local/python/3.10.8/lib/python3.10/site-packages (from pydantic!=1.8,!=1.8.1,!=2.0.0,!=2.0.1,<3.0.0,>=1.7.4->gradio) (2.10.1)\n",
      "Requirement already satisfied: charset-normalizer<4,>=2 in /home/codespace/.local/lib/python3.10/site-packages (from requests~=2.0->gradio) (3.2.0)\n",
      "Requirement already satisfied: idna<4,>=2.5 in /usr/local/python/3.10.8/lib/python3.10/site-packages (from requests~=2.0->gradio) (2.10)\n",
      "Requirement already satisfied: urllib3<3,>=1.21.1 in /home/codespace/.local/lib/python3.10/site-packages (from requests~=2.0->gradio) (2.0.4)\n",
      "Requirement already satisfied: certifi>=2017.4.17 in /home/codespace/.local/lib/python3.10/site-packages (from requests~=2.0->gradio) (2023.7.22)\n",
      "Requirement already satisfied: click>=7.0 in /usr/local/python/3.10.8/lib/python3.10/site-packages (from uvicorn>=0.14.0->gradio) (8.1.7)\n",
      "Requirement already satisfied: h11>=0.8 in /usr/local/python/3.10.8/lib/python3.10/site-packages (from uvicorn>=0.14.0->gradio) (0.9.0)\n",
      "Requirement already satisfied: anyio<4.0.0,>=3.7.1 in /usr/local/python/3.10.8/lib/python3.10/site-packages (from fastapi->gradio) (3.7.1)\n",
      "Requirement already satisfied: starlette<0.28.0,>=0.27.0 in /usr/local/python/3.10.8/lib/python3.10/site-packages (from fastapi->gradio) (0.27.0)\n",
      "Requirement already satisfied: hstspreload in /usr/local/python/3.10.8/lib/python3.10/site-packages (from httpx->gradio) (2023.1.1)\n",
      "Requirement already satisfied: sniffio in /home/codespace/.local/lib/python3.10/site-packages (from httpx->gradio) (1.3.0)\n",
      "Requirement already satisfied: chardet==3.* in /usr/local/python/3.10.8/lib/python3.10/site-packages (from httpx->gradio) (3.0.4)\n",
      "Requirement already satisfied: rfc3986<2,>=1.3 in /usr/local/python/3.10.8/lib/python3.10/site-packages (from httpx->gradio) (1.5.0)\n",
      "Requirement already satisfied: httpcore==0.9.* in /usr/local/python/3.10.8/lib/python3.10/site-packages (from httpx->gradio) (0.9.1)\n",
      "Requirement already satisfied: h2==3.* in /usr/local/python/3.10.8/lib/python3.10/site-packages (from httpcore==0.9.*->httpx->gradio) (3.2.0)\n",
      "Requirement already satisfied: hyperframe<6,>=5.2.0 in /usr/local/python/3.10.8/lib/python3.10/site-packages (from h2==3.*->httpcore==0.9.*->httpx->gradio) (5.2.0)\n",
      "Requirement already satisfied: hpack<4,>=3.0 in /usr/local/python/3.10.8/lib/python3.10/site-packages (from h2==3.*->httpcore==0.9.*->httpx->gradio) (3.0.0)\n",
      "Requirement already satisfied: exceptiongroup in /home/codespace/.local/lib/python3.10/site-packages (from anyio<4.0.0,>=3.7.1->fastapi->gradio) (1.1.3)\n",
      "Requirement already satisfied: attrs>=22.2.0 in /home/codespace/.local/lib/python3.10/site-packages (from jsonschema>=3.0->altair<6.0,>=4.2.0->gradio) (23.1.0)\n",
      "Requirement already satisfied: jsonschema-specifications>=2023.03.6 in /home/codespace/.local/lib/python3.10/site-packages (from jsonschema>=3.0->altair<6.0,>=4.2.0->gradio) (2023.7.1)\n",
      "Requirement already satisfied: referencing>=0.28.4 in /home/codespace/.local/lib/python3.10/site-packages (from jsonschema>=3.0->altair<6.0,>=4.2.0->gradio) (0.30.2)\n",
      "Requirement already satisfied: rpds-py>=0.7.1 in /home/codespace/.local/lib/python3.10/site-packages (from jsonschema>=3.0->altair<6.0,>=4.2.0->gradio) (0.10.2)\n",
      "Requirement already satisfied: six>=1.5 in /home/codespace/.local/lib/python3.10/site-packages (from python-dateutil>=2.7->matplotlib~=3.0->gradio) (1.16.0)\n"
     ]
    }
   ],
   "source": [
    "!pip install gradio"
   ]
  },
  {
   "cell_type": "code",
   "execution_count": 3,
   "metadata": {},
   "outputs": [
    {
     "ename": "AttributeError",
     "evalue": "partially initialized module 'gradio' has no attribute 'Interface' (most likely due to a circular import)",
     "output_type": "error",
     "traceback": [
      "\u001b[0;31m---------------------------------------------------------------------------\u001b[0m",
      "\u001b[0;31mAttributeError\u001b[0m                            Traceback (most recent call last)",
      "\u001b[1;32m/workspaces/inteligencia-altificial/Trabajos practicos/Trabajo 6/Christian_Zorrilla_Gonzalez.ipynb Cell 6\u001b[0m line \u001b[0;36m1\n\u001b[0;32m----> <a href='vscode-notebook-cell://codespaces%2Bopulent-winner-w479vj45g9g294v6/workspaces/inteligencia-altificial/Trabajos%20practicos/Trabajo%206/Christian_Zorrilla_Gonzalez.ipynb#W4sdnNjb2RlLXJlbW90ZQ%3D%3D?line=0'>1</a>\u001b[0m \u001b[39mimport\u001b[39;00m \u001b[39mgradio\u001b[39;00m \u001b[39mas\u001b[39;00m \u001b[39mgr\u001b[39;00m\n\u001b[1;32m      <a href='vscode-notebook-cell://codespaces%2Bopulent-winner-w479vj45g9g294v6/workspaces/inteligencia-altificial/Trabajos%20practicos/Trabajo%206/Christian_Zorrilla_Gonzalez.ipynb#W4sdnNjb2RlLXJlbW90ZQ%3D%3D?line=1'>2</a>\u001b[0m \u001b[39mimport\u001b[39;00m \u001b[39mrequests\u001b[39;00m\n\u001b[1;32m      <a href='vscode-notebook-cell://codespaces%2Bopulent-winner-w479vj45g9g294v6/workspaces/inteligencia-altificial/Trabajos%20practicos/Trabajo%206/Christian_Zorrilla_Gonzalez.ipynb#W4sdnNjb2RlLXJlbW90ZQ%3D%3D?line=2'>3</a>\u001b[0m \u001b[39mfrom\u001b[39;00m \u001b[39mPIL\u001b[39;00m \u001b[39mimport\u001b[39;00m Image\n",
      "File \u001b[0;32m/workspaces/inteligencia-altificial/Trabajos practicos/Trabajo 6/gradio.py:29\u001b[0m\n\u001b[1;32m     26\u001b[0m     \u001b[39mreturn\u001b[39;00m frase\n\u001b[1;32m     28\u001b[0m \u001b[39m# Definir la interfaz Gradio\u001b[39;00m\n\u001b[0;32m---> 29\u001b[0m interfaz \u001b[39m=\u001b[39m gr\u001b[39m.\u001b[39;49mInterface(\n\u001b[1;32m     30\u001b[0m     fn\u001b[39m=\u001b[39m\u001b[39mlambda\u001b[39;00m texto: (obtener_imagen(texto), generar_frase(texto)),\n\u001b[1;32m     31\u001b[0m     inputs\u001b[39m=\u001b[39m\u001b[39m\"\u001b[39m\u001b[39mtext\u001b[39m\u001b[39m\"\u001b[39m,\n\u001b[1;32m     32\u001b[0m     outputs\u001b[39m=\u001b[39m[\u001b[39m\"\u001b[39m\u001b[39mimage\u001b[39m\u001b[39m\"\u001b[39m, \u001b[39m\"\u001b[39m\u001b[39mtext\u001b[39m\u001b[39m\"\u001b[39m],\n\u001b[1;32m     33\u001b[0m     layout\u001b[39m=\u001b[39m\u001b[39m\"\u001b[39m\u001b[39mvertical\u001b[39m\u001b[39m\"\u001b[39m,\n\u001b[1;32m     34\u001b[0m     examples\u001b[39m=\u001b[39m[[\u001b[39m\"\u001b[39m\u001b[39mguerra\u001b[39m\u001b[39m\"\u001b[39m]]\n\u001b[1;32m     35\u001b[0m )\n\u001b[1;32m     37\u001b[0m \u001b[39m# Ejecutar la interfaz\u001b[39;00m\n\u001b[1;32m     38\u001b[0m interfaz\u001b[39m.\u001b[39mlaunch(share\u001b[39m=\u001b[39m\u001b[39mTrue\u001b[39;00m)\n",
      "\u001b[0;31mAttributeError\u001b[0m: partially initialized module 'gradio' has no attribute 'Interface' (most likely due to a circular import)"
     ]
    }
   ],
   "source": [
    "import gradio as gr\n",
    "import requests\n",
    "from PIL import Image\n",
    "\n",
    "# Definir función para obtener una imagen de Unsplash\n",
    "def obtener_imagen(palabra_clave):\n",
    "    # API Key de Unsplash (reemplazar con tu propia clave)\n",
    "    api_key = \"UbnoE5GocSne8GrjLvwddhiC9iXlfo9xy3fxM6YN4bg\"\n",
    "\n",
    "    # Llamar a la API de Unsplash\n",
    "    response = requests.get(f\"https://api.unsplash.com/photos/random?query+{palabra_clave}&client_id={api_key}\")\n",
    "    data = response.json()\n",
    "\n",
    "    # Obtener la URL de la imagen y descargarla\n",
    "    imagen_url = data[\"urls\"][\"regular\"]\n",
    "    imagen_resp = requests.get(imagen_url)\n",
    "    imagen = Image.open(BytesIO(imagen_resp.content))\n",
    "\n",
    "    return imagen\n",
    "\n",
    "# Definir función para generar una frase relacionada a la palabra clave\n",
    "def generar_frase(palabra_clave):\n",
    "    # Aquí puedes usar cualquier método para generar la frase relacionada a la palabra clave\n",
    "    frase = f\"Una imagen relacionada a '{palabra_clave}'\"\n",
    "\n",
    "    return frase\n",
    "\n",
    "# Definir la interfaz Gradio\n",
    "interfaz = gr.Interface(\n",
    "    fn=lambda texto: (obtener_imagen(texto), generar_frase(texto)),\n",
    "    inputs=\"text\",\n",
    "    outputs=[\"image\", \"text\"],\n",
    "    layout=\"vertical\",\n",
    "    examples=[[\"guerra\"]]\n",
    ")\n",
    "\n",
    "# Ejecutar la interfaz\n",
    "interfaz.launch(share=True)"
   ]
  }
 ],
 "metadata": {
  "kernelspec": {
   "display_name": "Python 3",
   "language": "python",
   "name": "python3"
  },
  "language_info": {
   "codemirror_mode": {
    "name": "ipython",
    "version": 3
   },
   "file_extension": ".py",
   "mimetype": "text/x-python",
   "name": "python",
   "nbconvert_exporter": "python",
   "pygments_lexer": "ipython3",
   "version": "3.10.8"
  }
 },
 "nbformat": 4,
 "nbformat_minor": 2
}
