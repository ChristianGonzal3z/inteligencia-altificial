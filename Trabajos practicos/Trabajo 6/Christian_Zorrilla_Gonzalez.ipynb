{
 "cells": [
  {
   "cell_type": "markdown",
   "metadata": {},
   "source": [
    "# Practica #6\n",
    "\n",
    "## Nombre: Christian Zorrilla Gonzalez\n",
    "\n",
    "## Matrícula: 21-SISN-2-070\n",
    "\n",
    "## Fecha de entrega: 18 de Octubre de 2023\n",
    "\n",
    "## Frases e imágenes\n",
    "\n",
    "Utilizando una interfaz Gradio, crear una aplicación que reciba una entrada de texto y, al ejecutarlo, devuelva una frase relacionada y una imagen.\n",
    "\n",
    "Ejemplo: si introducimos \"guerra\", debe mostrar una imagen relacionada con la guerra y una frase sobre este tema.\n",
    "\n",
    "## Traductor\n",
    "\n",
    "Utilizando una interfaz Gradio, crear una aplicación que reciba una entrada de texto y lo traduzca a uno de los idiomas disponibles en una lista. La traducción debe realizarse sin agregar nada más. La lista debe contener al menos 5 idiomas.\n",
    "\n",
    "Ejemplo: si la entrada es \"Watashi wa michi to shinri to inochi desu\" y se selecciona el idioma español, debe devolver únicamente: \"Yo soy el camino, la verdad y la vida\", sin agregar nada más.\""
   ]
  },
  {
   "cell_type": "code",
   "execution_count": null,
   "metadata": {},
   "outputs": [],
   "source": [
    "import gradio as gr\n",
    "import requests\n",
    "\n",
    "# Función para obtener una imagen relacionada con la palabra clave\n",
    "def obtener_imagen(palabra_clave):\n",
    "    url = f\"https://api.unsplash.com/photos/random?query={palabra_clave}&client_id=YOUR_UNSPLASH_ACCESS_KEY\"\n",
    "    response = requests.get(url)\n",
    "    data = response.json()\n",
    "    return data['urls']['regular']\n",
    "\n",
    "# Función para obtener una frase relacionada con la palabra clave\n",
    "def obtener_frase(palabra_clave):\n",
    "    url = f\"https://api.example.com/frases?palabra={palabra_clave}\"\n",
    "    response = requests.get(url)\n",
    "    data = response.json()\n",
    "    return data['frase']\n",
    "\n",
    "# Función para ejecutar cuando se haga una predicción en Gradio\n",
    "def predicciones(palabra_clave):\n",
    "    imagen_url = obtener_imagen(palabra_clave)\n",
    "    frase = obtener_frase(palabra_clave)\n",
    "    return frase, imagen_url\n",
    "\n",
    "# Crear una interfaz Gradio\n",
    "iface = gr.Interface(fn=predicciones, inputs=\"text\", outputs=[\"text\", \"image\"])\n",
    "\n",
    "# Ejecutar la interfaz de Gradio\n",
    "iface.launch()"
   ]
  }
 ],
 "metadata": {
  "language_info": {
   "name": "python"
  }
 },
 "nbformat": 4,
 "nbformat_minor": 2
}
