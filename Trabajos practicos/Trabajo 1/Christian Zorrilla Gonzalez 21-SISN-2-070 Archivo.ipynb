{
  "cells": [
    {
      "cell_type": "markdown",
      "metadata": {
        "id": "V_ZJbgWQlTwe"
      },
      "source": [
        "# Nombre: Christian Zorrilla Gonzalez\n",
        "# Matricula: 21-SISN-2-070"
      ]
    },
    {
      "cell_type": "code",
      "execution_count": 1,
      "metadata": {
        "colab": {
          "base_uri": "https://localhost:8080/"
        },
        "id": "2CfgwXAhmM1c",
        "outputId": "d17fac56-24e0-4568-f9df-53c9fd6cd43e"
      },
      "outputs": [
        {
          "name": "stdout",
          "output_type": "stream",
          "text": [
            "hola mundo\n"
          ]
        }
      ],
      "source": [
        "print(\"hola mundo\")"
      ]
    },
    {
      "cell_type": "code",
      "execution_count": 2,
      "metadata": {
        "colab": {
          "base_uri": "https://localhost:8080/",
          "height": 36
        },
        "id": "EZMOAmYQmTpo",
        "outputId": "f483f2f5-087f-4a8e-bf34-deb73dbb8fb5"
      },
      "outputs": [
        {
          "data": {
            "application/vnd.google.colaboratory.intrinsic+json": {
              "type": "string"
            },
            "text/plain": [
              "'/content'"
            ]
          },
          "execution_count": 2,
          "metadata": {},
          "output_type": "execute_result"
        }
      ],
      "source": [
        "%pwd"
      ]
    },
    {
      "cell_type": "code",
      "execution_count": null,
      "metadata": {
        "colab": {
          "base_uri": "https://localhost:8080/"
        },
        "id": "wqHd_X9ZnQ8D",
        "outputId": "2a7c23a2-e354-4051-feb2-16895d123220"
      },
      "outputs": [
        {
          "name": "stdout",
          "output_type": "stream",
          "text": [
            "\u001b[0m\u001b[01;34msample_data\u001b[0m/\n"
          ]
        }
      ],
      "source": [
        "%ls -r"
      ]
    },
    {
      "cell_type": "markdown",
      "metadata": {
        "id": "bzUUO4XunbMX"
      },
      "source": [
        "|Nombre|Edad  |\n",
        "|---------|-----|\n",
        "|Juan | 40|\n",
        "|Pedro | 23|\n",
        "|Pablo | 20 |\n",
        "|Ramon | 38   |"
      ]
    },
    {
      "cell_type": "code",
      "execution_count": 1,
      "metadata": {
        "colab": {
          "base_uri": "https://localhost:8080/"
        },
        "id": "5i2OF945pNu7",
        "outputId": "d0bb3759-e610-4c9d-f9c1-e7147114d699"
      },
      "outputs": [
        {
          "name": "stdout",
          "output_type": "stream",
          "text": [
            "touch: /content/directorio/holamundo.py: No such file or directory\n",
            "zsh:1: no such file or directory: /content/directorio/holamundo.py\n",
            "zsh:1: command not found: python\n"
          ]
        }
      ],
      "source": [
        "%mkdir directorio\n",
        "!touch /content/directorio/holamundo.py\n",
        "!echo \"print(\\\"Hola mun... Colab\\\")\" >> /content/directorio/holamundo.py\n",
        "!python /content/directorio/holamundo.py"
      ]
    },
    {
      "cell_type": "code",
      "execution_count": 2,
      "metadata": {
        "colab": {
          "base_uri": "https://localhost:8080/",
          "height": 53
        },
        "id": "BEU8CGEfqkCY",
        "outputId": "9b0bd266-5b12-4cbe-e795-23008d19f0e1"
      },
      "outputs": [],
      "source": [
        "dato = input(\"Ingresa una palabra: \")\n",
        "print(dato)"
      ]
    },
    {
      "cell_type": "code",
      "execution_count": 11,
      "metadata": {
        "colab": {
          "base_uri": "https://localhost:8080/",
          "height": 70
        },
        "id": "nsqEe73krBoX",
        "outputId": "b8599ec7-8893-4e70-b4bd-1f7307efe526"
      },
      "outputs": [
        {
          "name": "stdout",
          "output_type": "stream",
          "text": [
            "Ingresa un numero: 345\n",
            "345\n"
          ]
        },
        {
          "data": {
            "application/vnd.google.colaboratory.intrinsic+json": {
              "type": "string"
            },
            "text/plain": [
              "'text'"
            ]
          },
          "execution_count": 11,
          "metadata": {},
          "output_type": "execute_result"
        }
      ],
      "source": [
        "numero = int(input(\"Ingresa un numero: \"))\n",
        "print(numero)"
      ]
    }
  ],
  "metadata": {
    "colab": {
      "provenance": []
    },
    "kernelspec": {
      "display_name": "Python 3",
      "name": "python3"
    },
    "language_info": {
      "codemirror_mode": {
        "name": "ipython",
        "version": 3
      },
      "file_extension": ".py",
      "mimetype": "text/x-python",
      "name": "python",
      "nbconvert_exporter": "python",
      "pygments_lexer": "ipython3",
      "version": "3.10.11"
    }
  },
  "nbformat": 4,
  "nbformat_minor": 0
}
