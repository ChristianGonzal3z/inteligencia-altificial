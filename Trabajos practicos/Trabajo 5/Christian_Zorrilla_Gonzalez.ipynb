{
 "cells": [
  {
   "cell_type": "markdown",
   "metadata": {},
   "source": [
    "# Practica #5\n",
    "\n",
    "## Nombre: Christian Zorrilla Gonzalez\n",
    "\n",
    "## Matrícula: 21-SISN-2-070\n",
    "\n",
    "## Fecha de entrega:  11 de Octubre de 2023\n",
    "\n",
    "Utilizando celdas python Crea  una máquina de estados y un árbol de comportamiento para un jugador de dominó."
   ]
  },
  {
   "cell_type": "code",
   "execution_count": 4,
   "metadata": {},
   "outputs": [
    {
     "ename": "TypeError",
     "evalue": "NodoBehaviorTree() takes no arguments",
     "output_type": "error",
     "traceback": [
      "\u001b[0;31m---------------------------------------------------------------------------\u001b[0m",
      "\u001b[0;31mTypeError\u001b[0m                                 Traceback (most recent call last)",
      "\u001b[1;32m/workspaces/inteligencia-altificial/Trabajos practicos/Trabajo 5/Christian_Zorrilla_Gonzalez.ipynb Cell 2\u001b[0m line \u001b[0;36m1\n\u001b[0;32m----> <a href='vscode-notebook-cell://codespaces%2Bopulent-winner-w479vj45g9g294v6/workspaces/inteligencia-altificial/Trabajos%20practicos/Trabajo%205/Christian_Zorrilla_Gonzalez.ipynb#W1sdnNjb2RlLXJlbW90ZQ%3D%3D?line=0'>1</a>\u001b[0m \u001b[39mclass\u001b[39;00m \u001b[39mJugadorDomino\u001b[39;00m:\n\u001b[1;32m      <a href='vscode-notebook-cell://codespaces%2Bopulent-winner-w479vj45g9g294v6/workspaces/inteligencia-altificial/Trabajos%20practicos/Trabajo%205/Christian_Zorrilla_Gonzalez.ipynb#W1sdnNjb2RlLXJlbW90ZQ%3D%3D?line=1'>2</a>\u001b[0m     \u001b[39m# ... (resto de la clase)\u001b[39;00m\n\u001b[1;32m      <a href='vscode-notebook-cell://codespaces%2Bopulent-winner-w479vj45g9g294v6/workspaces/inteligencia-altificial/Trabajos%20practicos/Trabajo%205/Christian_Zorrilla_Gonzalez.ipynb#W1sdnNjb2RlLXJlbW90ZQ%3D%3D?line=3'>4</a>\u001b[0m     \u001b[39mdef\u001b[39;00m \u001b[39mtomar_turno\u001b[39m(\u001b[39mself\u001b[39m):\n\u001b[1;32m      <a href='vscode-notebook-cell://codespaces%2Bopulent-winner-w479vj45g9g294v6/workspaces/inteligencia-altificial/Trabajos%20practicos/Trabajo%205/Christian_Zorrilla_Gonzalez.ipynb#W1sdnNjb2RlLXJlbW90ZQ%3D%3D?line=4'>5</a>\u001b[0m         \u001b[39mif\u001b[39;00m \u001b[39mself\u001b[39m\u001b[39m.\u001b[39mestado \u001b[39m==\u001b[39m \u001b[39m\"\u001b[39m\u001b[39mEsperando turno\u001b[39m\u001b[39m\"\u001b[39m:\n\u001b[1;32m      <a href='vscode-notebook-cell://codespaces%2Bopulent-winner-w479vj45g9g294v6/workspaces/inteligencia-altificial/Trabajos%20practicos/Trabajo%205/Christian_Zorrilla_Gonzalez.ipynb#W1sdnNjb2RlLXJlbW90ZQ%3D%3D?line=5'>6</a>\u001b[0m             \u001b[39m# Lógica para tomar el turno\u001b[39;00m\n",
      "\u001b[1;32m/workspaces/inteligencia-altificial/Trabajos practicos/Trabajo 5/Christian_Zorrilla_Gonzalez.ipynb Cell 2\u001b[0m line \u001b[0;36m3\n\u001b[1;32m     <a href='vscode-notebook-cell://codespaces%2Bopulent-winner-w479vj45g9g294v6/workspaces/inteligencia-altificial/Trabajos%20practicos/Trabajo%205/Christian_Zorrilla_Gonzalez.ipynb#W1sdnNjb2RlLXJlbW90ZQ%3D%3D?line=30'>31</a>\u001b[0m             hijo\u001b[39m.\u001b[39mejecutar()\n\u001b[1;32m     <a href='vscode-notebook-cell://codespaces%2Bopulent-winner-w479vj45g9g294v6/workspaces/inteligencia-altificial/Trabajos%20practicos/Trabajo%205/Christian_Zorrilla_Gonzalez.ipynb#W1sdnNjb2RlLXJlbW90ZQ%3D%3D?line=32'>33</a>\u001b[0m \u001b[39m# Crear el árbol de comportamiento\u001b[39;00m\n\u001b[0;32m---> <a href='vscode-notebook-cell://codespaces%2Bopulent-winner-w479vj45g9g294v6/workspaces/inteligencia-altificial/Trabajos%20practicos/Trabajo%205/Christian_Zorrilla_Gonzalez.ipynb#W1sdnNjb2RlLXJlbW90ZQ%3D%3D?line=33'>34</a>\u001b[0m arbol \u001b[39m=\u001b[39m NodoBehaviorTree(\u001b[39m\"\u001b[39;49m\u001b[39mRaiz\u001b[39;49m\u001b[39m\"\u001b[39;49m)\n\u001b[1;32m     <a href='vscode-notebook-cell://codespaces%2Bopulent-winner-w479vj45g9g294v6/workspaces/inteligencia-altificial/Trabajos%20practicos/Trabajo%205/Christian_Zorrilla_Gonzalez.ipynb#W1sdnNjb2RlLXJlbW90ZQ%3D%3D?line=34'>35</a>\u001b[0m tomar_turno \u001b[39m=\u001b[39m NodoBehaviorTree(\u001b[39m\"\u001b[39m\u001b[39mTomar turno\u001b[39m\u001b[39m\"\u001b[39m)\n\u001b[1;32m     <a href='vscode-notebook-cell://codespaces%2Bopulent-winner-w479vj45g9g294v6/workspaces/inteligencia-altificial/Trabajos%20practicos/Trabajo%205/Christian_Zorrilla_Gonzalez.ipynb#W1sdnNjb2RlLXJlbW90ZQ%3D%3D?line=35'>36</a>\u001b[0m seleccionar_ficha \u001b[39m=\u001b[39m NodoBehaviorTree(\u001b[39m\"\u001b[39m\u001b[39mSeleccionar ficha\u001b[39m\u001b[39m\"\u001b[39m)\n",
      "\u001b[0;31mTypeError\u001b[0m: NodoBehaviorTree() takes no arguments"
     ]
    }
   ],
   "source": [
    "class JugadorDomino:\n",
    "    # ... (resto de la clase)\n",
    "\n",
    "    def tomar_turno(self):\n",
    "        if self.estado == \"Esperando turno\":\n",
    "            # Lógica para tomar el turno\n",
    "            self.cambiar_estado(\"Seleccionando ficha\")\n",
    "        else:\n",
    "            print(\"No es tu turno aún\")\n",
    "\n",
    "    def seleccionar_ficha(self):\n",
    "        if self.estado == \"Seleccionando ficha\":\n",
    "            # Lógica para seleccionar una ficha\n",
    "            self.cambiar_estado(\"Colocando ficha\")\n",
    "        else:\n",
    "            print(\"No puedes seleccionar una ficha en este momento\")\n",
    "\n",
    "    def colocar_ficha(self):\n",
    "        if self.estado == \"Colocando ficha\":\n",
    "            # Lógica para colocar una ficha\n",
    "            self.cambiar_estado(\"Esperando turno\")\n",
    "        else:\n",
    "            print(\"No puedes colocar una ficha en este momento\")\n",
    "\n",
    "    class NodoBehaviorTree:\n",
    "        # ... (resto de la clase)\n",
    "\n",
    "        def ejecutar(self):\n",
    "            print(f\"Ejecutando nodo: {self.nombre}\")\n",
    "            for hijo in self.hijos:\n",
    "                hijo.ejecutar()\n",
    "\n",
    "    # Crear el árbol de comportamiento\n",
    "    arbol = NodoBehaviorTree(\"Raiz\")\n",
    "    tomar_turno = NodoBehaviorTree(\"Tomar turno\")\n",
    "    seleccionar_ficha = NodoBehaviorTree(\"Seleccionar ficha\")\n",
    "    colocar_ficha = NodoBehaviorTree(\"Colocar ficha\")\n",
    "\n",
    "    # Construir la estructura del árbol\n",
    "    arbol.agregar_hijo(tomar_turno)\n",
    "    tomar_turno.agregar_hijo(seleccionar_ficha)\n",
    "    seleccionar_ficha.agregar_hijo(colocar_ficha)\n",
    "\n",
    "    # Ejecutar el árbol de comportamiento\n",
    "    arbol.ejecutar()"
   ]
  },
  {
   "cell_type": "code",
   "execution_count": 3,
   "metadata": {},
   "outputs": [
    {
     "name": "stdout",
     "output_type": "stream",
     "text": [
      "Ejecutando nodo: Raíz\n",
      "Ejecutando nodo: Tomar turno\n",
      "Ejecutando nodo: Seleccionar ficha\n",
      "Ejecutando nodo: Colocar ficha\n"
     ]
    }
   ],
   "source": [
    "class NodoBehaviorTree:\n",
    "    def __init__(self, nombre):\n",
    "        self.nombre = nombre\n",
    "        self.hijos = []\n",
    "\n",
    "    def agregar_hijo(self, hijo):\n",
    "        self.hijos.append(hijo)\n",
    "\n",
    "    def ejecutar(self):\n",
    "        print(f\"Ejecutando nodo: {self.nombre}\")\n",
    "        for hijo in self.hijos:\n",
    "            hijo.ejecutar()\n",
    "\n",
    "# Crear el árbol de comportamiento\n",
    "arbol = NodoBehaviorTree(\"Raíz\")\n",
    "tomar_turno = NodoBehaviorTree(\"Tomar turno\")\n",
    "seleccionar_ficha = NodoBehaviorTree(\"Seleccionar ficha\")\n",
    "colocar_ficha = NodoBehaviorTree(\"Colocar ficha\")\n",
    "\n",
    "# Construir la estructura del árbol\n",
    "arbol.agregar_hijo(tomar_turno)\n",
    "tomar_turno.agregar_hijo(seleccionar_ficha)\n",
    "seleccionar_ficha.agregar_hijo(colocar_ficha)\n",
    "\n",
    "# Ejecutar el árbol de comportamiento\n",
    "arbol.ejecutar()"
   ]
  }
 ],
 "metadata": {
  "kernelspec": {
   "display_name": "Python 3",
   "language": "python",
   "name": "python3"
  },
  "language_info": {
   "codemirror_mode": {
    "name": "ipython",
    "version": 3
   },
   "file_extension": ".py",
   "mimetype": "text/x-python",
   "name": "python",
   "nbconvert_exporter": "python",
   "pygments_lexer": "ipython3",
   "version": "3.10.8"
  }
 },
 "nbformat": 4,
 "nbformat_minor": 2
}
