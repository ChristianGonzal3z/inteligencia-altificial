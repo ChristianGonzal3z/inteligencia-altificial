{
  "cells": [
    {
      "cell_type": "markdown",
      "source": [
        "# Practica #4\n",
        "\n",
        "## Nombre: **Christian Zorrilla Gonzalez**\n",
        "\n",
        "## Matrícula: **21-SISN-2-070**\n",
        "\n",
        "## Fecha de entrega:  **4 de Octubre de 2023**\n",
        "\n",
        "## Problema de la ruta entre ciudades utilizando algoritmos de búsqueda\n",
        "\n",
        "Implementar:\n",
        "  \n",
        "  ```  \n",
        "    búsqueda en anchura (2 puntos)\n",
        "    búsqueda en profundidad (2 puntos)\n",
        "    A* (6 puntos)\n",
        "  ```\n",
        "Utilizando las celdas necesarias, implementa los algoritmos de búsqueda para resolver el problema de la ruta entre dos ciudades en el país. El código debe funcionar correctamente sin importar el orden de las dos ciudades y cuál ciudad se elija.\n",
        "\n",
        "Detalles:\n",
        "\n",
        "Debes implementar la clase \"Nodo\", que contendrá un estado y una referencia a su nodo padre, así como una manera de obtener la heurística en referencia a otro nodo.\n",
        "\n",
        "Debe existir un mínimo de 15 ciudades, y cada ciudad debe tener una forma de conectarse con sus ciudades vecinas y generarlas como sucesores.\n",
        "\n",
        "Debes implementar una clase \"Ciudad\" que contenga el nombre de la ciudad y una forma de generar sus sucesores que coincida con la implementación del nodo, además de una forma de calcular la distancia en comparación con otras ciudades.\n",
        "\n",
        "Realiza pruebas para verificar que el código resuelve el problema correctamente."
      ],
      "metadata": {
        "id": "2sI7yZdMr1_X"
      }
    },
    {
      "cell_type": "markdown",
      "source": [
        "Clase **Ciudad**"
      ],
      "metadata": {
        "id": "vF2hvTWY795J"
      }
    },
    {
      "cell_type": "code",
      "execution_count": 1,
      "metadata": {
        "id": "7o3_sqYBAk7H"
      },
      "outputs": [],
      "source": [
        "class Ciudad:\n",
        "    def __init__(self, nombre):\n",
        "        self.nombre = nombre\n",
        "        self.vecinos = {}\n",
        "\n",
        "    def agregar_vecino(self, ciudad, distancia):\n",
        "        self.vecinos[ciudad] = distancia\n",
        "\n",
        "    def obtener_sucesores(self):\n",
        "        return list(self.vecinos.keys())\n",
        "\n",
        "    def obtener_distancia(self, ciudad):\n",
        "        return self.vecinos[ciudad]\n"
      ]
    },
    {
      "cell_type": "markdown",
      "source": [
        "**Nodo**"
      ],
      "metadata": {
        "id": "MfT2NPHL77Ix"
      }
    },
    {
      "cell_type": "code",
      "execution_count": 2,
      "metadata": {
        "id": "e602W_X1AtoP"
      },
      "outputs": [],
      "source": [
        "class Nodo:\n",
        "    def __init__(self, ciudad, padre=None):\n",
        "        self.ciudad = ciudad\n",
        "        self.padre = padre\n",
        "\n",
        "    def obtener_sucesores(self):\n",
        "        return self.ciudad.obtener_sucesores()\n",
        "\n",
        "    def obtener_distancia(self, ciudad):\n",
        "        return self.ciudad.obtener_distancia(ciudad)\n",
        "\n",
        "    def obtener_heuristica(self, objetivo):\n",
        "\n",
        "        return self.ciudad.obtener_distancia(objetivo)\n"
      ]
    },
    {
      "cell_type": "markdown",
      "source": [
        "**Busqueda en anchura**"
      ],
      "metadata": {
        "id": "4Y0vsfrn74CD"
      }
    },
    {
      "cell_type": "code",
      "execution_count": 3,
      "metadata": {
        "id": "f0VrLiF3AwOT"
      },
      "outputs": [],
      "source": [
        "from queue import Queue\n",
        "from queue import LifoQueue\n",
        "import heapq\n",
        "\n",
        "def busqueda_en_anchura(inicial, objetivo):\n",
        "    cola = Queue()\n",
        "    visitados = set()\n",
        "    cola.put(Nodo(inicial))\n",
        "\n",
        "    while not cola.empty():\n",
        "        nodo_actual = cola.get()\n",
        "        ciudad_actual = nodo_actual.ciudad\n",
        "\n",
        "        if ciudad_actual == objetivo:\n",
        "            return reconstruir_camino(nodo_actual)\n",
        "\n",
        "        visitados.add(ciudad_actual)\n",
        "\n",
        "        for vecino in ciudad_actual.obtener_sucesores():\n",
        "            if vecino not in visitados:\n",
        "                cola.put(Nodo(vecino, nodo_actual))\n",
        "\n",
        "    return None\n",
        "\n",
        "def busqueda_en_profundidad(inicial, objetivo):\n",
        "    pila = LifoQueue()\n",
        "    visitados = set()\n",
        "    pila.put(Nodo(inicial))\n",
        "\n",
        "    while not pila.empty():\n",
        "        nodo_actual = pila.get()\n",
        "        ciudad_actual = nodo_actual.ciudad\n",
        "\n",
        "        if ciudad_actual == objetivo:\n",
        "            return reconstruir_camino(nodo_actual)\n",
        "\n",
        "        visitados.add(ciudad_actual)\n",
        "\n",
        "        for vecino in ciudad_actual.obtener_sucesores():\n",
        "            if vecino not in visitados:\n",
        "                pila.put(Nodo(vecino, nodo_actual))\n",
        "\n",
        "    return None\n",
        "\n",
        "def a_estrella(inicial, objetivo):\n",
        "    heap = []\n",
        "    heapq.heappush(heap, (0, Nodo(inicial)))\n",
        "    costos = {inicial: 0}\n",
        "    visitados = set()\n",
        "\n",
        "    while heap:\n",
        "        costo, nodo_actual = heapq.heappop(heap)\n",
        "        ciudad_actual = nodo_actual.ciudad\n",
        "\n",
        "        if ciudad_actual == objetivo:\n",
        "            return reconstruir_camino(nodo_actual)\n",
        "\n",
        "        visitados.add(ciudad_actual)\n",
        "\n",
        "        for vecino in ciudad_actual.obtener_sucesores():\n",
        "            nuevo_costo = costos[ciudad_actual] + ciudad_actual.obtener_distancia(vecino)\n",
        "\n",
        "            if vecino not in costos or nuevo_costo < costos[vecino]:\n",
        "                costos[vecino] = nuevo_costo\n",
        "                heapq.heappush(heap, (nuevo_costo + nodo_actual.obtener_heuristica(vecino), Nodo(vecino, nodo_actual)))\n",
        "\n",
        "    return None\n",
        "\n",
        "def reconstruir_camino(nodo):\n",
        "    camino = []\n",
        "    while nodo:\n",
        "        camino.append(nodo.ciudad.nombre)\n",
        "        nodo = nodo.padre\n",
        "    return list(reversed(camino))\n"
      ]
    },
    {
      "cell_type": "markdown",
      "source": [
        "**Definición de ciudades**"
      ],
      "metadata": {
        "id": "mkpHrZs_8L1Q"
      }
    },
    {
      "cell_type": "code",
      "execution_count": 4,
      "metadata": {
        "id": "AG_cAzWjA5lJ"
      },
      "outputs": [],
      "source": [
        "santiago = Ciudad(\"Santiago\")\n",
        "santo_domingo = Ciudad(\"Santo Domingo\")\n",
        "punta_cana = Ciudad(\"Punta Cana\")\n",
        "puerto_plata = Ciudad(\"Puerto Plata\")\n",
        "la_romana = Ciudad(\"La Romana\")\n",
        "higuey = Ciudad(\"Higüey\")\n",
        "san_pedro = Ciudad(\"San Pedro de Macorís\")\n",
        "constanza = Ciudad(\"Constanza\")\n",
        "jarabacoa = Ciudad(\"Jarabacoa\")\n",
        "barahona = Ciudad(\"Barahona\")\n",
        "monte_cristi = Ciudad(\"Monte Cristi\")\n",
        "samana = Ciudad(\"Samana\")\n",
        "nagua = Ciudad(\"Nagua\")\n",
        "hato_mayor = Ciudad(\"Hato Mayor\")\n",
        "bonao = Ciudad(\"Bonao\")\n",
        "santo_domingo.agregar_vecino(santiago, 155)\n",
        "santo_domingo.agregar_vecino(punta_cana, 200)\n",
        "santo_domingo.agregar_vecino(la_romana, 120)\n",
        "santo_domingo.agregar_vecino(san_pedro, 50)\n",
        "santiago.agregar_vecino(santo_domingo, 155)\n",
        "santiago.agregar_vecino(puerto_plata, 25)\n",
        "santiago.agregar_vecino(jarabacoa, 40)\n",
        "santiago.agregar_vecino(bonao, 60)\n",
        "punta_cana.agregar_vecino(santo_domingo, 200)\n",
        "punta_cana.agregar_vecino(higuey, 50)\n",
        "puerto_plata.agregar_vecino(santiago, 25)\n",
        "puerto_plata.agregar_vecino(monte_cristi, 120)\n",
        "la_romana.agregar_vecino(santo_domingo, 120)\n",
        "la_romana.agregar_vecino(higuey, 30)\n",
        "higuey.agregar_vecino(punta_cana, 50)\n",
        "higuey.agregar_vecino(la_romana, 30)\n",
        "san_pedro.agregar_vecino(santo_domingo, 50)\n",
        "san_pedro.agregar_vecino(hato_mayor, 80)\n",
        "constanza.agregar_vecino(jarabacoa, 15)\n",
        "jarabacoa.agregar_vecino(santiago, 40)\n",
        "jarabacoa.agregar_vecino(constanza, 15)\n",
        "barahona.agregar_vecino(samana, 110)\n",
        "monte_cristi.agregar_vecino(puerto_plata, 120)\n",
        "samana.agregar_vecino(barahona, 110)\n",
        "samana.agregar_vecino(nagua, 45)\n",
        "nagua.agregar_vecino(samana, 45)\n",
        "hato_mayor.agregar_vecino(san_pedro, 80)"
      ]
    },
    {
      "cell_type": "code",
      "execution_count": 7,
      "metadata": {
        "colab": {
          "base_uri": "https://localhost:8080/"
        },
        "id": "QO6uetiBBpUW",
        "outputId": "2b38358f-27f1-46a8-f1f5-405ecc03f1c2"
      },
      "outputs": [
        {
          "output_type": "stream",
          "name": "stdout",
          "text": [
            "['Higüey', 'La Romana', 'Santo Domingo', 'San Pedro de Macorís', 'Hato Mayor']\n"
          ]
        }
      ],
      "source": [
        "entrada = higuey # @param [\"santo_domingo\", \"santiago\", \"punta_cana\", \"puerto_plata\", \"la_romana\", \"higuey\", \"san_pedro\", \"constanza\", \"jarabacoa\", \"barahona\", \"monte_cristi\", \"samana\", \"nagua\", \"hato_mayor\", \"bonao\"] {type:\"raw\"}\n",
        "salida = hato_mayor # @param [\"santo_domingo\", \"santiago\", \"punta_cana\", \"puerto_plata\", \"la_romana\", \"higuey\", \"san_pedro\", \"constanza\", \"jarabacoa\", \"barahona\", \"monte_cristi\", \"samana\", \"nagua\", \"hato_mayor\", \"bonao\"] {type:\"raw\"}\n",
        "ciudadades = \"Busqueda en estrella\" # @param [\"Busqueda en estrella\", \"Busqueda en anchura\", \"Busqueda en profundidad\"]\n",
        "\n",
        "\n",
        "\n",
        "if ciudadades ==  \"Busqueda en estrella\":\n",
        "  ruta_anchura = a_estrella(entrada, salida)\n",
        "elif ciudadades ==  \"Busqueda en anchura\":\n",
        "  ruta_anchura = busqueda_en_anchura(entrada, salida)\n",
        "elif ciudadades ==  \"Busqueda en profundidad\":\n",
        "  ruta_anchura = busqueda_en_profundidad(entrada, salida)\n",
        "\n",
        "print(ruta_anchura)\n"
      ]
    }
  ],
  "metadata": {
    "colab": {
      "provenance": []
    },
    "kernelspec": {
      "display_name": "Python 3",
      "name": "python3"
    },
    "language_info": {
      "codemirror_mode": {
        "name": "ipython",
        "version": 3
      },
      "file_extension": ".py",
      "mimetype": "text/x-python",
      "name": "python",
      "nbconvert_exporter": "python",
      "pygments_lexer": "ipython3",
      "version": "3.11.5"
    }
  },
  "nbformat": 4,
  "nbformat_minor": 0
}