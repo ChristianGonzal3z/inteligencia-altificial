{
 "cells": [
  {
   "cell_type": "markdown",
   "metadata": {
    "slideshow": {
     "slide_type": "slide"
    }
   },
   "source": [
    "# Inteligencia Artificial AI o IA\n",
    "\n",
    "<style>\n",
    "      h1, h2, h3, h4, h5, h6,.imagen {\n",
    "        text-align: center;\n",
    "      }\n",
    " img{width: 50%; height: 50%;}\n",
    "</style>"
   ]
  },
  {
   "cell_type": "markdown",
   "metadata": {
    "slideshow": {
     "slide_type": "fragment"
    }
   },
   "source": [
    "## YOEL ANDEYCI PILIER MARTINEZ\n",
    "### yoelapiliermartinez@outlook.com\n",
    "\n",
    "--- "
   ]
  },
  {
   "cell_type": "markdown",
   "metadata": {
    "slideshow": {
     "slide_type": "slide"
    }
   },
   "source": [
    "## �Inteligencia Artificial?"
   ]
  },
  {
   "cell_type": "markdown",
   "metadata": {
    "slideshow": {
     "slide_type": "subslide"
    }
   },
   "source": [
    "```python\n",
    "entrada=input(\"Introduce un mensaje: \")\n",
    "if entrada == \"Hola\":\n",
    "    print(\"Hola, �C�mo estas?\")\n",
    "elif entrada == \"Adios\":\n",
    "    print(\"Adios, que tengas un buen dia\")\n",
    "else:\n",
    "    print(\"No entiendo lo que dices\")\n",
    "```\n",
    "\n",
    "    Introduce un mensaje: Hola\n",
    "    Hola, �C�mo estas?"
   ]
  },
  {
   "cell_type": "markdown",
   "metadata": {
    "slideshow": {
     "slide_type": "skip"
    }
   },
   "source": [
    "## Indice\n",
    "\n",
    "- [Inteligencia Artificial AI-IA](#inteligencia-artificial-AI-o-IA)\n",
    "- [�Inteligencia Artificial?](#inteligencia-artificial)\n",
    "  - [Indice](#indice)\n",
    "  - [La Inteligencia](#la-inteligencia)\n",
    "    - [Inteligencia](#inteligencia)\n",
    "    - [Conocimiento](#conocimiento)\n",
    "    - [Aprendizaje](#aprendizaje)\n",
    "    - [Razonamiento](#razonamiento)\n",
    "    - [Comportamiento](#comportamiento)\n",
    "  - [La Inteligencia Artificial](#la-inteligencia-artificial)\n",
    "    - [Test de Turing y la Habitaci�n China](#test-de-turing-y-la-habitaci�n-china)\n",
    "  - [Historia](#historia)\n",
    "    - [walter pitts y warren mcculloch](#walter-pitts-y-warren-mcculloch)\n",
    "    - [Donald Hebb](#donald-hebb)\n",
    "    - [Alan Turing](#alan-turing)\n",
    "    - [Marvin Minsky y Dean Edmonds](#marvin-minsky-y-dean-edmonds)\n",
    "    - [Arthur Samuel](#arthur-samuel)\n",
    "    - [Dartmouth Gang](#dartmouth-gang)\n",
    "    - [John McCarthy](#john-mccarthy)\n",
    "    - [Herbert Simon](#herbert-simon)\n",
    "    - [Inicio de la Traducci�n Autom�tica](#inicio-de-la-traducci�n-autom�tica)\n",
    "    - [Frank Rosenblatt](#frank-rosenblatt)\n",
    "    - [Demostrador de Teoremas de Geometr�a](#demostrador-de-teoremas-de-geometr�a) \n",
    "    - [Perceptr�n](#perceptr�n)\n",
    "    - [DENDRAL](#dendral)\n",
    "    - [R1](#r1)\n",
    "    - [Deep Blue](#deep-blue)\n",
    "    - [GAN](#gan)\n",
    "    - [AlphaGo](#alphago)\n",
    "    - [Modelos de Difussion](#modelos-de-difussion)\n",
    "    - [Transformers](#transformers)\n",
    "    - [GPT-3](#gpt-3)\n",
    "    - [GauGAN](#gaugan)\n",
    "    - [DALL-E](#dall-e)\n",
    "    - [GitHub Copilot](#github-copilot)\n",
    "    - [Midjourney](#midjourney)\n",
    "    - [Stable Diffusion](#stable-diffusion)\n",
    "    - [Ganador del Concurso de Arte](#ganador-del-concurso-de-arte)\n",
    "    - [Transcripci�n de Audio](#transcripci�n-de-audio)\n",
    "    - [ChatGPT](#chatgpt)\n",
    "    - [LLaMA](#llama)\n",
    "    - [GPT-4](#gpt-4)\n",
    "  - [Fundamentos de la IA](#fudamentos-de-la-ia)\n",
    "  - [�reas de Aplicaci�n](#�reas-de-aplicaci�n))  \n",
    "\n"
   ]
  },
  {
   "cell_type": "markdown",
   "metadata": {
    "slideshow": {
     "slide_type": "slide"
    }
   },
   "source": [
    "## La Inteligencia"
   ]
  },
  {
   "cell_type": "markdown",
   "metadata": {
    "slideshow": {
     "slide_type": "subslide"
    }
   },
   "source": [
    "### Inteligencia\n",
    "\n",
    "- La inteligencia es la capacidad de resolver problemas a partir de la informaci�n que se posee.  \n",
    "- La capacidad de adquirir y aplicar conocimientos y habilidades.\n",
    "- La capacidad de razonar, resolver problemas y tomar decisiones.\n",
    "- La capacidad de aprender de la experiencia y aplicar ese conocimiento en el futuro.\n",
    "- Definici�n de la RAE: `Capacidad de entender o comprender.`\n",
    "- Definici�n de la RAE: `Capacidad de resolver problemas.`\n",
    "- Definici�n de la RAE: `Conocimiento, comprensi�n, acto de entender.`\n",
    "---"
   ]
  },
  {
   "cell_type": "markdown",
   "metadata": {
    "slideshow": {
     "slide_type": "subslide"
    }
   },
   "source": [
    "### Conocimiento\n",
    "\n",
    "- El Conocimiento es la informaci�n que se adquiere a trav�s de la experiencia o el aprendizaje.\n",
    "- El Conocimiento es la facultad del ser humano para comprender por medio de la raz�n la naturaleza, cualidades y relaciones de las cosas\n",
    "- El Conocimiento es  la comprensi�n que tiene un individuo sobre un tema o hecho en particular, y que ha sido adquirido a trav�s de la experiencia, la educaci�n, la observaci�n o la reflexi�n.\n",
    "---"
   ]
  },
  {
   "cell_type": "markdown",
   "metadata": {
    "slideshow": {
     "slide_type": "subslide"
    }
   },
   "source": [
    "### Aprendizaje\n",
    "\n",
    "- El Aprendizaje es el proceso a trav�s del cual se adquieren o modifican habilidades, destrezas, conocimientos, conductas o valores como resultado del estudio, la experiencia, la instrucci�n, el razonamiento y la observaci�n.\n",
    "---"
   ]
  },
  {
   "cell_type": "markdown",
   "metadata": {
    "slideshow": {
     "slide_type": "subslide"
    }
   },
   "source": [
    "### Razonamiento\n",
    "\n",
    "- El Razonamiento es el proceso y el resultado de razonar. Este verbo, por su parte, consiste en organizar y estructurar las ideas para arribar a una conclusi�n.\n",
    "  \n",
    "- El Razonamiento es la capacidad mental que tienen los seres humanos para procesar la informaci�n y llegar a conclusiones o inferencias l�gicas a partir de ella. Es una forma de pensamiento que implica la identificaci�n de patrones, la evaluaci�n de evidencia y la aplicaci�n de reglas y principios l�gicos para llegar a una conclusi�n o soluci�n.\n",
    "---"
   ]
  },
  {
   "cell_type": "markdown",
   "metadata": {
    "slideshow": {
     "slide_type": "subslide"
    }
   },
   "source": [
    "### Comportamiento\n",
    "\n",
    "- El Comportamiento es la manera de actuar que tienen las personas u organismos, en relaci�n con su entorno o mundo de est�mulos. El comportamiento puede ser consciente o inconsciente, voluntario o involuntario, p�blico o privado, seg�n las circunstancias que lo afecten.\n",
    "\n",
    "- El Comportamiento se refiere a las acciones, reacciones y conductas observables de un individuo o grupo en un contexto particular.\n",
    "- Buen comportamiento\n",
    "- Mal comportamiento\n",
    "---"
   ]
  },
  {
   "cell_type": "markdown",
   "metadata": {
    "slideshow": {
     "slide_type": "slide"
    }
   },
   "source": [
    "## La Inteligencia Artificial"
   ]
  },
  {
   "cell_type": "markdown",
   "metadata": {
    "slideshow": {
     "slide_type": "fragment"
    }
   },
   "source": [
    "- La inteligencia artificial es la inteligencia llevada a cabo por m�quinas. En ciencias de la computaci�n, una m�quina �inteligente� ideal es un agente flexible que percibe su entorno y lleva a cabo acciones que maximicen sus posibilidades de �xito en alg�n objetivo o tarea. Copilot\n",
    "\n",
    "- La inteligencia artificial es la simulaci�n de procesos de inteligencia humana por parte de m�quinas, especialmente sistemas inform�ticos. Estos procesos incluyen el aprendizaje (la adquisici�n de informaci�n y reglas para el uso de la informaci�n), el razonamiento (usando las reglas para llegar a conclusiones aproximadas o definitivas) y la autocorrecci�n.\n",
    "\n",
    "- La inteligencia artificial es una Subdisciplina del campo de la inform�tica, que busca la creaci�n de m�quinas que puedan imitar comportamientos inteligentes.\n",
    "---"
   ]
  },
  {
   "cell_type": "markdown",
   "metadata": {
    "slideshow": {
     "slide_type": "skip"
    }
   },
   "source": [
    "- En t�rminos simples, inteligencia artificial (IA) se refiere a sistemas o m�quinas que imitan la inteligencia humana para realizar tareas y pueden mejorar iterativamente a partir de la informaci�n que recopilan. Oracle\n",
    "  \n",
    "- La inteligencia artificial es una rama de las ciencias de la computaci�n que est�n relacionada con la construcci�n de m�quinas inteligentes capaces de realizar tareas que t�picamente requieren inteligencia humana.\n",
    "  \n",
    "- La inteligencia artificial permite a las computadoras y maquinas imitar las capacidades de resoluci�n de problemas y toma de decisiones de la mente humana.\n",
    "\n",
    "- Es la rama de la inform�tica que tiene como objetivos modelar,formalizar,programar e implementar maquinas capaces de realizar tareas que requieran inteligencia.\n",
    "\n",
    "- Es el estudio de la computaci�n que observa que una maquina sea capaz de percibir, razonar y actuar (Winston, 1992).\n",
    "\n",
    "- Es la ciencia de la obtenci�n de m�quinas que logren hacer cosas que requerir�an inteligencia si las hiciesen los humanos (Minsky, 1968).\n",
    "\n",
    "- Es la Rama de la ciencia computacional preocupada por la automatizaci�n de la conducta inteligente (Luger and Stubblefield, 1993).\n",
    "\n",
    "- Una Maquina Inteligente es la que realiza el proceso de analizar, organizar, y convertir los datos en conocimiento, donde el conocimiento del sistema es informaci�n\n",
    "estructurada adquirida y aplicada para reducir la ignorancia o la incertidumbre sobre una tarea espec�fica a realizar por esta (Pajares y Santos, 2006).\n",
    "\n",
    "- La inteligencia artificial tiene por objetivo el estudio en el comportamiento inteligente de las maquinas. (Russell y Norvig, 2004).\n",
    "\n",
    "- Desarrollo y utilizaci�n de computadoras con los que se intenta reproducir los procesos de la inteligencia humana.  (Larousse, 2008).\n",
    "---"
   ]
  },
  {
   "cell_type": "markdown",
   "metadata": {
    "slideshow": {
     "slide_type": "subslide"
    }
   },
   "source": [
    "### Test de Turing y la Habitaci�n China\n",
    "\n",
    "<div class=\"imagen\">\n",
    "<img src=\"https://drive.google.com/uc?id=10hGxM8dtKuak1aSaVveNVDMEdB6UrWYO\" alt=\"los chinos\"  >\n",
    "</div>\n",
    "\n",
    "- El Test de Turing es una prueba que se utiliza para evaluar la capacidad de una m�quina para mostrar un comportamiento inteligente similar al humano. Fue propuesto por el matem�tico y cient�fico de la computaci�n Alan Turing con el nombre de juego de imitacion.\n",
    "\n",
    "- Es un experimento Mental  ideado por John Searle, este trata de rebatir la validez del test de Turing y la creencia de que el pensamiento es simplemente computaci�n.\n",
    "\n",
    "---"
   ]
  },
  {
   "cell_type": "markdown",
   "metadata": {
    "slideshow": {
     "slide_type": "slide"
    }
   },
   "source": [
    "## Historia\n",
    "\n"
   ]
  },
  {
   "cell_type": "markdown",
   "metadata": {
    "slideshow": {
     "slide_type": "subslide"
    }
   },
   "source": [
    "### walter pitts y warren mcculloch\n",
    "\n",
    "<div class=\"imagen\">\n",
    "<img src=\"https://historyofinformation.com/images/Screen_Shot_2020-09-09_at_6.46.46_AM_big.png\" alt=\"Mcpits\"  >\n",
    "</div>\n",
    "\n",
    "En 1943 Warren McCulloch y Walter Pitts presentaron su modelo de neuronas artificiales. A Logical Calculus of Ideas Immanent in Nervous Activity\n",
    "\n",
    "---\n"
   ]
  },
  {
   "cell_type": "markdown",
   "metadata": {
    "slideshow": {
     "slide_type": "subslide"
    }
   },
   "source": [
    "<div  class=\"imagen\">\n",
    "<img src=\"https://www.researchgate.net/profile/Daniel_Courgeau/publication/264421256/figure/download/fig1/AS:613909933334563@1523378942645/The-McCulloch-and-Pitts-1943-model-of-a-single-neuron-Adapted-from-Franck-2002-143.png\" alt=\"Mcpits\"  >\n",
    "</div>\n",
    "\n",
    "    neurona de mcculloch y pitts\n",
    "\n",
    "---"
   ]
  },
  {
   "cell_type": "markdown",
   "metadata": {
    "slideshow": {
     "slide_type": "subslide"
    }
   },
   "source": [
    "### Donald Hebb\n",
    "\n",
    "\n",
    "<div class=\"imagen\">\n",
    "<img src=\"https://pymstatic.com/48888/conversions/donald-hebb-social.jpg\" alt=\"Mcpits\"  >\n",
    "</div>\n",
    "\n",
    "En 1949 Donald Hebb public� su libro The Organization of Behavior, en el que propuso que las neuronas que se activan simult�neamente se asocian entre s�.\n",
    "\n",
    "---"
   ]
  },
  {
   "cell_type": "markdown",
   "metadata": {
    "slideshow": {
     "slide_type": "subslide"
    }
   },
   "source": [
    "### Alan Turing\n",
    "\n",
    "<div class=\"imagen\">\n",
    "<img src=\"https://saibama.is/wp-content/uploads/2020/09/csm_Alan-Turing_59db33b201.jpg\" alt=\"Mcpits\"  >\n",
    "</div>\n",
    "\n",
    "En 1950 Alan Turing public� Computing Machinery and Intelligence, en el que propuso el test de Turing como criterio para juzgar la inteligencia de una m�quina, tambi�n introdujo los conceptos de aprendizaje autom�tico, los algoritmos gen�ricos y el aprendizaje por refuerzo.\n",
    "\n",
    "---"
   ]
  },
  {
   "cell_type": "markdown",
   "metadata": {
    "slideshow": {
     "slide_type": "subslide"
    }
   },
   "source": [
    "### Marvin Minsky y Dean Edmonds\n",
    "\n",
    "<div  class=\"imagen\">\n",
    "<img src=\"https://s3.amazonaws.com/s3.timetoast.com/public/uploads/photo/7033713/image/13c8c5149f435375f79b7471fb7eba38\" alt=\"Mcpits\"  >\n",
    "</div>\n",
    "\n",
    "En 1951 Marvin Minsky y Dean Edmonds, construyeron el SNARC el primer computador a partir de una red neuronal en 1951.\n",
    "\n",
    "---"
   ]
  },
  {
   "cell_type": "markdown",
   "metadata": {
    "slideshow": {
     "slide_type": "subslide"
    }
   },
   "source": [
    "### Arthur Samuel\n",
    "\n",
    "<div  class=\"imagen\">\n",
    "<img src=\"https://cdn-images-1.medium.com/max/1200/1*0-Zno7rZ-S8MGxw7pqTdvg.jpeg\" alt=\"Mcpits\"  >\n",
    "</div>\n",
    "\n",
    "En 1952  Arthur Samuel escribi� una serie de programas para el juego de las damas que eventualmente aprendieron a jugar hasta alcanzar un nivel equivalente al de un amateur.\n",
    "\n",
    "El campo de aprendizaje autom�tico se preocupa por el desarrollo de algoritmos que pueden aprender de los datos.\n",
    "\n",
    "---"
   ]
  },
  {
   "cell_type": "markdown",
   "metadata": {
    "slideshow": {
     "slide_type": "subslide"
    }
   },
   "source": [
    "### Dartmouth Gang\n",
    "\n",
    "<div  class=\"imagen\">\n",
    "<img src=\"https://th.bing.com/th/id/OIP.ovEzl2_Hi3tidl059JuSfQHaF5?pid=ImgDet&rs=1\" alt=\"Mcpits\"  >\n",
    "</div>\n",
    "\n",
    "En 1956 John McCarthy Junto a Marvin Minsky, Claude Shannon y Nathaniel Rochester con el fin de fomentar el interese de los investigadores americanos en la teor�a de aut�matas, las redes neuronales y el estudio de la inteligencia, organizaron un taller de 2 meses de duraci�n en el Dartmouth College.  \n",
    "\n",
    "---\n"
   ]
  },
  {
   "cell_type": "markdown",
   "metadata": {
    "slideshow": {
     "slide_type": "subslide"
    }
   },
   "source": [
    "### John McCarthy\n",
    "\n",
    "<div  class=\"imagen\">\n",
    "<img src=\"https://www.slashgear.com/wp-content/uploads/2011/10/mccarthy-536x420.png\" alt=\"Mcpits\"  >\n",
    "</div>\n",
    "\n",
    "\n",
    "En 1958 John McCarthy mientras trabajada en el MIT realizo 3   contribuciones cruciales: defini� el lenguaje de alto nivel Lisp, desarroll� el Time-Sharing y public� un art�culo titulado Programs with Common Sense, en el que describ�a el Generador de Consejos, un programa hipot�tico que podr�a considerarse como el primer sistema de IA completo.\n",
    "\n",
    "---\n"
   ]
  },
  {
   "cell_type": "markdown",
   "metadata": {
    "slideshow": {
     "slide_type": "subslide"
    }
   },
   "source": [
    "### Herbert Simon\n",
    "\n",
    "\"Actualmente en el mundo existen m�quinas capaces de pensar, aprender y crear. Su aptitud para hacer lo anterior aumentar� r�pidamente hasta que (en un futuro previsible) la magnitud de problemas que ser�n capaces de resolver ir� a la par que la capacidad de la mente humana para hacer lo mismo.\" - Herbert Simon, 1957.\n",
    "\n",
    "---"
   ]
  },
  {
   "cell_type": "markdown",
   "metadata": {
    "slideshow": {
     "slide_type": "subslide"
    }
   },
   "source": [
    "### Inicio de la Traducci�n Autom�tica\n",
    "\n",
    "<div  class=\"imagen\">\n",
    "<img src=\"https://th.bing.com/th/id/OIG.tbqsXtcM4KENsrsvJ02m?pid=ImgGn\" alt=\"Mcpits\"  >\n",
    "</div>\n",
    "\n",
    "En 1957, la traducci�n autom�tica fue financiada por el Consejo Nacional para la Investigaci�n de Estados Unidos para agilizar la traducci�n de art�culos cient�ficos rusos tras el lanzamiento del Sputnik.\n",
    "\n",
    "---"
   ]
  },
  {
   "cell_type": "markdown",
   "metadata": {
    "slideshow": {
     "slide_type": "subslide"
    }
   },
   "source": [
    "### Frank Rosenblatt\n",
    "\n",
    "<div  class=\"imagen\">\n",
    "<img src=\"https://upload.wikimedia.org/wikipedia/commons/thumb/b/b0/Perceptr%C3%B3n_5_unidades.svg/1920px-Perceptr%C3%B3n_5_unidades.svg.png\" alt=\"Mcpits\"  >\n",
    "</div>\n",
    "\n",
    "En 1958, Frank Rosenblatt desarroll� el modelo matem�tico conocido como �perceptr�n� . El perceptr�n es un tipo de red neuronal artificial que se utiliza para clasificar objetos en dos categor�as . Esta red neuronal se basa en un modelo simplificado de una neurona biol�gica y es capaz de aprender a partir de ejemplos de entrenamiento\n",
    "\n",
    "---"
   ]
  },
  {
   "cell_type": "markdown",
   "metadata": {
    "slideshow": {
     "slide_type": "subslide"
    }
   },
   "source": [
    "### Demostrador de Teoremas de Geometr�a\n",
    "\n",
    " \n",
    "En  1959 Herbert Gelernter construy� el demostrador de teoremas de geometr�a (DTG), el cual era capaz de probar teoremas que muchos estudiantes de matem�ticas pod�an encontrar muy complejos de resolver.\n",
    "\n",
    "---"
   ]
  },
  {
   "cell_type": "markdown",
   "metadata": {
    "slideshow": {
     "slide_type": "subslide"
    }
   },
   "source": [
    "### Perceptr�n\n",
    "\n",
    "<div  class=\"imagen\">\n",
    "<img src=\"https://s3.amazonaws.com/s3.timetoast.com/public/uploads/photos/7923138/3-pioneers_marq.jpg\" alt=\"Mcpits\"  >\n",
    "</div>\n",
    "\n",
    "En 1969, en el libro \"Perceptrons\" de Minsky y Papert, se demostr� que aunque los perceptrones (una red neuronal simple) pueden aprender cualquier cosa que puedan representar, su capacidad de representaci�n es muy limitada.\n",
    "\n",
    "---"
   ]
  },
  {
   "cell_type": "markdown",
   "metadata": {
    "slideshow": {
     "slide_type": "subslide"
    }
   },
   "source": [
    "### DENDRAL\n",
    " \n",
    "En 1969 de Ed Feigenbaum , Bruce Buchanan  y Joshua Lederberg  en la universidad de Stanford dise�aron el que es considerado el primer sistema experto DENDRAL, esto mientras buscaba la soluci�n del problema de inferir una estructura molecular a partir de la informaci�n proporcionada por un espectr�metro de masas.\n",
    "\n",
    "---"
   ]
  },
  {
   "cell_type": "markdown",
   "metadata": {
    "slideshow": {
     "slide_type": "subslide"
    }
   },
   "source": [
    "### R1\n",
    "\n",
    "En 1982 R1, el primer sistema experto comercial exitoso fue utilizado en  Digital Equipment Corporation en la elaboraci�n de pedidos de nuevos sistemas inform�ticos, para 1686 representaba para la compa��a un ahorro estimado de 40 millones de d�lares.\n",
    "\n",
    "---"
   ]
  },
  {
   "cell_type": "markdown",
   "metadata": {
    "slideshow": {
     "slide_type": "subslide"
    }
   },
   "source": [
    "### Deep Blue\n",
    "\n",
    "En 1997 una versi�n actualizada de  Deep Blue la inteligencia artificial creada por IBM se enfrent� al campe�n mundial de ajedrez Gary Kasparov y por primera vez una m�quina venci� a un ser humano en una competencia de esta disciplina.\n",
    "\n",
    "---"
   ]
  },
  {
   "cell_type": "markdown",
   "metadata": {
    "slideshow": {
     "slide_type": "subslide"
    }
   },
   "source": [
    "### GAN\n",
    "\n",
    "Las redes generativas adversarias (GAN) fueron propuestas por Ian Goodfellow en el a�o 2014\n",
    "\n",
    "---"
   ]
  },
  {
   "cell_type": "markdown",
   "metadata": {
    "slideshow": {
     "slide_type": "subslide"
    }
   },
   "source": [
    "### AlphaGo\n",
    "\n",
    "<div  class=\"imagen\">\n",
    "<img src=\"https://media.newyorker.com/photos/590975168b51cf59fc422f47/master/w_2560%2Cc_limit/House-Alpha-Go-2.jpg\" alt=\"Mcpits\"  >\n",
    "</div> \n",
    "\n",
    "En 2015   AlphaGo, una IA de Google derrot� al campe�n mundial de Go, Lee Sedol. El Go es  considerado el juego de estrategia m�s exigente del mundo.\n",
    "\n",
    "---"
   ]
  },
  {
   "cell_type": "markdown",
   "metadata": {
    "slideshow": {
     "slide_type": "subslide"
    }
   },
   "source": [
    "### Modelos de Difussion\n",
    "\n",
    "En 2015, se introdujeron los modelos de difusi�n en un art�culo titulado \"Deep Unsupervised Learning using Nonequilibrium Thermodynamics\" presentado por Jascha Sohl-Dickstein, Eric Weiss, Niru Maheswaranathan y Surya Ganguli. Estos modelos se basan en la termodin�mica del no equilibrio, que estudia sistemas que est�n fuera del equilibrio termodin�mico y trata con los procesos de transporte y las tasas de reacci�n qu�micas.\n",
    "\n",
    "---"
   ]
  },
  {
   "cell_type": "markdown",
   "metadata": {
    "slideshow": {
     "slide_type": "subslide"
    }
   },
   "source": [
    "### Transformer\n",
    "\n",
    "Los Transformers son modelos de aprendizaje profundo, una arquitectura de red neuronal, dise�ados para manipular datos secuenciales principalmente en el campo del procesamiento de lenguaje natural (NLP); traducci�n, predicci�n de texto, sumarizaci�n, o bien en el campo de las series de tiempo, forecasting y/o trading . Los Transformers fueron introducidos en un art�culo de investigaci�n de Google en 2017 titulado �Attention Is All You Need�\n",
    "\n",
    "---"
   ]
  },
  {
   "cell_type": "markdown",
   "metadata": {
    "slideshow": {
     "slide_type": "subslide"
    }
   },
   "source": [
    "### GPT-3\n",
    "\n",
    "GPT-3 fue introducido en mayo de 2020 y, hasta julio de 2020, se encontraba en fase beta 1. Es parte de una tendencia en sistemas de procesamiento de lenguaje natural (NLP) basados en �representaciones de lenguaje pre-entrenadas� \n",
    "\n",
    "---"
   ]
  },
  {
   "cell_type": "markdown",
   "metadata": {
    "slideshow": {
     "slide_type": "subslide"
    }
   },
   "source": [
    "### GauGAN\n",
    "\n",
    "GauGAN es una demostraci�n de IA para la generaci�n de im�genes fotorrealistas desarrollada por NVIDIA Research. GauGAN permite a cualquier persona crear paisajes impresionantes utilizando redes generativas antag�nicas.\n",
    "\n",
    "---"
   ]
  },
  {
   "cell_type": "markdown",
   "metadata": {
    "slideshow": {
     "slide_type": "subslide"
    }
   },
   "source": [
    "### DALL-E\n",
    "\n",
    "DALL-E es un sistema de inteligencia artificial desarrollado por OpenAI que puede crear im�genes realistas y arte a partir de una descripci�n en lenguaje natural  . DALL-E fue presentado por OpenAI en enero de 2021\n",
    "\n",
    "---"
   ]
  },
  {
   "cell_type": "markdown",
   "metadata": {
    "slideshow": {
     "slide_type": "subslide"
    }
   },
   "source": [
    "### GitHub Copilot\n",
    "\n",
    "GitHub Copilot es un asistente de programaci�n basado en inteligencia artificial desarrollado por GitHub y OpenAI. Copilot fue lanzado en versi�n beta el 29 de junio de 2021.\n",
    "\n",
    "---"
   ]
  },
  {
   "cell_type": "markdown",
   "metadata": {
    "slideshow": {
     "slide_type": "subslide"
    }
   },
   "source": [
    "### Midjourney\n",
    "\n",
    "Midjourney es un laboratorio independiente de investigaci�n y el nombre de un programa de inteligencia artificial con el cual sus usuarios pueden crear im�genes a partir de descripciones textuales  . Fue fundado por David Holz, quien tambi�n es cofundador de Leap Motion. La herramienta funcion� bajo versi�n de beta cerrada hasta que el 13 de julio de 2022 el laboratorio anunci� el comienzo de una beta abierta.\n",
    "\n",
    "---\n"
   ]
  },
  {
   "cell_type": "markdown",
   "metadata": {
    "slideshow": {
     "slide_type": "subslide"
    }
   },
   "source": [
    "### Stable Diffusion\n",
    "\n",
    "Stable Diffusion fue lanzado inicialmente el 22 de agosto de 2022 . Es un modelo de aprendizaje autom�tico desarrollado por Runway y LMU Munich para generar im�genes digitales de alta calidad a partir de descripciones en lenguaje natural o est�mulos  .\n",
    "\n",
    "---\n"
   ]
  },
  {
   "cell_type": "markdown",
   "metadata": {
    "slideshow": {
     "slide_type": "subslide"
    }
   },
   "source": [
    "### Ganador del concurso de arte\n",
    "\n",
    "<div  class=\"imagen\">\n",
    "<img src=\"https://www.clarin.com/img/2022/09/02/O6u2vpjOe_2000x1500__1.jpg\" alt=\"Mcpits\"  >\n",
    "</div>\n",
    "\n",
    "Jason Allen, cuyo nombre de usuario es Sincarnate en Discord, anunci� en el canal Midjourney que hab�a ganado el concurso de bellas artes de la Feria Estatal de Colorado, en la categor�a de artes digitales  . Utiliz� la IA Midjourney para participar en el concurso y acab� ganando la competencia  .\n",
    "\n",
    "---"
   ]
  },
  {
   "cell_type": "markdown",
   "metadata": {
    "slideshow": {
     "slide_type": "subslide"
    }
   },
   "source": [
    "### Transcripci�n de audio\n",
    "\n",
    "Whisper de OpenAI fue presentado en septiembre de 2022. Es un sistema de reconocimiento autom�tico de voz  y transcripcion entrenado con m�s de 680,000 horas de datos supervisados multiling�es y multitarea recopilados de la web.\n",
    "\n",
    "---"
   ]
  },
  {
   "cell_type": "markdown",
   "metadata": {
    "slideshow": {
     "slide_type": "subslide"
    }
   },
   "source": [
    "### ChatGPT\n",
    "\n",
    "ChatGPT, 30 de noviembre de 2022.\n",
    "\n",
    "---"
   ]
  },
  {
   "cell_type": "markdown",
   "metadata": {
    "slideshow": {
     "slide_type": "subslide"
    }
   },
   "source": [
    "### LLaMA\n",
    "\n",
    "Modelos Opensource\n",
    "\n",
    "- LLaMA ??\n",
    "- Alpaca\n",
    "- GPT4All\n",
    "- Chinese LLaMA / Alpaca\n",
    "- Vigogne (French)\n",
    "- Vicuna\n",
    "- Koala\n",
    "- OpenBuddy ?? (Multilingual)\n",
    "- Pygmalion 7B / Metharme 7B\n",
    "\n",
    "---"
   ]
  },
  {
   "cell_type": "markdown",
   "metadata": {
    "slideshow": {
     "slide_type": "subslide"
    }
   },
   "source": [
    "### GPT-4\n",
    "\n",
    "GPT-4, 14 de marzo del 2023\n",
    "\n",
    "---"
   ]
  },
  {
   "cell_type": "markdown",
   "metadata": {
    "slideshow": {
     "slide_type": "slide"
    }
   },
   "source": [
    "## Fudamentos de la IA"
   ]
  },
  {
   "cell_type": "markdown",
   "metadata": {
    "slideshow": {
     "slide_type": "subslide"
    }
   },
   "source": [
    "Filosof�a: La filosof�a proporciona la base conceptual y �tica para el desarrollo de la inteligencia artificial. Los fil�sofos se han ocupado de cuestiones fundamentales, como la definici�n de la inteligencia, la conciencia, el libre albedr�o y la moralidad, que son relevantes para el dise�o y la implementaci�n de sistemas inteligentes.\n",
    "\n",
    "---"
   ]
  },
  {
   "cell_type": "markdown",
   "metadata": {
    "slideshow": {
     "slide_type": "subslide"
    }
   },
   "source": [
    "Ling��stica: La ling��stica es esencial para el procesamiento del lenguaje natural en la inteligencia artificial. Los ling�istas investigan la estructura del lenguaje y c�mo se utiliza en la comunicaci�n humana, lo que es esencial para el desarrollo de sistemas de comprensi�n y generaci�n de lenguaje.\n",
    "\n",
    "---"
   ]
  },
  {
   "cell_type": "markdown",
   "metadata": {
    "slideshow": {
     "slide_type": "subslide"
    }
   },
   "source": [
    "Matem�ticas: La inteligencia artificial utiliza una amplia variedad de t�cnicas matem�ticas, como la estad�stica, el �lgebra lineal, el c�lculo y la teor�a de la informaci�n. Estas t�cnicas se utilizan en la modelizaci�n de datos, la optimizaci�n de algoritmos y la resoluci�n de problemas complejos.\n",
    "\n",
    "---"
   ]
  },
  {
   "cell_type": "markdown",
   "metadata": {
    "slideshow": {
     "slide_type": "subslide"
    }
   },
   "source": [
    "Econom�a: La econom�a es importante para la inteligencia artificial, ya que los sistemas inteligentes se utilizan cada vez m�s en el an�lisis y la predicci�n de los mercados y el comportamiento humano. Los economistas proporcionan modelos y teor�as que se utilizan en la creaci�n de sistemas de recomendaci�n, toma de decisiones y an�lisis de riesgos.\n",
    "\n",
    "---"
   ]
  },
  {
   "cell_type": "markdown",
   "metadata": {
    "slideshow": {
     "slide_type": "subslide"
    }
   },
   "source": [
    "Neurociencia: La neurociencia es importante para la inteligencia artificial, ya que los sistemas inteligentes est�n inspirados en la estructura y funci�n del cerebro humano. Los neurocient�ficos investigan la estructura y funci�n de las neuronas y las redes neuronales, lo que es esencial para el dise�o y la implementaci�n de algoritmos de aprendizaje profundo.\n",
    "\n",
    "---"
   ]
  },
  {
   "cell_type": "markdown",
   "metadata": {
    "slideshow": {
     "slide_type": "subslide"
    }
   },
   "source": [
    "Psicolog�a: La psicolog�a es esencial para la inteligencia artificial, ya que los sistemas inteligentes est�n dise�ados para imitar el comportamiento humano. Los psic�logos investigan la cognici�n, la percepci�n y la emoci�n, lo que es esencial para el dise�o y la implementaci�n de sistemas inteligentes que puedan interactuar con las personas.\n",
    "\n",
    "---"
   ]
  },
  {
   "cell_type": "markdown",
   "metadata": {
    "slideshow": {
     "slide_type": "subslide"
    }
   },
   "source": [
    "Ingenier�a Computacional: La ingenier�a computacional es fundamental para la inteligencia artificial, ya que los sistemas inteligentes se implementan mediante software y hardware. Los ingenieros computacionales se encargan del dise�o, la programaci�n y la optimizaci�n de los sistemas inteligentes.\n",
    "\n",
    "---"
   ]
  },
  {
   "cell_type": "markdown",
   "metadata": {
    "slideshow": {
     "slide_type": "subslide"
    }
   },
   "source": [
    "Teor�a de Control: La teor�a de control es importante para la inteligencia artificial, ya que los sistemas inteligentes deben ser capaces de controlar y regular su propio comportamiento. Los te�ricos de control investigan c�mo se pueden dise�ar sistemas de retroalimentaci�n y control para que los sistemas inteligentes sean capaces de adaptarse y aprender de su entorno.\n",
    "\n",
    "---"
   ]
  },
  {
   "cell_type": "markdown",
   "metadata": {
    "slideshow": {
     "slide_type": "slide"
    }
   },
   "source": [
    "## �reas de Aplicaci�n"
   ]
  },
  {
   "cell_type": "markdown",
   "metadata": {
    "slideshow": {
     "slide_type": "subslide"
    }
   },
   "source": [
    "Rob�tica y automatizaci�n: La inteligencia artificial se utiliza en el dise�o y control de robots y sistemas automatizados para realizar tareas complejas en la industria, la medicina, la exploraci�n espacial, la agricultura y otros campos.\n",
    "\n",
    "---"
   ]
  },
  {
   "cell_type": "markdown",
   "metadata": {
    "slideshow": {
     "slide_type": "subslide"
    }
   },
   "source": [
    "An�lisis de datos y Big Data: La inteligencia artificial se utiliza para analizar grandes conjuntos de datos, identificar patrones y tendencias, y hacer predicciones y recomendaciones precisas en �reas como el marketing, la banca, la salud y la seguridad.\n",
    "\n",
    "---"
   ]
  },
  {
   "cell_type": "markdown",
   "metadata": {
    "slideshow": {
     "slide_type": "subslide"
    }
   },
   "source": [
    "Asistentes virtuales y chatbots: La inteligencia artificial se utiliza para crear asistentes virtuales y chatbots que pueden interactuar con las personas y proporcionar informaci�n, soporte y servicios de manera automatizada.\n",
    "\n",
    "---"
   ]
  },
  {
   "cell_type": "markdown",
   "metadata": {
    "slideshow": {
     "slide_type": "subslide"
    }
   },
   "source": [
    "Reconocimiento de voz y procesamiento del lenguaje natural: La inteligencia artificial se utiliza en sistemas de reconocimiento de voz y procesamiento del lenguaje natural para interactuar con los usuarios de forma verbal y comprender y generar lenguaje humano.\n",
    "\n",
    "---"
   ]
  },
  {
   "cell_type": "markdown",
   "metadata": {
    "slideshow": {
     "slide_type": "subslide"
    }
   },
   "source": [
    "Visi�n por computadora: La inteligencia artificial se utiliza en sistemas de visi�n por computadora para analizar y procesar im�genes y videos y realizar tareas como reconocimiento de objetos, reconocimiento facial y seguimiento de movimiento.\n",
    "\n",
    "---"
   ]
  },
  {
   "cell_type": "markdown",
   "metadata": {
    "slideshow": {
     "slide_type": "subslide"
    }
   },
   "source": [
    "Juegos y entretenimiento: La inteligencia artificial se utiliza en la creaci�n de juegos y entretenimiento para simular comportamientos humanos y crear personajes y entornos m�s realistas y emocionantes.\n",
    "\n",
    "---"
   ]
  },
  {
   "cell_type": "markdown",
   "metadata": {
    "slideshow": {
     "slide_type": "subslide"
    }
   },
   "source": [
    "Medicina y salud: La inteligencia artificial se utiliza en la identificaci�n y diagn�stico de enfermedades, la personalizaci�n del tratamiento y la monitorizaci�n de la salud de los pacientes.\n",
    "\n",
    "---"
   ]
  },
  {
   "cell_type": "markdown",
   "metadata": {
    "slideshow": {
     "slide_type": "subslide"
    }
   },
   "source": [
    "Energ�a y medio ambiente: La inteligencia artificial se utiliza en la optimizaci�n de procesos de producci�n y distribuci�n de energ�a, la monitorizaci�n del medio ambiente y la prevenci�n de desastres naturales.\n",
    "\n",
    "---"
   ]
  },
  {
   "cell_type": "markdown",
   "metadata": {
    "slideshow": {
     "slide_type": "subslide"
    }
   },
   "source": [
    "Seguridad y defensa: La inteligencia artificial se utiliza en la detecci�n y prevenci�n de amenazas y en la protecci�n de infraestructuras cr�ticas y sistemas de seguridad.\n",
    "\n",
    "<div  class=\"imagen\">\n",
    "<img src=\"https://external-content.duckduckgo.com/iu/?u=https%3A%2F%2Fwww.techeblog.com%2Fwp-content%2Fuploads%2F2023%2F01%2Fdensepose-from-wifi-track-people-outline.jpg\" alt=\"Mcpits\"  >\n",
    "</div> \n",
    "\n",
    "---"
   ]
  },
  {
   "cell_type": "markdown",
   "metadata": {
    "slideshow": {
     "slide_type": "subslide"
    }
   },
   "source": [
    "Educaci�n: La inteligencia artificial se utiliza en la personalizaci�n del aprendizaje y la adaptaci�n de los planes de estudio a las necesidades individuales de los estudiantes.\n",
    "\n",
    "---"
   ]
  }
 ],
 "metadata": {
  "language_info": {
   "name": "python"
  },
  "orig_nbformat": 4
 },
 "nbformat": 4,
 "nbformat_minor": 2
}