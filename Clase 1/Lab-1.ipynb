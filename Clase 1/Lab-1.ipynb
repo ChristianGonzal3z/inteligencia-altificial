{
 "cells": [
  {
   "cell_type": "markdown",
   "metadata": {
    "slideshow": {
     "slide_type": "slide"
    }
   },
   "source": [
    "# Colab, Jupyter, MarkDown, Python y la consola\n",
    "\n",
    "---\n",
    "\n",
    "<style>\n",
    "      h1, h2, h3, h4, h5, h6,.imagen {\n",
    "        text-align: center;\n",
    "      }\n",
    " img{width: 50%; height: 50%;}\n",
    "</style>"
   ]
  },
  {
   "cell_type": "markdown",
   "metadata": {
    "slideshow": {
     "slide_type": "skip"
    }
   },
   "source": [
    "## Indice\n",
    "- [Colab, Jupyter, Markdown, Python y la consola](#Colab,-Jupyter,-MarkDown,-Python-y-la-consola)\n",
    "  - [indice](#indice)\n",
    "  - [Notas](#Notas)\n",
    "  - [Colab](#Colab)\n",
    "  - [Markdown](#Markdown)\n",
    "\n",
    "---\n"
   ]
  },
  {
   "cell_type": "markdown",
   "metadata": {
    "slideshow": {
     "slide_type": "subslide"
    }
   },
   "source": [
    "## Notas\n",
    "\n",
    "1. En esta materia veremos una peque�a introducci�n a Python, pero partimos del hecho de que usted ya sabe programar.\n",
    "\n",
    "2.  Recuerda siempre seleccionar el entorno de ejecuci�n adecuado antes de trabajar. S� un buen ingeniero y no pidas recursos que vas a desperdiciar.\n",
    "\n",
    "3. Si vas a utilizar GPUs (realizar inferencias, entrenar modelos o realizar cualquier tarea intensiva), debes ir al men� \"Entorno de ejecuci�n\" y seleccionar GPU o TPU seg�n sea el caso. Si lo que vas a hacer no requiere GPU, selecciona \"None\", as� cuando necesites una GPU la tendr�s disponible.\n",
    "\n",
    "4. Para utilizar Python o comandos Bash, crea una nueva celda de Python y en ella pones lo que t� quieras que se ejecute. En este caso, copia y pega lo que est� en el bloque de c�digo.\n",
    "\n",
    "---"
   ]
  },
  {
   "cell_type": "markdown",
   "metadata": {
    "slideshow": {
     "slide_type": "subslide"
    }
   },
   "source": [
    "## Colab\n"
   ]
  },
  {
   "cell_type": "markdown",
   "metadata": {
    "slideshow": {
     "slide_type": "fragment"
    }
   },
   "source": [
    "[Google Colab](https://colab.research.google.com/) (abreviatura de Collaboratory) es una plataforma de Google que permite a los usuarios crear y ejecutar notebooks de Jupyter en l�nea de forma gratuita. Los notebooks de Jupyter son una herramienta popular en la ciencia de datos y el aprendizaje autom�tico, ya que permiten combinar c�digo, texto y visualizaciones en un solo documento interactivo.\n",
    "\n",
    "---"
   ]
  },
  {
   "cell_type": "markdown",
   "metadata": {
    "slideshow": {
     "slide_type": "subslide"
    }
   },
   "source": [
    "Principalmente en los cuadernos de Colab, podemos desarrollar herramientas utilizando Python y comandos Bash.\n",
    "\n",
    "```python\n",
    "\n",
    "print(\"Hola mundo\") # Imprimir en pantalla\n",
    "!pwd # Imprimir directorio actual\n",
    "%ls # Listar archivos en el directorio actual\n",
    "\n",
    "```"
   ]
  },
  {
   "cell_type": "code",
   "execution_count": null,
   "metadata": {
    "slideshow": {
     "slide_type": "fragment"
    }
   },
   "outputs": [],
   "source": [
    "print(\"Hola mundo\") # Imprimir en pantalla"
   ]
  },
  {
   "cell_type": "code",
   "execution_count": null,
   "metadata": {
    "slideshow": {
     "slide_type": "fragment"
    }
   },
   "outputs": [],
   "source": [
    "%pwd # Imprimir directorio actual"
   ]
  },
  {
   "cell_type": "code",
   "execution_count": null,
   "metadata": {
    "slideshow": {
     "slide_type": "fragment"
    }
   },
   "outputs": [],
   "source": [
    "%ls -r # Listar archivos en el directorio actual"
   ]
  },
  {
   "cell_type": "markdown",
   "metadata": {
    "slideshow": {
     "slide_type": "subslide"
    }
   },
   "source": [
    "### �Como es Colab?\n",
    "\n",
    "- Interfaz\n",
    "- Entorno de ejecuci�n\n",
    "- Celdas de c�digo\n",
    "- Celdas de texto\n",
    "- Celdas de salida\n",
    "- Directorio de archivos\n",
    "- Guardar Archivo\n",
    "\n",
    "---"
   ]
  },
  {
   "cell_type": "markdown",
   "metadata": {
    "slideshow": {
     "slide_type": "slide"
    }
   },
   "source": [
    "## Markdown"
   ]
  },
  {
   "cell_type": "markdown",
   "metadata": {
    "slideshow": {
     "slide_type": "subslide"
    }
   },
   "source": [
    "## �Que es Markdown?\n",
    "\n",
    "Markdown es un lenguaje de marcado ligero que se utiliza para formatear texto. Fue creado por John Gruber en 2004 con el objetivo de permitir a los usuarios escribir en formato f�cil de leer y f�cil de escribir, y que pudiera ser convertido en HTML. Es por esto que el lenguaje Markdown es muy utilizado en foros y blogs.\n",
    "\n",
    "En Colab, podemos utilizar Markdown para dar formato a las celdas de texto. Para ello, debemos seleccionar el tipo de celda Markdown en el men� desplegable de la barra superior.\n",
    "\n",
    "---\n"
   ]
  },
  {
   "cell_type": "markdown",
   "metadata": {
    "slideshow": {
     "slide_type": "subslide"
    }
   },
   "source": [
    "## Instrucciones b�sicas de Markdown"
   ]
  },
  {
   "cell_type": "markdown",
   "metadata": {
    "slideshow": {
     "slide_type": "subslide"
    }
   },
   "source": [
    "### Encabezados\n",
    "\n",
    "Para escribir encabezados utilizaremos s�mbolo # m�s un espacio y el texto del encabezado. Cuantos m�s s�mbolos # utilicemos, menor ser� el tama�o del encabezado. Ejemplo:\n",
    "\n",
    "```markdown\n",
    "# Encabezado 1 equivalente a <h1>Encabezado 1</h1>\n",
    "## Encabezado 2 equivalente a <h2>Encabezado 2</h2>\n",
    "### Encabezado 3 equivalente a <h3>Encabezado 3</h3>\n",
    "#### Encabezado 4  equivalente a <h4>Encabezado 4</h4>\n",
    "##### Encabezado 5 equivalente a <h5>Encabezado 5</h5>\n",
    "```\n",
    "\n",
    "# Encabezado 1\n",
    "## Encabezado 2\n",
    "### Encabezado 3\n",
    "#### Encabezado 4\n",
    "##### Encabezado 5\n",
    "\n",
    "---"
   ]
  },
  {
   "cell_type": "markdown",
   "metadata": {
    "slideshow": {
     "slide_type": "subslide"
    }
   },
   "source": [
    "### Resaltar de texto\n",
    "\n",
    "Para resaltar texto podemos utilizar negrita o cursiva. Para escribir en negrita debemos escribir el texto entre dos asteriscos o dos guiones bajos. Para escribir en cursiva debemos escribir el texto entre un asterisco o un gui�n bajo. Ejemplo:\n",
    "\n",
    "```markdown\n",
    "**Texto en negrita** o __Texto en negrita__\n",
    "*Texto en cursiva* o _Texto en cursiva_\n",
    "```\n",
    "\n",
    "**Texto en negrita** o __Texto en negrita__\n",
    "\n",
    "*Texto en cursiva* o _Texto en cursiva_\n",
    "\n",
    "---"
   ]
  },
  {
   "cell_type": "markdown",
   "metadata": {
    "slideshow": {
     "slide_type": "subslide"
    }
   },
   "source": [
    "### Codigos\n",
    "\n",
    "Para escribir c�digo de programaci�n debemos escribir el texto entre dos acentos graves. Ejemplo:\n",
    "\n",
    "```markdown\n",
    "\n",
    "`print(\"Hola mundo\")`\n",
    "\n",
    "```\n",
    "\n",
    "`print(\"Hola mundo\")`\n",
    "\n",
    "para escribir bloques de c�digo de programaci�n debemos escribir el texto entre tres acentos graves. Ejemplo:\n",
    "\n",
    "```markdown\n",
    "```markdown   \n",
    ">>> x = 5\n",
    "``` \n",
    "\n",
    "```\n",
    "\n",
    "--- "
   ]
  },
  {
   "cell_type": "markdown",
   "metadata": {
    "slideshow": {
     "slide_type": "subslide"
    }
   },
   "source": [
    "### Listas\n",
    "\n",
    "Para crear listas, simplemente utiliza asteriscos o guiones antes de cada elemento de la lista. Para crear listas numeradas, utiliza n�meros seguidos de un punto. Por ejemplo:\n",
    "\n",
    "```markdown\n",
    "\n",
    "- Elemento 1\n",
    "- Elemento 2\n",
    "- Elemento 3\n",
    "\n",
    "1. Elemento 1\n",
    "2. Elemento 2\n",
    "3. Elemento 3\n",
    "    \n",
    "```\n",
    "\n",
    "- Elemento 1\n",
    "- Elemento 2\n",
    "- Elemento 3\n",
    "\n",
    "1. Elemento 1\n",
    "2. Elemento 2\n",
    "3. Elemento 3\n",
    "\n",
    "---\n",
    "\n",
    " "
   ]
  },
  {
   "cell_type": "markdown",
   "metadata": {
    "slideshow": {
     "slide_type": "subslide"
    }
   },
   "source": [
    "### Listas de tareas\n",
    "\n",
    "Para crear listas de tareas, utiliza guiones seguidos de corchetes. Por ejemplo:\n",
    "\n",
    "```markdown\n",
    "\n",
    "- [x] Tarea 1\n",
    "- [x] Tarea 2\n",
    "- [ ] Tarea 3\n",
    "\n",
    "```\n",
    "\n",
    "- [x] Tarea 1\n",
    "- [ ] Tarea 2\n",
    "- [ ] Tarea 3"
   ]
  },
  {
   "cell_type": "markdown",
   "metadata": {
    "slideshow": {
     "slide_type": "subslide"
    }
   },
   "source": [
    "### Enlaces\n",
    "\n",
    "Para crear un enlace, utiliza corchetes para el texto del enlace y par�ntesis para la URL. Por ejemplo, \n",
    "\n",
    "```markdown\n",
    "[enlace](https://th.bing.com/th/id/OIG.oeYrrLh4yAGxySPDIqjl?pid=ImgGn) \n",
    "```\n",
    "\n",
    "[enlace](https://th.bing.com/th/id/OIG.oeYrrLh4yAGxySPDIqjl?pid=ImgGn)\n",
    "\n",
    "---"
   ]
  },
  {
   "cell_type": "markdown",
   "metadata": {
    "slideshow": {
     "slide_type": "subslide"
    }
   },
   "source": [
    "### Citas\n",
    "\n",
    "Para citar texto, utiliza el s�mbolo > antes de la cita. Por ejemplo,\n",
    "\n",
    "```markdown\n",
    "\n",
    "> Esto es una cita de texto.\n",
    "```\n",
    "\n",
    "> Esto es una cita de texto.\n",
    "\n",
    "---"
   ]
  },
  {
   "cell_type": "markdown",
   "metadata": {
    "slideshow": {
     "slide_type": "subslide"
    }
   },
   "source": [
    "### Tablas\n",
    "\n",
    "Para crear una tabla, utiliza guiones para separar la primera fila, y pipes para separar cada columna. Por ejemplo:\n",
    "\n",
    "```markdown\n",
    "| Nombre    | Apellido | Edad |\n",
    "|-----------|----------|------|\n",
    "| John      | Smith    | 30   |\n",
    "| Jane      | Doe      | 25   |\n",
    "| Michael   | Johnson  | 40   |\n",
    "```\n",
    "| Nombre    | Apellido | Edad |\n",
    "|-----------|----------|------|\n",
    "| John      | Smith    | 30   |\n",
    "| Jane      | Doe      | 25   |\n",
    "| Michael   | Johnson  | 40   |\n",
    "\n",
    "---"
   ]
  },
  {
   "cell_type": "markdown",
   "metadata": {
    "slideshow": {
     "slide_type": "subslide"
    }
   },
   "source": [
    "### LaTeX\n",
    "\n",
    "Para escribir f�rmulas matem�ticas, utiliza el s�mbolo $ antes y despu�s de la f�rmula. Por ejemplo:\n",
    "\n",
    "```LaTeX\n",
    "$y = x^2$\n",
    "$y = mx + b$\n",
    "$y = f\\left(\\sum_{i=1}^{n} (w_i \\cdot x_i) + b\\right)$\n",
    "```\n",
    "\n",
    "$y = mx + b$\n",
    "\n",
    "$y = x^2$\n",
    "\n",
    "$y = f\\left(\\sum_{i=1}^{n} (w_i \\cdot x_i) + b\\right)$"
   ]
  },
  {
   "cell_type": "markdown",
   "metadata": {
    "slideshow": {
     "slide_type": "slide"
    }
   },
   "source": [
    "## Consola\n",
    "\n"
   ]
  },
  {
   "cell_type": "markdown",
   "metadata": {
    "slideshow": {
     "slide_type": "fragment"
    }
   },
   "source": [
    "La consola es una herramienta que nos permite interactuar con el sistema operativo mediante comandos. En Colab, podemos utilizar la consola para ejecutar comandos de Linux. Para ello, debemos escribir el s�mbolo de exclamaci�n ! antes del comando. "
   ]
  },
  {
   "cell_type": "markdown",
   "metadata": {
    "slideshow": {
     "slide_type": "subslide"
    }
   },
   "source": [
    "Para listar los archivos en el directorio actual, podemos utilizar el comando ls.\n",
    "\n",
    "```python\n",
    "\n",
    "%ls\n",
    "\n",
    "```"
   ]
  },
  {
   "cell_type": "markdown",
   "metadata": {
    "slideshow": {
     "slide_type": "subslide"
    }
   },
   "source": [
    "para cambiar de directorio podemos utilizar el comando cd.\n",
    "\n",
    "```python\n",
    "\n",
    "%cd /content\n",
    "\n",
    "```"
   ]
  },
  {
   "cell_type": "markdown",
   "metadata": {
    "slideshow": {
     "slide_type": "subslide"
    }
   },
   "source": [
    "Para crear un directorio, podemos utilizar el comando mkdir.\n",
    "\n",
    "```python\n",
    "\n",
    "%mkdir directorio\n",
    "\n",
    "```"
   ]
  },
  {
   "cell_type": "markdown",
   "metadata": {
    "slideshow": {
     "slide_type": "subslide"
    }
   },
   "source": [
    "Para crear un archivo, podemos utilizar el comando touch.\n",
    "\n",
    "```python\n",
    "\n",
    "%touch archivo.txt\n",
    "\n",
    "```"
   ]
  },
  {
   "cell_type": "markdown",
   "metadata": {
    "slideshow": {
     "slide_type": "subslide"
    }
   },
   "source": [
    "Para borrar un archivo, podemos utilizar el comando rm.\n",
    "\n",
    "```python\n",
    "\n",
    "%rm archivo.txt\n",
    "\n",
    "```"
   ]
  },
  {
   "cell_type": "markdown",
   "metadata": {
    "slideshow": {
     "slide_type": "subslide"
    }
   },
   "source": [
    "La consola tambi�n nos permite instalar librer�as de Python. Por ejemplo, para instalar la librer�a numpy, podemos utilizar el comando pip install.\n",
    "\n",
    "```python\n",
    "\n",
    "!pip install torchvision\n",
    "\n",
    "```"
   ]
  },
  {
   "cell_type": "markdown",
   "metadata": {
    "slideshow": {
     "slide_type": "subslide"
    }
   },
   "source": [
    "Podemos crear un script de python en la consola, una de las maneras es la siguiente:\n",
    "\n",
    "\n",
    "```python\n",
    "\n",
    "#crear el directorio\n",
    "%mkdir scripts_temporales\n",
    "#crear el archivo\n",
    "!touch  /content/scripts_temporales/holamundo.py  \n",
    "#escribir en el archivo\n",
    "!echo    \"print(\\\"Hola mun...Colab\\\")\" >> /content/scripts_temporales/holamundo.py \n",
    "#ejecutar el archivo\n",
    "!python /content/scripts_temporales/holamundo.py\n",
    "\n",
    "```"
   ]
  },
  {
   "cell_type": "markdown",
   "metadata": {
    "slideshow": {
     "slide_type": "subslide"
    }
   },
   "source": [
    "Descarga de archivos\n",
    "\n",
    "```python\n",
    "\n",
    "!mkdir /content/ISOS\n",
    "#---enlace------------------------------------------------------------------------destino\n",
    "!wget  https://releases.ubuntu.com/22.04.1/ubuntu-22.04.1-live-server-amd64.iso  -P  /content/ISOS \n",
    "\n",
    "```"
   ]
  },
  {
   "cell_type": "markdown",
   "metadata": {
    "slideshow": {
     "slide_type": "subslide"
    }
   },
   "source": [
    "Clonar repositorios git\n",
    "\n",
    "```python\n",
    "\n",
    "!mkdir /content/repositorios\n",
    "!git clone https://github.com/huggingface/diffusers  /content/repositorios\n",
    "\n",
    "\n",
    "```"
   ]
  },
  {
   "cell_type": "markdown",
   "metadata": {
    "slideshow": {
     "slide_type": "slide"
    }
   },
   "source": [
    "## Python"
   ]
  },
  {
   "cell_type": "markdown",
   "metadata": {
    "slideshow": {
     "slide_type": "subslide"
    }
   },
   "source": [
    "Python es un lenguaje de programaci�n de alto nivel, interpretado, din�mico y multiplataforma. Fue creado en 1991 por Guido van Rossum y ha crecido en popularidad desde entonces debido a su legibilidad, simplicidad y facilidad de aprendizaje. Python es un lenguaje de programaci�n vers�til que se puede utilizar en una variedad de aplicaciones, desde la programaci�n de scripts simples hasta la creaci�n de aplicaciones de escritorio y web complejas, la ciencia de datos y el aprendizaje autom�tico."
   ]
  },
  {
   "cell_type": "markdown",
   "metadata": {
    "slideshow": {
     "slide_type": "subslide"
    }
   },
   "source": [
    "Algunas de las caracter�sticas clave de Python incluyen:\n",
    "\n",
    "- Legibilidad: Python est� dise�ado para ser f�cil de leer y escribir, lo que lo hace ideal para principiantes y para la colaboraci�n en equipo.\n",
    "\n",
    "- Multiparadigma: Python admite m�ltiples paradigmas de programaci�n, incluida la programaci�n orientada a objetos, la programaci�n funcional y la programaci�n imperativa.\n",
    "\n",
    "- Biblioteca est�ndar extensa: Python viene con una biblioteca est�ndar completa y extensa que proporciona m�dulos para tareas comunes de programaci�n, como trabajar con archivos, redes, bases de datos, criptograf�a, etc.\n",
    "\n",
    "- Comunidad activa: Python cuenta con una gran comunidad de desarrolladores y usuarios que contribuyen con bibliotecas y herramientas �tiles, y ofrecen soporte y recursos en l�nea.\n"
   ]
  },
  {
   "cell_type": "markdown",
   "metadata": {
    "slideshow": {
     "slide_type": "subslide"
    }
   },
   "source": [
    "### Variables"
   ]
  },
  {
   "cell_type": "markdown",
   "metadata": {
    "slideshow": {
     "slide_type": "subslide"
    }
   },
   "source": [
    "Para crear una variable en Python, simplemente escribe el nombre de la variable seguido del signo igual y el valor que deseas asignar a la variable.  \n",
    " "
   ]
  },
  {
   "cell_type": "code",
   "execution_count": null,
   "metadata": {
    "slideshow": {
     "slide_type": "fragment"
    }
   },
   "outputs": [],
   "source": [
    "#declarar una variable\n",
    "x = 5\n",
    "\n",
    "# imprimir el valor de la variable\n",
    "print(x)"
   ]
  },
  {
   "cell_type": "markdown",
   "metadata": {
    "slideshow": {
     "slide_type": "subslide"
    }
   },
   "source": [
    "Una variable en Python puede tener cualquier valor, de cualquier tipo y este puede cambiarse por cualquier otro valor de cualquier tipo en tiempo de ejecuci�n.  "
   ]
  },
  {
   "cell_type": "code",
   "execution_count": null,
   "metadata": {
    "slideshow": {
     "slide_type": "fragment"
    }
   },
   "outputs": [],
   "source": [
    "#declarar una variable\n",
    "contador=0\n",
    "#uso correcto\n",
    "print(contador+1)\n",
    "#asignacion extra�a\n",
    "contador=\"algo\"\n",
    "print(contador+str(1))\n",
    "#declaracion involuntaria\n",
    "Contador=52"
   ]
  },
  {
   "cell_type": "markdown",
   "metadata": {
    "slideshow": {
     "slide_type": "subslide"
    }
   },
   "source": [
    "### Lectura de datos"
   ]
  },
  {
   "cell_type": "markdown",
   "metadata": {
    "slideshow": {
     "slide_type": "subslide"
    }
   },
   "source": [
    "Para leer datos desde el teclado, podemos utilizar la funci�n input. Por ejemplo:\n",
    "\n",
    "```python\n",
    "\n",
    "#leer un dato\n",
    "\n",
    "dato=input(\"ingrese un dato: \")\n",
    "\n",
    "#imprimir el dato\n",
    "\n",
    "print(dato)\n",
    "\n",
    "```"
   ]
  },
  {
   "cell_type": "markdown",
   "metadata": {
    "slideshow": {
     "slide_type": "subslide"
    }
   },
   "source": [
    "Si queremos leer un n�mero, debemos convertir el dato a un tipo num�rico. Por ejemplo:\n",
    "\n",
    "```python\n",
    "\n",
    "#leer un numero\n",
    "\n",
    "numero=int(input(\"ingrese un numero: \"))\n",
    "\n",
    "\n",
    "#imprimir el numero\n",
    "\n",
    "\n",
    "print(numero)\n",
    "\n",
    "```\n"
   ]
  },
  {
   "cell_type": "markdown",
   "metadata": {
    "slideshow": {
     "slide_type": "subslide"
    }
   },
   "source": [
    "### Tipos de datos"
   ]
  },
  {
   "cell_type": "code",
   "execution_count": null,
   "metadata": {
    "slideshow": {
     "slide_type": "fragment"
    }
   },
   "outputs": [],
   "source": [
    "x = 5\n",
    "print(type(x)) # int\n",
    "\n",
    "y = 5.0\n",
    "print(type(y)) # float\n",
    "\n",
    "z = \"Hola\"\n",
    "print(type(z)) # str\n",
    "\n",
    "w = True\n",
    "print(type(w)) # bool"
   ]
  },
  {
   "cell_type": "markdown",
   "metadata": {
    "slideshow": {
     "slide_type": "subslide"
    }
   },
   "source": [
    "### Operadores"
   ]
  },
  {
   "cell_type": "code",
   "execution_count": null,
   "metadata": {
    "slideshow": {
     "slide_type": "fragment"
    }
   },
   "outputs": [],
   "source": [
    "x = 5\n",
    "y = 3\n",
    "\n",
    "a = True\n",
    "b = False"
   ]
  },
  {
   "cell_type": "code",
   "execution_count": null,
   "metadata": {
    "slideshow": {
     "slide_type": "subslide"
    }
   },
   "outputs": [],
   "source": [
    "#suma\n",
    "print(\"Suma:\\n {} + {} = {}\\n\".format(x, y, x + y))\n",
    "\n",
    "#resta\n",
    "print(\"Resta:\\n {} - {} = {}\\n\".format(x, y, x - y))\n",
    "\n",
    "#multiplicacion\n",
    "print(\"Multiplicacion:\\n {} * {} = {}\\n\".format(x, y, x * y))"
   ]
  },
  {
   "cell_type": "code",
   "execution_count": null,
   "metadata": {
    "slideshow": {
     "slide_type": "subslide"
    }
   },
   "outputs": [],
   "source": [
    "#division\n",
    "print(\"Division:\\n {} / {} = {}\\n\".format(x, y, x / y))\n",
    "\n",
    "#potencia\n",
    "print(\"Potencia:\\n {} ** {} = {}\\n\".format(x, y, x ** y))\n",
    "\n",
    "#modulo\n",
    "print(\"Modulo:\\n {} % {} = {}\\n\".format(x, y, x % y)) "
   ]
  },
  {
   "cell_type": "code",
   "execution_count": null,
   "metadata": {
    "slideshow": {
     "slide_type": "subslide"
    }
   },
   "outputs": [],
   "source": [
    "# operadres relacionales\n",
    "print(\"Operadores relacionales:\\n {} == {} = {}\\n\".format(x, y, x == y))\n",
    "print(\"Operadores relacionales:\\n {} != {} = {}\\n\".format(x, y, x != y))\n",
    "print(\"Operadores relacionales:\\n {} > {} = {}\\n\".format(x, y, x > y))"
   ]
  },
  {
   "cell_type": "code",
   "execution_count": null,
   "metadata": {
    "slideshow": {
     "slide_type": "subslide"
    }
   },
   "outputs": [],
   "source": [
    "print(\"Operadores relacionales:\\n {} < {} = {}\\n\".format(x, y, x < y))\n",
    "print(\"Operadores relacionales:\\n {} >= {} = {}\\n\".format(x, y, x >= y))\n",
    "print(\"Operadores relacionales:\\n {} <= {} = {}\\n\".format(x, y, x <= y))\n"
   ]
  },
  {
   "cell_type": "code",
   "execution_count": null,
   "metadata": {
    "slideshow": {
     "slide_type": "subslide"
    }
   },
   "outputs": [],
   "source": [
    "# operadores logicos\n",
    "\n",
    "print(\"Operadores logicos:\\n {} and {} = {}\\n\".format(a, b, a and b))\n",
    "print(\"Operadores logicos:\\n {} or {} = {}\\n\".format(a, b, a or b))\n",
    "print(\"Operadores logicos:\\n {} not {} = {}\\n\".format(a, b, not b))"
   ]
  },
  {
   "cell_type": "markdown",
   "metadata": {
    "slideshow": {
     "slide_type": "subslide"
    }
   },
   "source": [
    "## Estructuras de control"
   ]
  },
  {
   "cell_type": "markdown",
   "metadata": {
    "slideshow": {
     "slide_type": "subslide"
    }
   },
   "source": [
    "### Condicionales"
   ]
  },
  {
   "cell_type": "code",
   "execution_count": null,
   "metadata": {
    "slideshow": {
     "slide_type": "subslide"
    }
   },
   "outputs": [],
   "source": [
    "x = 5\n",
    "if x > 0:\n",
    "    print(\"x es positivo\")\n",
    "elif x < 0:\n",
    "    print(\"x es negativo\")\n",
    "else:\n",
    "    print(\"x es cero\")"
   ]
  },
  {
   "cell_type": "code",
   "execution_count": null,
   "metadata": {
    "slideshow": {
     "slide_type": "subslide"
    }
   },
   "outputs": [],
   "source": [
    "x = 5\n",
    "\n",
    "match x:\n",
    "    case 0:\n",
    "        print(\"x es cero\")\n",
    "    case 1:\n",
    "        print(\"x es uno\")\n",
    "    case 2:\n",
    "        print(\"x es dos\")\n",
    "    case _:\n",
    "        print(\"x es otro n�mero\")"
   ]
  },
  {
   "cell_type": "markdown",
   "metadata": {
    "slideshow": {
     "slide_type": "subslide"
    }
   },
   "source": [
    "### Bucles"
   ]
  },
  {
   "cell_type": "code",
   "execution_count": null,
   "metadata": {
    "slideshow": {
     "slide_type": "subslide"
    }
   },
   "outputs": [],
   "source": [
    "# Bucle while\n",
    "i = 1\n",
    "while i <= 5:\n",
    "    print(i)\n",
    "    i += 1\n"
   ]
  },
  {
   "cell_type": "code",
   "execution_count": null,
   "metadata": {
    "slideshow": {
     "slide_type": "subslide"
    }
   },
   "outputs": [],
   "source": [
    "# Bucle for\n",
    "frutas = [\"manzana\", \"banana\", \"cereza\"]\n",
    "for fruta in frutas:\n",
    "    print(fruta)\n"
   ]
  },
  {
   "cell_type": "markdown",
   "metadata": {
    "slideshow": {
     "slide_type": "subslide"
    }
   },
   "source": [
    "## Funciones"
   ]
  },
  {
   "cell_type": "code",
   "execution_count": null,
   "metadata": {
    "slideshow": {
     "slide_type": "subslide"
    }
   },
   "outputs": [],
   "source": [
    "# Funci�n sin par�metros\n",
    "\n",
    "def saludar():\n",
    "    print(\"Hola mundo!\")\n",
    "\n",
    "saludar() # Hola mundo!"
   ]
  },
  {
   "cell_type": "code",
   "execution_count": null,
   "metadata": {
    "slideshow": {
     "slide_type": "subslide"
    }
   },
   "outputs": [],
   "source": [
    "# Funci�n con par�metros\n",
    "\n",
    "def saludar(nombre):\n",
    "    print(\"Hola \" + nombre + \"!\")\n",
    "\n",
    "saludar(\"Juan\") # Hola Juan!"
   ]
  },
  {
   "cell_type": "code",
   "execution_count": null,
   "metadata": {
    "slideshow": {
     "slide_type": "subslide"
    }
   },
   "outputs": [],
   "source": [
    "# Funci�n con par�metros opcionales\n",
    "\n",
    "def saludar(nombre = \"Mundo\"):\n",
    "    print(\"Hola \" + nombre + \"!\")\n",
    "\n",
    "saludar() # Hola Mundo!\n",
    "\n",
    "saludar(\"Juan\") # Hola Juan!"
   ]
  },
  {
   "cell_type": "code",
   "execution_count": null,
   "metadata": {
    "slideshow": {
     "slide_type": "subslide"
    }
   },
   "outputs": [],
   "source": [
    "# Funci�n con retorno\n",
    "\n",
    "def sumar(x, y):\n",
    "    return x + y\n",
    "\n",
    "print(sumar(5, 3)) # 8"
   ]
  },
  {
   "cell_type": "code",
   "execution_count": null,
   "metadata": {
    "slideshow": {
     "slide_type": "subslide"
    }
   },
   "outputs": [],
   "source": [
    "# Funci�n con retorno m�ltiple\n",
    "\n",
    "def sumar_y_restar(x, y):\n",
    "    return x + y, x - y\n",
    "\n",
    "print(sumar_y_restar(5, 3)) # (8, 2)"
   ]
  },
  {
   "cell_type": "code",
   "execution_count": null,
   "metadata": {
    "slideshow": {
     "slide_type": "subslide"
    }
   },
   "outputs": [],
   "source": [
    "# Funci�n con par�metros variables\n",
    "\n",
    "def sumar(*numeros):\n",
    "    resultado = 0\n",
    "    for numero in numeros:\n",
    "        resultado += numero\n",
    "    return resultado\n",
    "\n",
    "print(sumar(1, 2, 3, 4, 5)) # 15"
   ]
  },
  {
   "cell_type": "code",
   "execution_count": null,
   "metadata": {
    "slideshow": {
     "slide_type": "subslide"
    }
   },
   "outputs": [],
   "source": [
    "# Funci�n con par�metros variables con nombre\n",
    "\n",
    "def saludar(**kwargs):\n",
    "    for key, value in kwargs.items():\n",
    "        print(\"Hola \" + value + \"!\")\n",
    "\n",
    "saludar(nombre = \"Juan\") # Hola Juan!\n",
    "\n",
    "saludar(nombre = \"Juan\", apellido = \"Perez\") # Hola Juan Perez!"
   ]
  },
  {
   "cell_type": "code",
   "execution_count": null,
   "metadata": {
    "slideshow": {
     "slide_type": "subslide"
    }
   },
   "outputs": [],
   "source": [
    "# Funci�n an�nima\n",
    "\n",
    "sumar = lambda x, y: x + y\n",
    "\n",
    "print(sumar(5, 3)) # 8"
   ]
  },
  {
   "cell_type": "markdown",
   "metadata": {
    "slideshow": {
     "slide_type": "subslide"
    }
   },
   "source": [
    "## Colecciones\n",
    "\n",
    "\n",
    "\n"
   ]
  },
  {
   "cell_type": "markdown",
   "metadata": {
    "slideshow": {
     "slide_type": "subslide"
    }
   },
   "source": [
    "### Listas\n",
    "\n",
    "Una lista es una colecci�n ordenada y modificable de elementos. En Python, las listas se definen escribiendo los elementos entre corchetes [] separados por comas."
   ]
  },
  {
   "cell_type": "code",
   "execution_count": null,
   "metadata": {
    "slideshow": {
     "slide_type": "subslide"
    }
   },
   "outputs": [],
   "source": [
    "# Crear una lista\n",
    "frutas = [\"manzana\", \"banana\", \"cereza\"]\n",
    "\n",
    "# Acceder a un elemento\n",
    "print(frutas[1]) # banana\n",
    "\n",
    "# Modificar un elemento\n",
    "\n",
    "frutas[1] = \"naranja\"\n",
    "\n",
    "print(frutas) # [\"manzana\", \"naranja\", \"cereza\"]"
   ]
  },
  {
   "cell_type": "markdown",
   "metadata": {
    "slideshow": {
     "slide_type": "subslide"
    }
   },
   "source": [
    "### Tuplas\n",
    "\n",
    "Una tupla es una colecci�n ordenada e inmutable de elementos. En Python, las tuplas se definen escribiendo los elementos entre par�ntesis () separados por comas."
   ]
  },
  {
   "cell_type": "code",
   "execution_count": null,
   "metadata": {
    "slideshow": {
     "slide_type": "subslide"
    }
   },
   "outputs": [],
   "source": [
    "# Cerar una tupla\n",
    "frutas = (\"manzana\", \"banana\", \"cereza\")\n",
    "\n",
    "# Acceder a un elemento\n",
    "\n",
    "print(frutas[1]) # banana "
   ]
  },
  {
   "cell_type": "markdown",
   "metadata": {
    "slideshow": {
     "slide_type": "subslide"
    }
   },
   "source": [
    "### Diccionarios"
   ]
  },
  {
   "cell_type": "markdown",
   "metadata": {
    "slideshow": {
     "slide_type": "subslide"
    }
   },
   "source": [
    "Un diccionario es una colecci�n desordenada, modificable e indexada de elementos. En Python, los diccionarios se definen escribiendo los elementos entre llaves {} separados por comas, y cada elemento est� formado por una clave y un valor separados por dos puntos :."
   ]
  },
  {
   "cell_type": "code",
   "execution_count": null,
   "metadata": {
    "slideshow": {
     "slide_type": "subslide"
    }
   },
   "outputs": [],
   "source": [
    " \n",
    "# Crear un diccionario\n",
    "persona = {\n",
    "    \"nombre\": \"Juan\",\n",
    "    \"apellido\": \"Perez\",\n",
    "    \"edad\": 30\n",
    "}\n",
    "\n",
    "# Acceder a un elemento\n",
    "print(persona[\"nombre\"]) # Juan\n",
    "\n",
    "# Modificar un elemento\n",
    "\n",
    "persona[\"nombre\"] = \"Pedro\"\n",
    "\n",
    "print(persona) # {'nombre': 'Pedro', 'apellido': 'Perez', 'edad': 30}\n"
   ]
  },
  {
   "cell_type": "code",
   "execution_count": null,
   "metadata": {
    "slideshow": {
     "slide_type": "subslide"
    }
   },
   "outputs": [],
   "source": [
    "\n",
    "# Agregar un elemento\n",
    "\n",
    "persona[\"nacionalidad\"] = \"Argentina\"\n",
    "\n",
    "print(persona) # {'nombre': 'Pedro', 'apellido': 'Perez', 'edad': 30, 'nacionalidad': 'Argentina'}\n",
    "\n",
    "# Eliminar un elemento\n",
    "\n",
    "del persona[\"edad\"]\n",
    "\n",
    "print(persona) # {'nombre': 'Pedro', 'apellido': 'Perez', 'nacionalidad': 'Argentina'}\n",
    "\n",
    "# Eliminar todos los elementos\n",
    "\n",
    "persona.clear()\n",
    "\n",
    "print(persona) # {}"
   ]
  },
  {
   "cell_type": "markdown",
   "metadata": {
    "slideshow": {
     "slide_type": "subslide"
    }
   },
   "source": [
    "## Funciones Utiles"
   ]
  },
  {
   "cell_type": "code",
   "execution_count": null,
   "metadata": {
    "slideshow": {
     "slide_type": "subslide"
    }
   },
   "outputs": [],
   "source": [
    "### range\n",
    " \n",
    "#range(inicio, fin, paso)\n",
    "for i in range(0,10,2):\n",
    "  print(i)\n",
    " "
   ]
  },
  {
   "cell_type": "code",
   "execution_count": null,
   "metadata": {
    "slideshow": {
     "slide_type": "subslide"
    }
   },
   "outputs": [],
   "source": [
    "### enumerate\n",
    "  \n",
    "lista=[\"a\",\"b\",\"c\",\"d\",\"e\",\"f\",\"g\",\"h\",\"i\",\"j\",\"k\",\"l\",\"m\",\"n\",\"o\",\"p\"]\n",
    "\n",
    "for i,elemento in enumerate(lista):\n",
    "  print(i,elemento)\n",
    " "
   ]
  },
  {
   "cell_type": "code",
   "execution_count": null,
   "metadata": {
    "slideshow": {
     "slide_type": "subslide"
    }
   },
   "outputs": [],
   "source": [
    "### zip\n",
    "\n",
    " \n",
    "lista1=[\"a\",\"b\",\"c\",\"d\",\"e\",\"f\",\"g\",\"h\",\"i\",\"j\",\"k\",\"l\",\"m\",\"n\",\"o\",\"p\",\"r\"]\n",
    "lista2=[1,2,3,4,5,6,7,8,9,10,11,12,13,14,15]\n",
    "\n",
    "for i,j in zip(lista1,lista2):\n",
    "  print(i,j)\n",
    " "
   ]
  },
  {
   "cell_type": "code",
   "execution_count": null,
   "metadata": {
    "slideshow": {
     "slide_type": "subslide"
    }
   },
   "outputs": [],
   "source": [
    "### map\n",
    "\n",
    " \n",
    "\n",
    "def cuadrado(x):\n",
    "  return x*x\n",
    "\n",
    "lista=[1,2,3,4,5,6,7,8,9,10]\n",
    "\n",
    "lista2=list(map(cuadrado,lista))\n",
    "\n",
    "print(lista2)\n",
    " "
   ]
  },
  {
   "cell_type": "code",
   "execution_count": null,
   "metadata": {
    "slideshow": {
     "slide_type": "subslide"
    }
   },
   "outputs": [],
   "source": [
    "### filter\n",
    "\n",
    "\n",
    "def par(x):\n",
    "  return x%2==0\n",
    "\n",
    "lista=[1,2,3,4,5,6,7,8,9,10]\n",
    "\n",
    "lista2=list(filter(par,lista))\n",
    "\n",
    "print(lista2)\n",
    " "
   ]
  },
  {
   "cell_type": "code",
   "execution_count": null,
   "metadata": {
    "slideshow": {
     "slide_type": "subslide"
    }
   },
   "outputs": [],
   "source": [
    "### reduce\n",
    "\n",
    " \n",
    "from functools import reduce\n",
    "\n",
    "def suma(x,y):\n",
    "  return x+y\n",
    "\n",
    "lista=[1,2,3,4,5,6,7,8,9,10]\n",
    "\n",
    "resultado=reduce(suma,lista)\n",
    "\n",
    "print(resultado)\n",
    " "
   ]
  },
  {
   "cell_type": "code",
   "execution_count": null,
   "metadata": {
    "slideshow": {
     "slide_type": "subslide"
    }
   },
   "outputs": [],
   "source": [
    "### listas por comprension\n",
    "\n",
    "lista=[x for x in range(0,10)]\n",
    "\n",
    "print(lista)\n",
    "\n",
    "lista=[x for x in range(0,10) if x%2==0]\n",
    "\n",
    "print(lista)\n",
    "\n",
    "lista=[x for x in range(0,10) if x%2==0 if x%3==0]\n",
    "\n",
    "print(lista)\n",
    "\n",
    "lista=[x if x%2==0 else x*2 for x in range(0,10)]\n",
    "\n",
    "print(lista)"
   ]
  },
  {
   "cell_type": "code",
   "execution_count": null,
   "metadata": {
    "slideshow": {
     "slide_type": "subslide"
    }
   },
   "outputs": [],
   "source": [
    "### diccionarios por comprension\n",
    "\n",
    "diccionario={x:x*2 for x in range(0,10)}\n",
    "\n",
    "print(diccionario)\n",
    "\n",
    "diccionario={x:x*2 for x in range(0,10) if x%2==0}\n",
    "\n",
    "print(diccionario)"
   ]
  },
  {
   "cell_type": "markdown",
   "metadata": {
    "slideshow": {
     "slide_type": "subslide"
    }
   },
   "source": [
    "## Clases"
   ]
  },
  {
   "cell_type": "code",
   "execution_count": 12,
   "metadata": {
    "slideshow": {
     "slide_type": "subslide"
    }
   },
   "outputs": [
    {
     "name": "stdout",
     "output_type": "stream",
     "text": [
      "Hola soy Juan y tengo 20 a�os\n"
     ]
    }
   ],
   "source": [
    "### Clase\n",
    "  \n",
    "class Persona:\n",
    "  def __init__(self,nombre,edad):\n",
    "    self.nombre=nombre\n",
    "    self.edad=edad\n",
    "\n",
    "  def saludar(self):\n",
    "    print(\"Hola soy \"+self.nombre+\" y tengo \"+str(self.edad)+\" a�os\")\n",
    "\n",
    "persona1=Persona(\"Juan\",20)\n",
    "\n",
    "persona1.saludar()\n",
    " "
   ]
  },
  {
   "cell_type": "code",
   "execution_count": null,
   "metadata": {
    "slideshow": {
     "slide_type": "subslide"
    }
   },
   "outputs": [],
   "source": [
    "### Herencia\n",
    "\n",
    "class Persona:\n",
    "  def __init__(self,nombre,edad):\n",
    "    self.nombre=nombre\n",
    "    self.edad=edad\n",
    "\n",
    "  def saludar(self):\n",
    "    print(\"Hola soy \"+self.nombre+\" y tengo \"+str(self.edad)+\" a�os\")"
   ]
  },
  {
   "cell_type": "code",
   "execution_count": null,
   "metadata": {
    "slideshow": {
     "slide_type": "subslide"
    }
   },
   "outputs": [],
   "source": [
    "class Empleado(Persona):\n",
    "    def __init__(self,nombre,edad,sueldo):\n",
    "        super().__init__(nombre,edad)\n",
    "        self.sueldo=sueldo\n",
    "    \n",
    "    def saludar(self):\n",
    "        super().saludar()\n",
    "        print(\"Mi sueldo es \"+str(self.sueldo))"
   ]
  },
  {
   "cell_type": "code",
   "execution_count": 13,
   "metadata": {
    "slideshow": {
     "slide_type": "subslide"
    }
   },
   "outputs": [
    {
     "name": "stdout",
     "output_type": "stream",
     "text": [
      "Hola soy Juan y tengo 20 a�os\n",
      "Hola soy Pedro y tengo 30 a�os\n",
      "Mi sueldo es 1000\n"
     ]
    }
   ],
   "source": [
    "persona1=Persona(\"Juan\",20)\n",
    "\n",
    "persona1.saludar()\n",
    "\n",
    "empleado1=Empleado(\"Pedro\",30,1000)\n",
    "\n",
    "empleado1.saludar()\n",
    " "
   ]
  },
  {
   "cell_type": "code",
   "execution_count": null,
   "metadata": {
    "slideshow": {
     "slide_type": "subslide"
    }
   },
   "outputs": [],
   "source": [
    "### Polimorfismo\n",
    "\n",
    "class Persona:\n",
    "  def __init__(self,nombre,edad):\n",
    "    self.nombre=nombre\n",
    "    self.edad=edad\n",
    "\n",
    "  def saludar(self):\n",
    "    print(\"Hola soy \"+self.nombre+\" y tengo \"+str(self.edad)+\" a�os\")"
   ]
  },
  {
   "cell_type": "code",
   "execution_count": null,
   "metadata": {
    "slideshow": {
     "slide_type": "subslide"
    }
   },
   "outputs": [],
   "source": [
    "class Empleado(Persona):\n",
    "\n",
    "    def __init__(self,nombre,edad,sueldo):\n",
    "        super().__init__(nombre,edad)\n",
    "        self.sueldo=sueldo\n",
    "    \n",
    "    def saludar(self):\n",
    "        super().saludar()\n",
    "        print(\"Mi sueldo es \"+str(self.sueldo))"
   ]
  },
  {
   "cell_type": "code",
   "execution_count": null,
   "metadata": {
    "slideshow": {
     "slide_type": "subslide"
    }
   },
   "outputs": [],
   "source": [
    "class Cliente(Persona):\n",
    "\n",
    "    def __init__(self,nombre,edad,deuda):\n",
    "        super().__init__(nombre,edad)\n",
    "        self.deuda=deuda\n",
    "    \n",
    "    def saludar(self):\n",
    "        super().saludar()\n",
    "        print(\"Mi deuda es \"+str(self.deuda))\n"
   ]
  },
  {
   "cell_type": "code",
   "execution_count": 14,
   "metadata": {
    "slideshow": {
     "slide_type": "subslide"
    }
   },
   "outputs": [
    {
     "name": "stdout",
     "output_type": "stream",
     "text": [
      "Hola soy Juan y tengo 20 a�os\n",
      "Hola soy Pedro y tengo 30 a�os\n",
      "Mi sueldo es 1000\n",
      "Hola soy Maria y tengo 40 a�os\n",
      "Mi deuda es 100\n"
     ]
    }
   ],
   "source": [
    "persona1=Persona(\"Juan\",20)\n",
    "\n",
    "persona1.saludar()\n",
    "\n",
    "empleado1=Empleado(\"Pedro\",30,1000)\n",
    "\n",
    "empleado1.saludar()\n",
    "\n",
    "cliente1=Cliente(\"Maria\",40,100)\n",
    "\n",
    "cliente1.saludar() "
   ]
  },
  {
   "cell_type": "code",
   "execution_count": null,
   "metadata": {
    "slideshow": {
     "slide_type": "subslide"
    }
   },
   "outputs": [],
   "source": [
    "### Metodos especiales\n",
    " \n",
    "class Persona:\n",
    "  def __init__(self,nombre,edad):\n",
    "    self.nombre=nombre\n",
    "    self.edad=edad\n",
    "\n",
    "  def __str__(self):\n",
    "    return \"Hola soy \"+self.nombre+\" y tengo \"+str(self.edad)+\" a�os\"\n",
    "\n",
    "  def __len__(self):\n",
    "    return self.edad"
   ]
  },
  {
   "cell_type": "code",
   "execution_count": null,
   "metadata": {
    "slideshow": {
     "slide_type": "subslide"
    }
   },
   "outputs": [],
   "source": [
    "persona1=Persona(\"Juan\",20)\n",
    "\n",
    "print(persona1)\n",
    "\n",
    "print(len(persona1)) "
   ]
  },
  {
   "cell_type": "markdown",
   "metadata": {
    "slideshow": {
     "slide_type": "subslide"
    }
   },
   "source": [
    "## librerias\n",
    " \n",
    "Las librerias son un conjunto de funciones que nos permiten realizar tareas especificas, por ejemplo, la libreria math nos permite realizar operaciones matematicas mas complejas que las que podemos realizar con los operadores aritmeticos basicos."
   ]
  },
  {
   "cell_type": "code",
   "execution_count": null,
   "metadata": {
    "slideshow": {
     "slide_type": "subslide"
    }
   },
   "outputs": [],
   "source": [
    "import math\n",
    "\n",
    "print(math.pi)\n",
    "\n",
    "print(math.e)\n",
    "\n",
    "print(math.sin(math.pi/2))"
   ]
  },
  {
   "cell_type": "markdown",
   "metadata": {
    "slideshow": {
     "slide_type": "subslide"
    }
   },
   "source": [
    "### Lectura y escritura de archivos"
   ]
  },
  {
   "cell_type": "markdown",
   "metadata": {
    "slideshow": {
     "slide_type": "subslide"
    }
   },
   "source": [
    "```python\n",
    "\n",
    "# Abrir un archivo\n",
    "\n",
    "archivo=open(\"archivo.txt\",\"rb\")\n",
    "\n",
    "# Leer el contenido de un archivo\n",
    "\n",
    "contenido=archivo.read()\n",
    "\n",
    "print(contenido)\n",
    "\n",
    "# Cerrar un archivo\n",
    "\n",
    "archivo.close()\n",
    "\n",
    "```"
   ]
  },
  {
   "cell_type": "markdown",
   "metadata": {
    "slideshow": {
     "slide_type": "subslide"
    }
   },
   "source": [
    "```python\n",
    "\n",
    "# Abrir un archivo\n",
    "\n",
    "archivo=open(\"archivo.txt\",\"wb\")\n",
    "\n",
    "# Escribir en un archivo\n",
    "\n",
    "archivo.write(b\"Hola mundo\")\n",
    "\n",
    "# Cerrar un archivo\n",
    "\n",
    "archivo.close()\n",
    "\n",
    "```"
   ]
  }
 ],
 "metadata": {
  "kernelspec": {
   "display_name": "Python 3 (ipykernel)",
   "language": "python",
   "name": "python3"
  },
  "language_info": {
   "codemirror_mode": {
    "name": "ipython",
    "version": 3
   },
   "file_extension": ".py",
   "mimetype": "text/x-python",
   "name": "python",
   "nbconvert_exporter": "python",
   "pygments_lexer": "ipython3",
   "version": "3.10.12"
  }
 },
 "nbformat": 4,
 "nbformat_minor": 4
}