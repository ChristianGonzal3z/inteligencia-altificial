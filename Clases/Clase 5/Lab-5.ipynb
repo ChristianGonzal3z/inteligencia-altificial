{
 "cells": [
  {
   "cell_type": "markdown",
   "metadata": {
    "slideshow": {
     "slide_type": "slide"
    }
   },
   "source": [
    "# Inteligencia Artificial y Juegos\n",
    "---\n",
    "<style>\n",
    "      h1, h2, h3, h4, h5, h6,.imagen {\n",
    "        text-align: center;\n",
    "      }\n",
    " img{width: 75%; height: 75%;}\n",
    "</style>"
   ]
  },
  {
   "cell_type": "markdown",
   "metadata": {
    "slideshow": {
     "slide_type": "slide"
    }
   },
   "source": [
    "## Logica Difusa"
   ]
  },
  {
   "cell_type": "markdown",
   "metadata": {
    "slideshow": {
     "slide_type": "subslide"
    }
   },
   "source": [
    "### Instalacion de paquetes\n",
    "\n",
    "```python\n",
    "!pip install --upgrade numpy\n",
    "!pip install --upgrade scikit-fuzzy\n",
    "```"
   ]
  },
  {
   "cell_type": "markdown",
   "metadata": {
    "slideshow": {
     "slide_type": "subslide"
    }
   },
   "source": [
    "### Imports\n",
    "\n",
    "```python\n",
    "\n",
    "import random\n",
    "import numpy as np\n",
    "import skfuzzy as fuzz\n",
    "\n",
    "```"
   ]
  },
  {
   "cell_type": "markdown",
   "metadata": {
    "slideshow": {
     "slide_type": "subslide"
    }
   },
   "source": [
    "### Piedra, Papel o Tijera\n",
    "\n",
    "```python\n",
    "\n",
    "def fuzzy_logic():\n",
    "    return random.uniform(0, 1)\n",
    "\n",
    "```"
   ]
  },
  {
   "cell_type": "markdown",
   "metadata": {
    "slideshow": {
     "slide_type": "subslide"
    }
   },
   "source": [
    "```python\n",
    "\n",
    "def get_choice(fuzzy_value):\n",
    "    piedra = fuzz.trimf(np.arange(0, 1.1, 0.1), [0, 0, 0.5])\n",
    "    papel = fuzz.trimf(np.arange(0, 1.1, 0.1), [0, 0.5, 1])\n",
    "    tijeras = fuzz.trimf(np.arange(0, 1.1, 0.1), [0.5, 1, 1])\n",
    "    \n",
    "    # Definir universo y conjuntos difusos\n",
    "    x_fuzzy = np.arange(0, 1.1, 0.1)\n",
    "    fuzzy_sets = {\"piedra\": piedra, \"papel\": papel, \"tijeras\": tijeras}\n",
    "    \n",
    "    # Calcular pertenencia a cada conjunto difuso\n",
    "    memberships = {}\n",
    "    for key in fuzzy_sets:\n",
    "        memberships[key] = fuzz.interp_membership(x_fuzzy, fuzzy_sets[key], fuzzy_value)\n",
    "    \n",
    "    # Obtener el conjunto difuso con mayor pertenencia\n",
    "    return max(memberships, key=memberships.get)\n",
    "\n",
    "```"
   ]
  },
  {
   "cell_type": "markdown",
   "metadata": {
    "slideshow": {
     "slide_type": "subslide"
    }
   },
   "source": [
    "```python\n",
    "def determine_winner(player_choice, computer_choice):\n",
    "    if player_choice == computer_choice:\n",
    "        return \"Empate\"\n",
    "    elif (\n",
    "        (player_choice == \"piedra\" and computer_choice == \"tijeras\") or\n",
    "        (player_choice == \"papel\" and computer_choice == \"piedra\") or\n",
    "        (player_choice == \"tijeras\" and computer_choice == \"papel\")\n",
    "    ):\n",
    "        return \"Ganaste\"\n",
    "    else:\n",
    "        return \"Perdiste\"\n",
    "\n",
    "``` \n"
   ]
  },
  {
   "cell_type": "markdown",
   "metadata": {
    "slideshow": {
     "slide_type": "subslide"
    }
   },
   "source": [
    "```python\n",
    "def play_game():\n",
    "    print(\"¡Bienvenido al juego de Piedra, Papel y Tijeras!\")\n",
    "    while True:\n",
    "        print(\"\\nElige una opción:\")\n",
    "        print(\"1 - Piedra\")\n",
    "        print(\"2 - Papel\")\n",
    "        print(\"3 - Tijeras\")\n",
    "        print(\"0 - Salir\")\n",
    "        player_choice = input(\"Tu elección: \")\n",
    "        \n",
    "        if player_choice == \"0\":\n",
    "            print(\"¡Hasta luego!\")\n",
    "            break\n",
    "        \n",
    "        if player_choice not in [\"1\", \"2\", \"3\"]:\n",
    "            print(\"Opción inválida. Intenta de nuevo.\")\n",
    "            continue\n",
    "        \n",
    "        player_choice = int(player_choice)\n",
    "        player_choice = [\"piedra\", \"papel\", \"tijeras\"][player_choice - 1]\n",
    "        \n",
    "        fuzzy_value = fuzzy_logic()\n",
    "        computer_choice = get_choice(fuzzy_value)\n",
    "        \n",
    "        print(\"Tu elección: \", player_choice)\n",
    "        print(\"Elección de la IA: \", computer_choice)\n",
    "        \n",
    "        result = determine_winner(player_choice, computer_choice)\n",
    "        print(\"Resultado: \", result)\n",
    "\n",
    "play_game()\n",
    "\n",
    "```"
   ]
  },
  {
   "cell_type": "markdown",
   "metadata": {
    "slideshow": {
     "slide_type": "slide"
    }
   },
   "source": [
    "## Busqueda de Caminos"
   ]
  },
  {
   "cell_type": "markdown",
   "metadata": {
    "slideshow": {
     "slide_type": "subslide"
    }
   },
   "source": [
    "### Instalacion de paquetes\n",
    "```python\n",
    "!pip install networkx \n",
    "```"
   ]
  },
  {
   "cell_type": "markdown",
   "metadata": {
    "slideshow": {
     "slide_type": "subslide"
    }
   },
   "source": [
    "### Imports\n",
    "```python\n",
    "import networkx as nx\n",
    "import random\n",
    "```"
   ]
  },
  {
   "cell_type": "markdown",
   "metadata": {
    "slideshow": {
     "slide_type": "subslide"
    }
   },
   "source": [
    "### Busqueda\n",
    "```python\n",
    "n = 20 #@param {type:\"integer\"}\n",
    "\n",
    "destinoAleatorio = False #@param {type:\"boolean\"}\n",
    "destinoX = 19 #@param {type:\"integer\"}\n",
    "destinoY = 17 #@param {type:\"integer\"}\n",
    "\n",
    "Algoritmo = \"A*\" #@param [ \"Busqueda en Anchura\", \"Busqueda en Profundidad\",\"A*\"]\n",
    "\n",
    "\n",
    "destinoX= destinoX if destinoX<n else n-1\n",
    "destinoY= destinoY if destinoY<n else n-1\n",
    "```"
   ]
  },
  {
   "cell_type": "markdown",
   "metadata": {
    "slideshow": {
     "slide_type": "subslide"
    }
   },
   "source": [
    "```python\n",
    "\n",
    "if destinoAleatorio:\n",
    "  goal = (random.randint(n//2, n-1),random.randint(n//2, n-1))\n",
    "else:\n",
    "  goal=(destinoX,destinoY)\n",
    "\n",
    "grid = [[0 for _ in range(n)] for _ in range(n)]\n",
    "\n",
    "# Agregar obstáculos\n",
    "\n",
    "for x in range(n):\n",
    "  if random.random()>0.1:\n",
    "    grid[random.randint(0, n-1)][random.randint(0, n-1)] = 1\n",
    "\n",
    "```"
   ]
  },
  {
   "cell_type": "markdown",
   "metadata": {
    "slideshow": {
     "slide_type": "subslide"
    }
   },
   "source": [
    "```python\n",
    "start = (0, 0)\n",
    "\n",
    "G = nx.grid_2d_graph(n, n)\n",
    "\n",
    "# Eliminar nodos con obstáculos\n",
    "for i in range(n):\n",
    "    for j in range(n):\n",
    "        if grid[i][j] == 1:\n",
    "            G.remove_node((i, j))\n",
    "\n",
    "# Calcular el camino \n",
    "match(Algoritmo):\n",
    "  case \"Busqueda en Anchura\":\n",
    "    path= nx.breadth_first_search.bfs_tree(G, start)\n",
    "  case \"Busqueda en Profundidad\":\n",
    "    path = nx.depth_first_search.dfs_tree(G, start)\n",
    "  case \"A*\":    \n",
    "    path = nx.astar.astar_path(G, start, goal)\n",
    "#\n",
    "path = list(path)\n",
    "if goal in path:\n",
    "    path = path[:path.index(goal)+1]\n",
    "else:\n",
    "    path = []\n",
    "```"
   ]
  },
  {
   "cell_type": "markdown",
   "metadata": {
    "slideshow": {
     "slide_type": "subslide"
    }
   },
   "source": [
    "```python\n",
    "\n",
    "# Imprimir el camino\n",
    "for i in range(n):\n",
    "    for j in range(n):\n",
    "        if (i, j) in path:\n",
    "          if (i,j)== goal:\n",
    "            print('X', end=' ')\n",
    "\n",
    "          else:\n",
    "            print('*', end=' ')\n",
    "\n",
    "\n",
    "        elif grid[i][j] == 1:\n",
    "            print('O', end=' ')\n",
    "        else:\n",
    "            print('.', end=' ')\n",
    "    print()\n",
    "```"
   ]
  },
  {
   "cell_type": "markdown",
   "metadata": {
    "slideshow": {
     "slide_type": "slide"
    }
   },
   "source": [
    "## Minimax\n",
    "\n",
    "```python\n",
    "import math\n",
    "```"
   ]
  },
  {
   "cell_type": "markdown",
   "metadata": {
    "slideshow": {
     "slide_type": "subslide"
    }
   },
   "source": [
    "### Gato\n",
    "```python\n",
    "def imprimir_tablero(tablero):\n",
    "    print(\"-------------\")\n",
    "    for i in range(3):\n",
    "        print(\"|\", end=\"\")\n",
    "        for j in range(3):\n",
    "            print(\" \" + str(tablero[i][j]) + \" |\", end=\"\")\n",
    "        print()\n",
    "        print(\"-------------\")\n",
    "```\n"
   ]
  },
  {
   "cell_type": "markdown",
   "metadata": {
    "slideshow": {
     "slide_type": "subslide"
    }
   },
   "source": [
    "```python\n",
    "def evaluar(tablero):\n",
    "    for i in range(3):\n",
    "        if tablero[i][0] == tablero[i][1] == tablero[i][2]:\n",
    "            if tablero[i][0] == 'X':\n",
    "                return 10\n",
    "            elif tablero[i][0] == 'O':\n",
    "                return -10\n",
    "    for j in range(3):\n",
    "        if tablero[0][j] == tablero[1][j] == tablero[2][j]:\n",
    "            if tablero[0][j] == 'X':\n",
    "                return 10\n",
    "            elif tablero[0][j] == 'O':\n",
    "                return -10\n",
    "    if tablero[0][0] == tablero[1][1] == tablero[2][2]:\n",
    "        if tablero[0][0] == 'X':\n",
    "            return 10\n",
    "        elif tablero[0][0] == 'O':\n",
    "            return -10\n",
    "    if tablero[0][2] == tablero[1][1] == tablero[2][0]:\n",
    "        if tablero[0][2] == 'X':\n",
    "            return 10\n",
    "        elif tablero[0][2] == 'O':\n",
    "            return -10\n",
    "    return 0\n",
    "\n",
    "```"
   ]
  },
  {
   "cell_type": "markdown",
   "metadata": {
    "slideshow": {
     "slide_type": "subslide"
    }
   },
   "source": [
    "```python\n",
    "def minimax(tablero, profundidad, es_maximizador):\n",
    "    puntaje = evaluar(tablero)\n",
    "    if puntaje == 10:\n",
    "        return puntaje - profundidad\n",
    "    if puntaje == -10:\n",
    "        return puntaje + profundidad\n",
    "    if not any('-' in sublist for sublist in tablero):\n",
    "        return 0\n",
    "    if es_maximizador:\n",
    "        mejor_puntaje = -math.inf\n",
    "        for i in range(3):\n",
    "            for j in range(3):\n",
    "                if tablero[i][j] == '-':\n",
    "                    tablero[i][j] = 'X'\n",
    "                    puntaje = minimax(tablero, profundidad + 1, False)\n",
    "                    tablero[i][j] = '-'\n",
    "                    mejor_puntaje = max(puntaje, mejor_puntaje)\n",
    "        return mejor_puntaje\n",
    "    else:\n",
    "        mejor_puntaje = math.inf\n",
    "        for i in range(3):\n",
    "            for j in range(3):\n",
    "                if tablero[i][j] == '-':\n",
    "                    tablero[i][j] = 'O'\n",
    "                    puntaje = minimax(tablero, profundidad + 1, True)\n",
    "                    tablero[i][j] = '-'\n",
    "                    mejor_puntaje = min(puntaje, mejor_puntaje)\n",
    "        return mejor_puntaje\n",
    "\n",
    "```"
   ]
  },
  {
   "cell_type": "markdown",
   "metadata": {
    "slideshow": {
     "slide_type": "subslide"
    }
   },
   "source": [
    "```python\n",
    "\n",
    "def obtener_mejor_jugada(tablero):\n",
    "    mejor_puntaje = -math.inf\n",
    "    mejor_jugada = ()\n",
    "    for i in range(3):\n",
    "        for j in range(3):\n",
    "            if tablero[i][j] == '-':\n",
    "                tablero[i][j] = 'X'\n",
    "                puntaje = minimax(tablero, 0, False)\n",
    "                tablero[i][j] = '-'\n",
    "                if puntaje > mejor_puntaje:\n",
    "                    mejor_puntaje = puntaje\n",
    "                    mejor_jugada = (i, j)\n",
    "    return mejor_jugada\n",
    "\n",
    "tablero = [['-', '-', '-'], ['-', '-', '-'], ['-', '-', '-']]\n",
    "imprimir_tablero(tablero)\n",
    "\n",
    "```\n"
   ]
  },
  {
   "cell_type": "markdown",
   "metadata": {
    "slideshow": {
     "slide_type": "subslide"
    }
   },
   "source": [
    "```python\n",
    "while True:\n",
    "    fila = int(input(\"Ingrese fila (0-2): \"))\n",
    "    columna = int(input(\"Ingrese columna (0-2): \"))\n",
    "    if tablero[fila][columna] != '-':\n",
    "        print(\"Movimiento inválido, intente de nuevo.\")\n",
    "        continue\n",
    "    tablero[fila][columna] = 'O'\n",
    "    imprimir_tablero(tablero)\n",
    "    if evaluar(tablero) == -10:\n",
    "        print(\"¡Ganaste!\")\n",
    "        break\n",
    "    if not any('-' in sublist for sublist in tablero):\n",
    "        print(\"Empate.\")\n",
    "        break\n",
    "    fila, columna = obtener_mejor_jugada(tablero)\n",
    "    tablero[fila][columna] = 'X'\n",
    "    imprimir_tablero(tablero)\n",
    "    if evaluar(tablero) == 10:\n",
    "        print(\"¡Perdiste!\")\n",
    "        break\n",
    "    if not any('-' in sublist for sublist in tablero):\n",
    "        print(\"Empate.\")\n",
    "        break\n",
    "```"
   ]
  },
  {
   "cell_type": "markdown",
   "metadata": {
    "slideshow": {
     "slide_type": "slide"
    }
   },
   "source": [
    "### Maquina de estados"
   ]
  },
  {
   "cell_type": "markdown",
   "metadata": {
    "slideshow": {
     "slide_type": "subslide"
    }
   },
   "source": [
    "```python\n",
    "# Definimos los estados del juego\n",
    "class Estado:\n",
    "    def __init__(self, descripcion, acciones):\n",
    "        self.descripcion = descripcion\n",
    "        self.acciones = acciones\n",
    "\n",
    "# Definimos las acciones del juego\n",
    "class Accion:\n",
    "    def __init__(self, descripcion, siguiente_estado):\n",
    "        self.descripcion = descripcion\n",
    "        self.siguiente_estado = siguiente_estado\n",
    "```"
   ]
  },
  {
   "cell_type": "markdown",
   "metadata": {
    "slideshow": {
     "slide_type": "subslide"
    }
   },
   "source": [
    "```python\n",
    "# Definimos los estados del juego\n",
    "estados = {\n",
    "    \"inicio\": Estado(\n",
    "        \"Estás en una cueva oscura. No puedes ver nada a tu alrededor. Hay un camino hacia el este y otro hacia el oeste.\",\n",
    "        [\n",
    "            Accion(\"Ir hacia el este\", \"sala1\"),\n",
    "            Accion(\"Ir hacia el oeste\", \"sala2\")\n",
    "        ]\n",
    "    ),\n",
    "    \"sala1\": Estado(\n",
    "        \"Estás en una sala con una gran puerta cerrada. Hay una llave en el suelo.\",\n",
    "        [\n",
    "            Accion(\"Tomar la llave\", \"sala1-llave\"),\n",
    "            Accion(\"Ir hacia el oeste\", \"inicio\")\n",
    "        ]\n",
    "    ),\n",
    "    \"sala1-llave\": Estado(\n",
    "        \"Tienes la llave en tu mano. ¿Qué quieres hacer?\",\n",
    "        [\n",
    "            Accion(\"Abrir la puerta\", \"final\"),\n",
    "            Accion(\"Ir hacia el oeste\", \"inicio\")\n",
    "        ]\n",
    "    ),\n",
    "    \"sala2\": Estado(\n",
    "        \"Estás en una sala con un río. No puedes cruzarlo.\",\n",
    "        [\n",
    "            Accion(\"Ir hacia el este\", \"inicio\")\n",
    "        ]\n",
    "    ),\n",
    "    \"final\": Estado(\n",
    "        \"¡Felicidades! Has encontrado el tesoro.\",\n",
    "        []\n",
    "    )\n",
    "}\n",
    "\n",
    "```"
   ]
  },
  {
   "cell_type": "markdown",
   "metadata": {
    "slideshow": {
     "slide_type": "subslide"
    }
   },
   "source": [
    "```python \n",
    "\n",
    "# Definimos la función para imprimir el estado actual del juego\n",
    "def imprimir_estado(estado):\n",
    "    print(estado.descripcion)\n",
    "    print(\"Acciones:\")\n",
    "    for i, accion in enumerate(estado.acciones):\n",
    "        print(f\"{i+1}. {accion.descripcion}\")\n",
    "\n",
    "# Definimos la función para obtener la acción seleccionada por el usuario\n",
    "def obtener_accion(estado):\n",
    "    while True:\n",
    "        try:\n",
    "            opcion = int(input(\"Selecciona una acción: \"))\n",
    "            if opcion < 1 or opcion > len(estado.acciones):\n",
    "                raise ValueError\n",
    "            return opcion - 1\n",
    "        except ValueError:\n",
    "            print(\"Opción inválida. Inténtalo de nuevo.\")\n",
    "            \n",
    "```"
   ]
  },
  {
   "cell_type": "markdown",
   "metadata": {
    "slideshow": {
     "slide_type": "subslide"
    }
   },
   "source": [
    "```python\n",
    "# Definimos la función principal del juego\n",
    "def jugar():\n",
    "    estado_actual = estados[\"inicio\"]\n",
    "    while True:\n",
    "        imprimir_estado(estado_actual)\n",
    "        if not estado_actual.acciones:\n",
    "            break\n",
    "        accion_seleccionada = obtener_accion(estado_actual)\n",
    "        estado_actual = estados[estado_actual.acciones[accion_seleccionada].siguiente_estado]\n",
    "    print(\"Fin del juego.\")\n",
    "\n",
    "# Ejecutamos el juego\n",
    "jugar()\n",
    "\n",
    "```\n"
   ]
  },
  {
   "cell_type": "markdown",
   "metadata": {
    "slideshow": {
     "slide_type": "slide"
    }
   },
   "source": [
    "### Arbol de comportamiento "
   ]
  },
  {
   "cell_type": "markdown",
   "metadata": {
    "slideshow": {
     "slide_type": "subslide"
    }
   },
   "source": [
    "```python\n",
    "\n",
    "class Nodo:\n",
    "    def __init__(self):\n",
    "        self.hijos = []\n",
    "\n",
    "    def agregar_hijo(self, hijo):\n",
    "        self.hijos.append(hijo)\n",
    "\n",
    "    def ejecutar(self):\n",
    "        pass\n",
    "```"
   ]
  },
  {
   "cell_type": "markdown",
   "metadata": {
    "slideshow": {
     "slide_type": "subslide"
    }
   },
   "source": [
    "```python\n",
    "class Selector(Nodo):\n",
    "    def ejecutar(self):\n",
    "        for hijo in self.hijos:\n",
    "            if hijo.ejecutar():\n",
    "                return True\n",
    "        return False\n",
    "\n",
    "class Secuencia(Nodo):\n",
    "    def ejecutar(self):\n",
    "        for hijo in self.hijos:\n",
    "            if not hijo.ejecutar():\n",
    "                return False\n",
    "        return True\n",
    "\n",
    "class Accion(Nodo):\n",
    "    def __init__(self, accion):\n",
    "        super().__init__()\n",
    "        self.accion = accion\n",
    "\n",
    "    def ejecutar(self):\n",
    "        return self.accion()\n",
    "\n",
    "```"
   ]
  },
  {
   "cell_type": "markdown",
   "metadata": {
    "slideshow": {
     "slide_type": "subslide"
    }
   },
   "source": [
    "```python\n",
    "def tiene_hambre():\n",
    "    return True\n",
    "\n",
    "def comer():\n",
    "    print(\"Comiendo...\")\n",
    "\n",
    "def dormir():\n",
    "    print(\"Durmiendo...\")\n",
    "\n",
    "raiz = Selector()\n",
    "secuencia = Secuencia()\n",
    "raiz.agregar_hijo(secuencia)\n",
    "raiz.agregar_hijo(Accion(dormir))\n",
    "secuencia.agregar_hijo(Accion(tiene_hambre))\n",
    "secuencia.agregar_hijo(Accion(comer))\n",
    "\n",
    "raiz.ejecutar()\n",
    "    \n",
    "```\n"
   ]
  }
 ],
 "metadata": {
  "language_info": {
   "name": "python"
  },
  "orig_nbformat": 4
 },
 "nbformat": 4,
 "nbformat_minor": 2
}
