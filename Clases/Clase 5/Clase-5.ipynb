{
 "cells": [
  {
   "cell_type": "markdown",
   "metadata": {
    "slideshow": {
     "slide_type": "slide"
    }
   },
   "source": [
    "# Inteligencia Artificial y Juegos\n",
    "---\n",
    "<style>\n",
    "      h1, h2, h3, h4, h5, h6,.imagen {\n",
    "        text-align: center;\n",
    "      }\n",
    " img{width: 75%; height: 75%;}\n",
    "</style>"
   ]
  },
  {
   "cell_type": "markdown",
   "metadata": {
    "slideshow": {
     "slide_type": "skip"
    }
   },
   "source": [
    "- [Inteligencia Artificial y Juegos](#inteligencia-artificial-y-juegos)\n",
    "  - [Búsqueda Entre Adversarios](#búsqueda-entre-adversarios)\n",
    "  - [Juegos](#juegos)\n",
    "  - [Las Decisiones óptimas](#las-decisiones-óptimas)\n",
    "  - [Algoritmo Minimax](#algoritmo-minimax)\n",
    "  - [Videojuegos](#videojuegos)\n",
    "    - [Usos de la IA en los videojuegos](#usos-de-la-ia-en-los-videojuegos)\n",
    "    - [Ilusion de Inteligencia](#ilusion-de-inteligencia)\n",
    "    - [Agentes](#agentes)\n",
    "    - [La Lógica Difusa](#la-lógica-difusa)\n",
    "    - [Maquina de estados](#maquina-de-estados)\n",
    "    - [Arbol de Comportamiento](#arbol-de-comportamiento)\n",
    "    - [Agoritmos geneticos](#agoritmos-geneticos)\n",
    "    - [Redes Neuronales](#redes-neuronales)\n"
   ]
  },
  {
   "cell_type": "markdown",
   "metadata": {
    "slideshow": {
     "slide_type": "slide"
    }
   },
   "source": [
    "## Búsqueda Entre Adversarios\n",
    "\n",
    "Es el proceso de toma de decisiones en un entorno competitivo. En este tipo de búsqueda, hay dos o más agentes que se oponen entre sí y tienen objetivos contrarios. El objetivo de cada agente es encontrar una estrategia ganadora, que es una secuencia de acciones que le permite alcanzar su objetivo, independientemente de las acciones de los otros agentes."
   ]
  },
  {
   "cell_type": "markdown",
   "metadata": {
    "slideshow": {
     "slide_type": "slide"
    }
   },
   "source": [
    "## Juegos\n",
    "\n",
    "En el contexto de la teoría de juegos y la inteligencia artificial, un juego se refiere a un modelo matemático y abstracto que describe una interacción competitiva entre dos o más jugadores. Estos jugadores toman decisiones estratégicas con el objetivo de maximizar su propia ganancia o utilidad, teniendo en cuenta las acciones y decisiones de los demás jugadores."
   ]
  },
  {
   "cell_type": "markdown",
   "metadata": {
    "slideshow": {
     "slide_type": "subslide"
    }
   },
   "source": [
    "### Un juego se compone de los siguientes elementos:\n",
    " \n",
    "1. Jugadores: Son las entidades que participan en el juego, tomando decisiones estratégicas. Pueden ser personas, agentes computacionales u otros actores.\n",
    "\n",
    "2. Acciones: Son las opciones disponibles para cada jugador en cada momento del juego. Cada jugador elige una acción de su conjunto de posibles opciones.\n",
    "\n",
    "3. Reglas: Establecen las restricciones y condiciones del juego, definiendo cómo se desarrolla y qué resultados son posibles."
   ]
  },
  {
   "cell_type": "markdown",
   "metadata": {
    "slideshow": {
     "slide_type": "subslide"
    }
   },
   "source": [
    "4. Estrategias: Son los planes o cursos de acción que los jugadores eligen para tomar decisiones en el juego. Una estrategia especifica la acción a tomar en cada situación posible.\n",
    "\n",
    "5. Resultados o pagos: Representan las consecuencias o ganancias asociadas a los diferentes resultados del juego. Estos resultados pueden ser cuantificados mediante una función de utilidad que asigna un valor numérico a cada jugador en función del resultado alcanzado."
   ]
  },
  {
   "cell_type": "markdown",
   "metadata": {
    "slideshow": {
     "slide_type": "subslide"
    }
   },
   "source": [
    "### Un juego puede definirse formalmente como un problema de búsqueda con los componentes siguientes:\n",
    "\n",
    "1. El estado inicial, que incluye la posición del tablero e identifica al jugador que\n",
    "mueve.\n",
    "2. Una función sucesor, que devuelve una lista de pares (movimiento, estado), indicando un movimiento legal y el estado que resulta."
   ]
  },
  {
   "cell_type": "markdown",
   "metadata": {
    "slideshow": {
     "slide_type": "subslide"
    }
   },
   "source": [
    "3. Un test terminal, que determina cuándo se termina el juego. A los estados donde el juego se ha terminado se les llaman estados terminales.\n",
    "\n",
    "4. Una función utilidad (también llamada función objetivo o función de rentabilidad), que da un valor numérico a los estados terminales. "
   ]
  },
  {
   "cell_type": "markdown",
   "metadata": {
    "slideshow": {
     "slide_type": "slide"
    }
   },
   "source": [
    "## Las Decisiones óptimas\n",
    "\n",
    "Son aquellas que maximizan o minimizan (dependiendo del objetivo) el resultado deseado en una determinada situación o problema. En el contexto de los juegos, una decisión óptima es aquella que lleva al jugador a obtener el mejor resultado posible, teniendo en cuenta las acciones posibles de los oponentes y las consecuencias a largo plazo."
   ]
  },
  {
   "cell_type": "markdown",
   "metadata": {
    "slideshow": {
     "slide_type": "slide"
    }
   },
   "source": [
    "## Algoritmo Minimax\n",
    " \n",
    "Es un método utilizado en teoría de juegos para tomar decisiones en entornos competitivos de suma cero, donde los resultados de una acción para un jugador son exactamente opuestos a los resultados para el oponente. El objetivo del algoritmo es encontrar la mejor jugada posible para un jugador, considerando las posibles acciones del oponente y sus respuestas."
   ]
  },
  {
   "cell_type": "markdown",
   "metadata": {
    "slideshow": {
     "slide_type": "subslide"
    }
   },
   "source": [
    "<div class=\"imagen\">\n",
    "<img src=\"https://images.squarespace-cdn.com/content/v1/5a0c6978bff2001ef7581170/1513544600041-LK94ONS0M8TSFUFCPPNB/full-minimax-move-tree.png?format=1000w\" alt=\"Mcpits\"  >\n",
    "</div>"
   ]
  },
  {
   "cell_type": "markdown",
   "metadata": {
    "slideshow": {
     "slide_type": "subslide"
    }
   },
   "source": [
    "### El nombre \"Minimax\" proviene de la combinación de dos conceptos clave en el algoritmo:\n",
    "\n",
    "- Minimizar: El jugador trata de minimizar las ganancias potenciales del oponente. Busca las acciones que reducirían al mínimo el puntaje o resultado favorable que el oponente podría obtener.\n",
    "\n",
    "- Maximizar: Al mismo tiempo, el jugador trata de maximizar su propia ganancia o resultado deseado. Busca las acciones que maximizarían su propio puntaje o resultado"
   ]
  },
  {
   "cell_type": "markdown",
   "metadata": {
    "slideshow": {
     "slide_type": "slide"
    }
   },
   "source": [
    "## Videojuegos\n",
    "\n",
    "La inteligencia artificial para videojuegos se refiere a la implementación de técnicas y algoritmos de inteligencia artificial en el contexto específico de los videojuegos. Consiste en desarrollar sistemas que permitan a los personajes no jugables (NPC) o a los enemigos virtuales dentro del juego tomar decisiones autónomas, adaptarse a las acciones del jugador y exhibir comportamientos realistas."
   ]
  },
  {
   "cell_type": "markdown",
   "metadata": {
    "slideshow": {
     "slide_type": "slide"
    }
   },
   "source": [
    "### Usos de la IA en los videojuegos\n",
    "\n",
    "- Movimiento de personajes: cómo los personajes no controlados por jugadores (NPC) se mueven y navegan por el entorno del juego.\n",
    "  \n",
    "- Toma de decisiones: cómo los NPC toman decisiones sobre qué acciones realizar en función de las circunstancias del juego y los objetivos establecidos.\n",
    "\n",
    "- Comportamiento agresivo: cómo los NPC interactúan de manera agresiva con los jugadores o con otros NPC, como atacar, perseguir o defenderse.\n",
    "\n",
    "- Comportamiento defensivo: cómo los NPC se protegen a sí mismos o a otros personajes, como esquivar ataques o buscar cobertura."
   ]
  },
  {
   "cell_type": "markdown",
   "metadata": {
    "slideshow": {
     "slide_type": "subslide"
    }
   },
   "source": [
    "- Interacción social: cómo los NPC interactúan entre sí y con los jugadores, incluyendo el diálogo, las emociones y la cooperación.\n",
    "\n",
    "- Detección y respuesta a estímulos: cómo los NPC perciben el entorno del juego a través de sensores virtuales y cómo responden a diferentes estímulos, como la detección de sonidos, objetos o eventos.\n",
    "\n",
    "- Estrategias de juego: cómo los NPC desarrollan y siguen estrategias para alcanzar los objetivos del juego, como atacar en grupo, flanquear al jugador o utilizar tácticas avanzadas.\n",
    "\n",
    "- Aprendizaje automático: cómo los NPC pueden mejorar su rendimiento a través del aprendizaje automático, adaptándose y mejorando su comportamiento con el tiempo.\n",
    "\n",
    "- Generación procedural: cómo la inteligencia artificial puede utilizarse para generar contenido de juego de manera automática, como niveles, mapas o misiones.\n",
    "\n",
    "- Inteligencia artificial en juegos multijugador: cómo se utiliza la inteligencia artificial para crear desafíos justos y equilibrados en juegos en línea donde los jugadores compiten entre sí."
   ]
  },
  {
   "cell_type": "markdown",
   "metadata": {
    "slideshow": {
     "slide_type": "subslide"
    }
   },
   "source": [
    "### Ilusion de Inteligencia\n",
    "\n",
    "La \"ilusión de inteligencia\" en el contexto de la inteligencia artificial para videojuegos se refiere a la estrategia de diseñar y programar NPC y enemigos virtuales para que aparenten comportarse de manera inteligente y desafiante, aunque en realidad sus capacidades y decisiones estén limitadas."
   ]
  },
  {
   "cell_type": "markdown",
   "metadata": {
    "slideshow": {
     "slide_type": "subslide"
    }
   },
   "source": [
    "### Agentes\n",
    "\n",
    "<div class=\"imagen\">\n",
    "<img src=\"https://drive.google.com/uc?id=1SswmWtQ_yeTHzdcsgt5RrTI93_BoXsz8\" alt=\"Mcpits\"  >\n",
    "</div>"
   ]
  },
  {
   "cell_type": "markdown",
   "metadata": {
    "slideshow": {
     "slide_type": "subslide"
    }
   },
   "source": [
    "- Un agente inteligente es cualquier cosa capaz de percibir su medioambiente con la ayuda de sensores y actuar en ese medio utilizando actuadores\n",
    "\n",
    "- Un agente inteligente es un sistema que tiene la habilidad de ver, analizar y reaccionar a su entorno de manera racional, tomando decisiones que buscan maximizar los resultados esperados. Los agentes inteligentes pueden ver su entorno a través de sensores y realizar acciones en él mediante actuadores."
   ]
  },
  {
   "cell_type": "markdown",
   "metadata": {
    "slideshow": {
     "slide_type": "subslide"
    }
   },
   "source": [
    "<div class=\"imagen\">\n",
    "<img src=\"https://drive.google.com/uc?id=1XDMkF2fYfuLcRdrgQeZmeHW_g8-C5IzZ\" alt=\"Mcpits\"  >\n",
    "</div>"
   ]
  },
  {
   "cell_type": "markdown",
   "metadata": {
    "slideshow": {
     "slide_type": "subslide"
    }
   },
   "source": [
    "#### Características de un agente inteligente:\n",
    "\n",
    "- Autonomía, de manera que un agente actúa sin la intervención directa de terceras partes. Por ejemplo, un personaje de un juego de rol tendrá sus propios deseos, de manera independiente al resto de personajes.\n",
    "\n",
    "- Habilidad social, los agentes interactúan entre sí y se comunican para alcanzar un objetivo común. Por ejemplo, los NPCs de un shooter se comunicarán para cubrir el mayor número de entradas a un edificio.\n",
    "\n",
    "- Reactividad, de manera que un agente actúa en función de las percepciones del entorno. Por ejemplo, un enemigo reaccionará, normalmente, atacando si es atacado.\n",
    "\n",
    "- Proactividad, de manera que un agente puede tomar la iniciativa en lugar de ser puramente reactivo. Por ejemplo, un enemigo feroz atacará incluso cuando no haya sido previamente atacado."
   ]
  },
  {
   "cell_type": "markdown",
   "metadata": {
    "slideshow": {
     "slide_type": "subslide"
    }
   },
   "source": [
    "### La Lógica Difusa\n",
    "\n",
    "La lógica difusa, también conocida como lógica borrosa, es un modelo matemático que permite manejar la imprecisión y la incertidumbre en la representación y el razonamiento de conceptos y variables. A diferencia de la lógica clásica, que se basa en valores booleanos (verdadero o falso), la lógica difusa permite asignar grados de pertenencia a conjuntos difusos, donde un elemento puede tener una pertenencia parcial o gradual a un conjunto."
   ]
  },
  {
   "cell_type": "markdown",
   "metadata": {
    "slideshow": {
     "slide_type": "subslide"
    }
   },
   "source": [
    "<div class=\"imagen\">\n",
    "<img src=\"https://i0.wp.com/pediaa.com/wp-content/uploads/2019/08/Difference-Between-Fuzzy-Logic-and-Neural-Network_Figure-1.jpg\" alt=\"Mcpits\"  >\n",
    "</div>"
   ]
  },
  {
   "cell_type": "markdown",
   "metadata": {
    "slideshow": {
     "slide_type": "subslide"
    }
   },
   "source": [
    "<div class=\"imagen\">\n",
    "<img src=\"https://drive.google.com/uc?id=1SswmWtQ_yeTHzdcsgt5RrTI93_BoXsz8\" alt=\"Mcpits\"  >\n",
    "</div>"
   ]
  },
  {
   "cell_type": "markdown",
   "metadata": {
    "slideshow": {
     "slide_type": "subslide"
    }
   },
   "source": [
    "<div class=\"imagen\">\n",
    "<img src=\"https://drive.google.com/uc?id=1gfuY4mcEAx1j-RuEQX6cbOHLBTIs4BoR\" alt=\"Mcpits\"  >\n",
    "</div>"
   ]
  },
  {
   "cell_type": "markdown",
   "metadata": {
    "slideshow": {
     "slide_type": "subslide"
    }
   },
   "source": [
    "### Maquina de estados\n",
    "\n",
    "Una máquina de estado es un modelo que define una serie de estados y las reglas que gobiernan las transiciones entre ellos."
   ]
  },
  {
   "cell_type": "markdown",
   "metadata": {
    "slideshow": {
     "slide_type": "subslide"
    }
   },
   "source": [
    "<div class=\"imagen\">\n",
    "<img src=\"https://drive.google.com/uc?id=10vny6hrUbZ1N7X0FjaFNb47Gic5q-c38\" alt=\"Mcpits\"  >\n",
    "</div>"
   ]
  },
  {
   "cell_type": "markdown",
   "metadata": {
    "slideshow": {
     "slide_type": "subslide"
    }
   },
   "source": [
    "En el contexto de los juegos, una máquina de estado se utiliza para controlar el comportamiento de los personajes, los elementos del juego y otros componentes. Cada estado representa una condición o situación particular en el juego, y las transiciones se producen en respuesta a eventos o acciones específicas.\n",
    "\n",
    "- Son fáciles de implementar y muy rápidas. Aunque existen diversas alternativas, todas ellas tienen una complejidad baja.\n",
    "- Su depuración es sencilla, ya que se basan en el principio de descomposición en subestados que sean manejables.\n",
    "- Tienen una mínima sobrecarga computacional, ya que giran en torno a un esquema if-then-else.\n",
    "- Son muy intuitivas, ya que se asemejan al modelo de razonamiento del ser humano.\n",
    "- Son muy flexibles, debido a que permiten la integración de nuevos estados sin tener un impacto significativo en el resto y posibilitan la combinación de otras técnicas clásicas de IA, como la lógica difusa o las redes neuronales."
   ]
  },
  {
   "cell_type": "markdown",
   "metadata": {
    "slideshow": {
     "slide_type": "subslide"
    }
   },
   "source": [
    "<div class=\"imagen\">\n",
    "<img src=\"https://drive.google.com/uc?id=149l7w-idTiLfIOsdTxcvR7zH_lvErwFX\" alt=\"Mcpits\"  >\n",
    "</div>"
   ]
  },
  {
   "cell_type": "markdown",
   "metadata": {
    "slideshow": {
     "slide_type": "subslide"
    }
   },
   "source": [
    "### Arbol de Comportamiento\n",
    "\n",
    "Es una técnica utilizada para definir y controlar el comportamiento de los personajes no jugadores (NPC) en un videojuego. Estos árboles proporcionan una estructura organizada y jerárquica que permite tomar decisiones y ejecutar acciones en función de las condiciones y situaciones del juego.\n"
   ]
  },
  {
   "cell_type": "markdown",
   "metadata": {
    "slideshow": {
     "slide_type": "subslide"
    }
   },
   "source": [
    "<div class=\"imagen\">\n",
    "<img src=\"https://upload.wikimedia.org/wikipedia/commons/2/27/BT_search_and_grasp.svg\" alt=\"Mcpits\"  >\n",
    "</div>"
   ]
  },
  {
   "cell_type": "markdown",
   "metadata": {
    "slideshow": {
     "slide_type": "subslide"
    }
   },
   "source": [
    "### Agoritmos geneticos\n",
    "\n",
    "Un algoritmo genético es una técnica de optimización y búsqueda inspirada en la teoría de la evolución biológica y la genética. Se utiliza para resolver problemas complejos y encontrar soluciones óptimas o aproximadamente óptimas en un espacio de búsqueda amplio."
   ]
  },
  {
   "cell_type": "markdown",
   "metadata": {
    "slideshow": {
     "slide_type": "subslide"
    }
   },
   "source": [
    "<div class=\"imagen\">\n",
    "<img src=\"https://drive.google.com/uc?id=1OQS_YlUlIIDa-OTW-IBu7mI3m3IyRuNO\" alt=\"Mcpits\"  >\n",
    "</div>"
   ]
  },
  {
   "cell_type": "markdown",
   "metadata": {
    "slideshow": {
     "slide_type": "subslide"
    }
   },
   "source": [
    "<div class=\"imagen\">\n",
    "<img src=\"https://drive.google.com/uc?id=1ujhmGrgj_GF3GDkgZbflOfwUJkxzc-gk\" alt=\"Mcpits\"  >\n",
    "</div>"
   ]
  },
  {
   "cell_type": "markdown",
   "metadata": {
    "slideshow": {
     "slide_type": "subslide"
    }
   },
   "source": [
    "###  Redes Neuronales\n",
    "\n",
    "Las redes neuronales son un tipo de algoritmo de aprendizaje automático inspirado en la estructura y funcionamiento del cerebro humano. Consisten en una colección interconectada de unidades llamadas neuronas artificiales, que trabajan en conjunto para procesar información y aprender patrones."
   ]
  },
  {
   "cell_type": "markdown",
   "metadata": {
    "slideshow": {
     "slide_type": "subslide"
    }
   },
   "source": [
    "<div class=\"imagen\">\n",
    "<img src=\"https://drive.google.com/uc?id=1Mt-uddSi76r4wjNGv9Uw2ZJ2wSfOKZp3\" alt=\"Mcpits\"  >\n",
    "</div>"
   ]
  },
  {
   "cell_type": "markdown",
   "metadata": {
    "slideshow": {
     "slide_type": "subslide"
    }
   },
   "source": [
    "Aplicaciones en el desarrollo de videojuegos:\n",
    "\n",
    "1. Búsqueda de caminos\n",
    "\n",
    "2. Clasificación de personajes\n",
    "\n",
    "3. Sistemas de control y búsqueda de equilibrio: minimización de pérdidas o maximización de ganancias\n",
    "\n",
    "4. Toma de decisiones\n",
    "\n",
    "5. Elaboración de estrategias\n",
    "\n",
    "6. Simulaciones físicas\n"
   ]
  }
 ],
 "metadata": {
  "kernelspec": {
   "display_name": ".venv",
   "language": "python",
   "name": "python3"
  },
  "language_info": {
   "codemirror_mode": {
    "name": "ipython",
    "version": 3
   },
   "file_extension": ".py",
   "mimetype": "text/x-python",
   "name": "python",
   "nbconvert_exporter": "python",
   "pygments_lexer": "ipython3",
   "version": "3.11.3"
  },
  "orig_nbformat": 4
 },
 "nbformat": 4,
 "nbformat_minor": 2
}
