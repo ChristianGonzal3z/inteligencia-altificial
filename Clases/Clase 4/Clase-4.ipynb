{
 "cells": [
  {
   "cell_type": "markdown",
   "metadata": {
    "slideshow": {
     "slide_type": "slide"
    }
   },
   "source": [
    "# Búsqueda informada y exploración\n",
    "\n",
    "---\n",
    "<style>\n",
    "      h1, h2, h3, h4, h5, h6,.imagen {\n",
    "        text-align: center;\n",
    "      }\n",
    " img{width: 75%; height: 75%;}\n",
    "</style>"
   ]
  },
  {
   "cell_type": "markdown",
   "metadata": {
    "slideshow": {
     "slide_type": "skip"
    }
   },
   "source": [
    "- [Búsqueda informada y exploración](#búsqueda-informada-y-exploración)\n",
    "  - [Estrategias de búsqueda informada (heurísticas)](#estrategias-de-búsqueda-informada-heurísticas)\n",
    "    - [Búsqueda voraz primero el mejor](#búsqueda-voraz-primero-el-mejor)\n",
    "    - [Búsqueda A\\*](#búsqueda-a)\n",
    "    - [Búsqueda heurística con memoria acotada](#búsqueda-heurística-con-memoria-acotada)\n",
    "    - [Funciones heurísticas](#funciones-heurísticas)\n",
    "  - [Algoritmos de búsqueda local y problemas de optimización](#algoritmos-de-búsqueda-local-y-problemas-de-optimización)\n",
    "    - [Búsqueda de ascensión de colinas](#búsqueda-de-ascensión-de-colinas)\n",
    "    - [Búsqueda de temple simulado](#búsqueda-de-temple-simulado)\n",
    "    - [Búsqueda por haz local](#búsqueda-por-haz-local)\n",
    "    - [Algoritmos genéticos](#algoritmos-genéticos)"
   ]
  },
  {
   "cell_type": "markdown",
   "metadata": {
    "slideshow": {
     "slide_type": "slide"
    }
   },
   "source": [
    "## Estrategias de búsqueda informada (heurísticas)\n",
    "\n",
    "La búsqueda informada,es un enfoque de resolución de problemas que utiliza información adicional y específica del problema para guiar la búsqueda hacia soluciones óptimas o cercanas a la solución óptima de manera más eficiente."
   ]
  },
  {
   "cell_type": "markdown",
   "metadata": {
    "slideshow": {
     "slide_type": "subslide"
    }
   },
   "source": [
    "### Búsqueda voraz primero el mejor\n",
    " \n",
    "La búsqueda voraz primero el mejor (Greedy Best-First Search) selecciona el nodo más cercano al objetivo en cada paso de la búsqueda(f(n) = h(n) siendo h ka distancia en linea recta). Utiliza una función heurística para estimar la distancia o costo desde un estado dado hasta el estado objetivo.\n"
   ]
  },
  {
   "cell_type": "markdown",
   "metadata": {
    "slideshow": {
     "slide_type": "subslide"
    }
   },
   "source": [
    " ### Búsqueda A*\n",
    " \n",
    "La búsqueda A\\* se utiliza para encontrar la solución óptima en problemas de búsqueda en grafos. A diferencia de la búsqueda primero el mejor, que solo tiene en cuenta el costo acumulado para llegar a un nodo, A\\* también considera una función heurística que estima el costo restante para llegar al objetivo."
   ]
  },
  {
   "cell_type": "markdown",
   "metadata": {
    "slideshow": {
     "slide_type": "subslide"
    }
   },
   "source": [
    "La función de evaluación en A* se define como:\n",
    "f(n) = g(n) + h(n)\n",
    "\n",
    "Donde:\n",
    "\n",
    "- g(n) es el costo acumulado para llegar al nodo n desde el nodo inicial.\n",
    "  \n",
    "- h(n) es una función heurística que estima el costo restante para llegar al objetivo desde el nodo n.\n",
    "  \n",
    "- f(n) es el costo estimado total de la solución pasando por el nodo n."
   ]
  },
  {
   "cell_type": "markdown",
   "metadata": {
    "slideshow": {
     "slide_type": "subslide"
    }
   },
   "source": [
    "```mermaid\n",
    "graph TD;\n",
    "  A[1,2,3\\n0,4,6\\n7,5,8\\ng=0\\nh=3\\nf=3] --> B[0,2,3\\n1,4,6\\n7,5,8\\ng=1\\nh=4\\nf=5];\n",
    "  A --> C[1,2,3\\n4,0,6\\n7,5,8\\ng=1\\nh=2\\nf=3];\n",
    "  A --> D[1,2,3\\n7,4,6\\n0,5,8\\ng=1\\nh=4\\nf=5];\n",
    "  C --> E[1,2,3\\n4,5,6\\n7,0,8\\ng=2\\nh=1\\nf=3];\n",
    "  C --> F[1,2,3\\n4,6,0\\n7,5,8\\ng=2\\nh=3\\nf=5];\n",
    "  C --> G[1,2,3\\n4,5,6\\n7,8,0\\ng=2\\nh=3\\nf=5];\n",
    "  E --> H[1,2,3\\n4,5,6\\n0,7,8\\ng=3\\nh=2\\nf=5];\n",
    "  E --> I[1,2,3\\n4,5,6\\n7,8,0\\ng=3\\nh=0\\nf=3];\n",
    "  style A stroke:red,stroke-width:4px;\n",
    "  style C stroke:red,stroke-width:4px;\n",
    "  style E stroke:red,stroke-width:4px;\n",
    "  style I stroke:red,stroke-width:4px;\n",
    " ```"
   ]
  },
  {
   "cell_type": "markdown",
   "metadata": {
    "slideshow": {
     "slide_type": "subslide"
    }
   },
   "source": [
    "### Búsqueda heurística con memoria acotada\n",
    " \n",
    "La búsqueda heurística con memoria acotada es una estrategia para reducir el consumo de memoria en algoritmos de búsqueda informada.\n",
    "\n",
    "- A* Profundidad iterativa: Es una adaptación de la idea de la búsqueda en profundidad al contexto de búsqueda heurística. En cada iteración, se establece un límite de costo basado en el f-coste más pequeño de cualquier nodo que excedió el límite de la iteración anterior. Es práctico para problemas con costos unitarios y evita el mantenimiento de una cola ordenada de nodos.\n",
    "\n",
    "- Búsqueda Recursiva del Primero Mejor (BRPM): Es un algoritmo recursivo que imita la operación de la búsqueda primero el mejor estándar, pero utiliza solo un espacio lineal. Mantiene el f-valor del mejor camino alternativo disponible desde cualquier antepasado del nodo actual y retrocede al camino alternativo si el nodo actual excede este límite. Se sustituyen los f-valores de los nodos a lo largo del camino con el mejor f-valor de su hijo."
   ]
  },
  {
   "cell_type": "markdown",
   "metadata": {
    "slideshow": {
     "slide_type": "subslide"
    }
   },
   "source": [
    "- A\\* con memoria acotada (AM): Es un algoritmo que utiliza toda la memoria disponible. Avanza como A*, expandiendo la mejor hoja hasta que la memoria esté llena y luego reemplaza la peor hoja por un nuevo nodo. Recuerda el f-valor de la mejor hoja en el subárbol olvidado para decidir si vale la pena expandir el subárbol más tarde. Es completo si hay alguna solución alcanzable y óptimo si cualquier solución óptima es alcanzable.\n",
    "\n",
    "- A\\* MS: Es una versión simplificada de A* con memoria acotada. Expande la mejor hoja más nueva y suprime la peor hoja más vieja para evitar seleccionar el mismo nodo para expandir y suprimir. Es completo si hay alguna solución alcanzable y óptimo si cualquier solución óptima es alcanzable."
   ]
  },
  {
   "cell_type": "markdown",
   "metadata": {
    "slideshow": {
     "slide_type": "subslide"
    }
   },
   "source": [
    "### Funciones heurísticas\n",
    " \n",
    "Una heurística es una técnica o método utilizado en la resolución de problemas para encontrar soluciones aproximadas o subóptimas cuando la solución exacta no es factible o computacionalmente costosa. Una heurística se basa en reglas o estrategias prácticas, que pueden no garantizar la obtención de la solución óptima, pero que ofrecen una solución aceptable en un tiempo razonable."
   ]
  },
  {
   "cell_type": "markdown",
   "metadata": {
    "slideshow": {
     "slide_type": "subslide"
    }
   },
   "source": [
    "<div class=\"imagen\">\n",
    "<img src=\"https://drive.google.com/uc?id=1w8zBQq__12Wo2h8_gnaS7FXDf7gAg7XF\" alt=\"Mcpits\"  >\n",
    "</div>"
   ]
  },
  {
   "cell_type": "markdown",
   "metadata": {
    "slideshow": {
     "slide_type": "subslide"
    }
   },
   "source": [
    "## Algoritmos de búsqueda local y problemas de optimización\n",
    "\n",
    "Los algoritmos de búsqueda local son métodos de optimización que se enfocan en mejorar iterativamente una solución inicial para encontrar un óptimo local en un espacio de búsqueda. A diferencia de los algoritmos sistemáticos que exploran todo el espacio de búsqueda, los algoritmos de búsqueda local trabajan con un solo estado actual y se mueven a través de los vecinos de dicho estado en busca de una solución mejor."
   ]
  },
  {
   "cell_type": "markdown",
   "metadata": {
    "slideshow": {
     "slide_type": "subslide"
    }
   },
   "source": [
    "### Búsqueda de ascensión de colinas\n",
    " \n",
    "La búsqueda de ascensión en colinas es un algoritmo de búsqueda local que se utiliza para encontrar un máximo local en un espacio de estados. En este algoritmo, se parte de un estado inicial y se avanza hacia estados vecinos que tengan un valor objetivo más alto. El algoritmo se detiene cuando no hay ningún estado vecino que mejore el valor objetivo del estado actual.\n",
    "\n",
    "- Búsqueda de ascensión en colinas estocástica: Esta variante de la búsqueda de ascensión en colinas selecciona movimientos ascendentes de manera aleatoria. En lugar de elegir siempre el vecino con el valor más alto, se introduce una probabilidad que puede variar en función de la pendiente del movimiento ascendente. La búsqueda de ascensión en colinas estocástica tiende a converger más lentamente que la versión más básica, pero puede encontrar mejores soluciones en algunos paisajes de estados."
   ]
  },
  {
   "cell_type": "markdown",
   "metadata": {
    "slideshow": {
     "slide_type": "subslide"
    }
   },
   "source": [
    "- Búsqueda de ascensión en colinas de primera opción: En esta variante, se implementa una búsqueda de ascensión en colinas estocástica generando sucesores al azar hasta que se encuentre uno que sea mejor que el estado actual. En lugar de explorar todos los sucesores posibles, se elige el primero que mejore el valor objetivo. Esta estrategia es útil cuando hay muchos sucesores disponibles, ya que permite un avance más rápido hacia una solución.\n",
    "\n",
    "- Búsqueda de ascensión en colinas de reinicio aleatorio: Esta variante adopta la estrategia de reiniciar la búsqueda desde estados iniciales generados aleatoriamente cuando se alcanza un punto en el que no se puede hacer más progreso. En lugar de quedarse atascada en un máximo local, la búsqueda de ascensión en colinas de reinicio aleatorio realiza una serie de búsquedas en ascensión de colinas desde diferentes puntos iniciales. Esta variante es completa en el sentido de que eventualmente encontrará un objetivo, pero la probabilidad de éxito depende del problema y del número de reinicios realizados."
   ]
  },
  {
   "cell_type": "markdown",
   "metadata": {
    "slideshow": {
     "slide_type": "subslide"
    }
   },
   "source": [
    "<div class=\"imagen\">\n",
    "<img src=\"https://drive.google.com/uc?id=1XeJvUximHOGeQsvtbEujgmCMfGmyF9_e\" alt=\"Mcpits\"  >\n",
    "</div>"
   ]
  },
  {
   "cell_type": "markdown",
   "metadata": {
    "slideshow": {
     "slide_type": "subslide"
    }
   },
   "source": [
    "### Búsqueda de temple simulado\n",
    "\n",
    "La búsqueda de temple simulado es un algoritmo que combina la estrategia de ascensión de colinas con movimientos aleatorios para lograr un equilibrio entre eficacia y completitud. A diferencia de la ascensión de colinas que solo realiza movimientos ascendentes, el temple simulado permite movimientos \"cuesta abajo\" hacia estados con un valor inferior (o coste más alto) con una probabilidad decreciente. Este algoritmo se inspira en el proceso de temple utilizado en metalurgia, donde se calientan gradualmente los metales y luego se enfrían para obtener una estructura cristalina de baja energía."
   ]
  },
  {
   "cell_type": "markdown",
   "metadata": {
    "slideshow": {
     "slide_type": "subslide"
    }
   },
   "source": [
    "### Búsqueda por haz local\n",
    "\n",
    "La búsqueda por haz local es un algoritmo que utiliza múltiples estados en lugar de uno solo para buscar soluciones a un problema. En lugar de mantener solo un estado en la memoria, como en otros algoritmos de búsqueda, la búsqueda por haz local mantiene un conjunto de k estados generados aleatoriamente. En cada paso, se generan todos los sucesores de los k estados y se seleccionan los k mejores sucesores de la lista completa."
   ]
  },
  {
   "cell_type": "markdown",
   "metadata": {
    "slideshow": {
     "slide_type": "subslide"
    }
   },
   "source": [
    "### Algoritmos genéticos\n",
    "\n",
    "El algoritmo genético (AG) es una variante de la búsqueda por haz estocástica en la que los estados sucesores se generan combinando dos estados padres en lugar de modificar un solo estado. El AG utiliza la reproducción sexual en lugar de la reproducción asexual como en la búsqueda por haz estocástica."
   ]
  },
  {
   "cell_type": "markdown",
   "metadata": {
    "slideshow": {
     "slide_type": "subslide"
    }
   },
   "source": [
    "<div class=\"imagen\">\n",
    "<img src=\"https://drive.google.com/uc?id=1X1vZ0ypyYgg0GmypRq4fcTSLWkkxNqQk\" alt=\"Mcpits\"  >\n",
    "</div>"
   ]
  },
  {
   "cell_type": "markdown",
   "metadata": {
    "slideshow": {
     "slide_type": "subslide"
    }
   },
   "source": [
    "<div class=\"imagen\">\n",
    "<img src=\"https://drive.google.com/uc?id=1lsnAhh8o4T8Akjq-VbeHaeCCPQMQnACZ\" alt=\"Mcpits\"  >\n",
    "</div>"
   ]
  }
 ],
 "metadata": {
  "language_info": {
   "name": "python"
  },
  "orig_nbformat": 4
 },
 "nbformat": 4,
 "nbformat_minor": 2
}
