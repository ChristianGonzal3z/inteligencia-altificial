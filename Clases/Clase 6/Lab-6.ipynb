{
 "cells": [
  {
   "cell_type": "markdown",
   "metadata": {
    "slideshow": {
     "slide_type": "slide"
    }
   },
   "source": [
    "# Tratamiento de datos \n",
    "---\n",
    "<style>\n",
    "      h1, h2, h3, h4, h5, h6,.imagen {\n",
    "        text-align: center;\n",
    "      }\n",
    " img{width: 75%; height: 75%;}\n",
    "</style>"
   ]
  },
  {
   "cell_type": "markdown",
   "metadata": {
    "slideshow": {
     "slide_type": "slide"
    }
   },
   "source": [
    "[Pandas](https://pandas.pydata.org/) es una librería de Python que proporciona estructuras de datos y herramientas de análisis de datos de alto rendimiento y fáciles de usar. En particular, la clase `DataFrame` es útil para representar datos tabulares de forma ordenada y manipularlos de forma eficiente.\n",
    "\n",
    "[Maltplotlib](https://matplotlib.org/) es una librería de Python para la generación de gráficos a partir de datos contenidos en listas o arrays."
   ]
  },
  {
   "cell_type": "markdown",
   "metadata": {
    "slideshow": {
     "slide_type": "subslide"
    }
   },
   "source": [
    "## Instalación\n",
    " \n",
    "```python\n",
    "\n",
    "!pip install pandas matplotlib\n",
    "\n",
    "``` \n",
    "## Importación\n",
    "\n",
    "```python\n",
    "\n",
    "import pandas as pd\n",
    "import matplotlib.pyplot as plt\n",
    "\n",
    "```"
   ]
  },
  {
   "cell_type": "markdown",
   "metadata": {
    "slideshow": {
     "slide_type": "subslide"
    }
   },
   "source": [
    "## Mi primer DataFrame\n",
    "\n",
    "```python\n",
    "# Datos categóricos\n",
    "nombres = ['Naruto', 'One Piece', 'Dragon Ball', 'Attack on Titan', 'Death Note', 'My Hero Academia', 'Fullmetal Alchemist', 'Neon Genesis Evangelion']\n",
    "demografia = ['Shonen', 'Shonen', 'Shonen', 'Shonen', 'Seinen', 'Shonen', 'Shonen', 'Seinen']\n",
    "estudio = ['Pierrot', 'Toei Animation', 'Toei Animation', 'Wit Studio', 'Madhouse', 'Bones', 'Bones', 'Gainax']\n",
    "# Datos continuos \n",
    "valoracion = [8.5, 9.0, 9.2, 9.5, 8.8, 9.1, 9.3, 9.4]\n",
    "\n",
    "# Crear un DataFrame\n",
    "\n",
    "Animes = pd.DataFrame({'nombre': nombres, 'demografia': demografia, 'estudio': estudio, 'valoracion': valoracion})\n",
    "\n",
    "# Mostrar el DataFrame\n",
    "Animes\n",
    "\n",
    "# Mostrar las primeras 5 o n filas\n",
    "Animes.head()\n",
    "\n",
    "# Mostrar las últimas 5 o n filas\n",
    "\n",
    "Animes.tail()\n",
    "\n",
    "``` "
   ]
  },
  {
   "cell_type": "markdown",
   "metadata": {
    "slideshow": {
     "slide_type": "subslide"
    }
   },
   "source": [
    "## Renombrar columnas\n",
    "\n",
    "```python\n",
    "\n",
    "# Renombrar columnas\n",
    "\n",
    "Animes.rename(columns={'nombre': 'Anime', 'demografia': 'Demografia', 'estudio': 'Estudio', 'valoracion': 'Valoracion'}, inplace=True)\n",
    "\n",
    "```\n",
    "\n",
    "## Resumen de los datos\n",
    "\n",
    "```python\n",
    "\n",
    "# Resumen de los datos\n",
    "\n",
    "Animes.describe()\n",
    "\n",
    "# Resumen de los datos de una columna\n",
    "\n",
    "Animes['Valoracion'].describe()\n",
    "\n",
    " \n",
    " \n",
    "``` "
   ]
  },
  {
   "cell_type": "markdown",
   "metadata": {
    "slideshow": {
     "slide_type": "subslide"
    }
   },
   "source": [
    "## Crear una nueva columna\n",
    "\n",
    "```python\n",
    "\n",
    "# Crear una nueva columna\n",
    "\n",
    "Animes['Popularidad'] = ['Alta', 'Alta', 'Alta', 'Alta', 'Media', 'Alta', 'Alta', 'Alta']\n",
    "\n",
    "```\n",
    "\n",
    "## Ordenar los datos\n",
    "\n",
    "```python\n",
    "\n",
    "# Ordenar los datos\n",
    "\n",
    "Animes.sort_values(by='Valoracion', ascending=False)\n",
    "\n",
    "```"
   ]
  },
  {
   "cell_type": "markdown",
   "metadata": {
    "slideshow": {
     "slide_type": "subslide"
    }
   },
   "source": [
    "##  Acceso a los datos\n",
    "\n",
    "```python\n",
    "\n",
    "# Acceso a una columna\n",
    "Animes['Anime']\n",
    "\n",
    "# Acceso a una fila\n",
    "\n",
    "Animes.iloc[0]\n",
    "\n",
    "# Acceso a un elemento\n",
    "\n",
    "Animes['Anime'][0]\n",
    "\n",
    "```\n",
    "\n"
   ]
  },
  {
   "cell_type": "markdown",
   "metadata": {
    "slideshow": {
     "slide_type": "slide"
    }
   },
   "source": [
    "##  Filtrado de datos\n",
    "\n",
    "```python\n",
    "\n",
    "# Filtrado de datos\n",
    "\n",
    "Animes[Animes['Demografia'] == 'Shonen']\n",
    "\n",
    " \n",
    "\n",
    "Animes[(Animes['Demografia'] == 'Shonen') & (Animes['Estudio'] == 'Pierrot')]\n",
    "\n",
    " \n",
    "\n",
    "Animes[(Animes['Demografia'] == 'Shonen') | (Animes['Demografia'] == 'Seinen')]\n",
    "\n",
    " \n",
    "\n",
    "Animes[Animes['Valoracion'] > 9.0]\n",
    "\n",
    " \n",
    "\n",
    "Animes[Animes['Valoracion'] > 9.0][['Anime', 'Demografia', 'Estudio', 'Valoracion']]\n",
    "\n",
    "# Filtrado de datos con el método query\n",
    "\n",
    "Animes.query('Demografia == \"Shonen\"') \n",
    "\n",
    "Animes.query('Demografia == \"Shonen\" & Estudio == \"Pierrot\"')\n",
    "\n",
    "Animes.query('Demografia == \"Shonen\" | Demografia == \"Seinen\"')\n",
    "\n",
    "Animes.query('Valoracion > 9.0')\n",
    "\n",
    "Animes.query('Valoracion > 9.0')[['Anime', 'Demografia', 'Estudio', 'Valoracion']]\n",
    "\n",
    "```\n",
    "\n",
    " "
   ]
  },
  {
   "cell_type": "markdown",
   "metadata": {},
   "source": [
    "## Asignar tipos de datos\n",
    "\n",
    "```python\n",
    "\n",
    "# Asignar tipos de datos\n",
    "\n",
    "Animes['Demografia'] = Animes['Demografia'].astype('string')\n",
    "\n",
    "Animes['Estudio'] = Animes['Estudio'].astype('category')\n",
    "\n",
    "Animes.dtypes\n",
    "\n",
    "```\n"
   ]
  },
  {
   "cell_type": "markdown",
   "metadata": {},
   "source": [
    "## Eliminar columnas\n",
    "\n",
    "```python\n",
    "\n",
    "# Eliminar columnas\n",
    "\n",
    "Animes.drop(['Popularidad'], axis=1, inplace=True)\n",
    "\n",
    "Animes\n",
    "\n",
    "```"
   ]
  },
  {
   "cell_type": "markdown",
   "metadata": {},
   "source": [
    "## Eliminar filas\n",
    "\n",
    "```python\n",
    "\n",
    "# Eliminar filas\n",
    "\n",
    "Animes.drop([0, 1], axis=0, inplace=True)\n",
    "\n",
    "Animes\n",
    "\n",
    "```"
   ]
  },
  {
   "cell_type": "markdown",
   "metadata": {},
   "source": [
    "## Variables categóricas\n",
    "\n",
    "```python\n",
    "\n",
    "# Variables dummies\n",
    "\n",
    "pd.get_dummies(Animes['Demografia'])\n",
    "\n",
    "pd.get_dummies(Animes['Demografia'], drop_first=True)\n",
    "\n",
    "Animes =   pd.get_dummies(Animes['Demografia'], drop_first=True) \n",
    "\n",
    "Animes\n",
    "\n",
    "```"
   ]
  },
  {
   "cell_type": "markdown",
   "metadata": {},
   "source": [
    "## Crear IDs\n",
    "\n",
    "```python\n",
    "\n",
    "# Crear IDs\n",
    "\n",
    "Animes['Animeid'] = pd.factorize(Animes['Anime'])[0]\n",
    "Animes['Demografiaid'] = pd.factorize(Animes['Demografia'])[0]\n",
    "Animes['Estudioid'] = pd.factorize(Animes['Estudio'])[0]\n",
    "\n",
    "Animes\n",
    "\n",
    "``` "
   ]
  },
  {
   "cell_type": "markdown",
   "metadata": {},
   "source": [
    "## Tratamiento de valores nulos\n",
    "\n",
    "```python\n",
    "\n",
    "# Tratamiento de valores nulos\n",
    "\n",
    "Animes.isnull()\n",
    "\n",
    "Animes.isnull().sum()\n",
    "\n",
    "\n",
    "Animes.dropna(inplace=True)\n",
    "\n",
    "Animes\n",
    "\n",
    "# Tratamiento de valores nulos con el método fillna\n",
    "\n",
    "Animes.fillna(0, inplace=True)\n",
    "\n",
    "Animes\n",
    "\n",
    "\n",
    "```"
   ]
  },
  {
   "cell_type": "markdown",
   "metadata": {},
   "source": [
    "## Tratamiento de datos duplicados\n",
    "\n",
    "```python\n",
    "\n",
    "# Tratamiento de datos duplicados\n",
    "\n",
    "Animes.duplicated()\n",
    "\n",
    "Animes.duplicated().sum()\n",
    "\n",
    "\n",
    "Animes.drop_duplicates(inplace=True)\n",
    "\n",
    "Animes\n",
    "\n",
    "```"
   ]
  },
  {
   "cell_type": "markdown",
   "metadata": {},
   "source": [
    "## Sacar muestras aleatorias para entrenamiento y prueba\n",
    "\n",
    "```python\n",
    "\n",
    "train=Animes.sample(frac=0.8)\n",
    "\n",
    "test=Animes.drop(train.index)\n",
    "\n",
    "print(train.shape, test.shape)\n",
    "\n",
    "```\n",
    "\n",
    " "
   ]
  },
  {
   "cell_type": "markdown",
   "metadata": {},
   "source": [
    "# Visualización de datos\n",
    "\n",
    "```python\n",
    "\n",
    "# Visualización de datos\n",
    "\n",
    "Animes.plot(kind='scatter', x='Valoracion', y='Animeid')\n",
    "\n",
    "Animes.plot(kind='box')\n",
    "\n",
    "Animes.plot(kind='hist')\n",
    "\n",
    "Animes.plot(kind='bar')\n",
    "\n",
    "Animes.plot(kind='line')\n",
    "\n",
    "Animes.plot(kind='pie', y='Valoracion')\n",
    "\n",
    "plt.show()\n",
    "\n",
    "```\n",
    "\n",
    "## personalización de gráficos\n",
    "\n",
    "```python\n",
    "# Gráfico de Barras\n",
    "Animes.plot.bar(x='Anime', y='Valoracion', legend=False)\n",
    "plt.xlabel('Anime')\n",
    "plt.ylabel('Valoración')\n",
    "plt.title('Valoración de Animes')\n",
    "plt.show()\n",
    "\n",
    "\n",
    "# Gráfico de Pastel\n",
    "demografia_counts = df['Demografia'].value_counts()\n",
    "demografia_counts.plot.pie(autopct='%1.1f%%')\n",
    "plt.title('Distribución de Demografía de Animes')\n",
    "plt.show()\n",
    "\n",
    "\n",
    "# Gráfico de Barras Apiladas\n",
    "estudio_valoracion = df.groupby('Estudio')['Valoracion'].mean()\n",
    "estudio_valoracion.plot(kind='bar', stacked=True)\n",
    "plt.xlabel('Estudio')\n",
    "plt.ylabel('Valoración Promedio')\n",
    "plt.title('Valoración Promedio por Estudio')\n",
    "plt.show()\n",
    "\n",
    "\n",
    "# Gráfico de Dispersión\n",
    "df.plot.scatter(x='Animeid', y='Valoracion')\n",
    "plt.xlabel('Animeid')\n",
    "plt.ylabel('Valoración')\n",
    "plt.title('Relación entre Valoración y Animeid')\n",
    "plt.show()\n",
    "\n",
    "```\n"
   ]
  },
  {
   "cell_type": "markdown",
   "metadata": {},
   "source": [
    "## Agrupación de datos\n",
    "\n",
    "```python\n",
    "\n",
    "# Agrupación de datos\n",
    "\n",
    "demogroup=Animes.groupby('Demografia')\n",
    "\n",
    "demogroup['Valoracion'].mean()  \n",
    "\n",
    "\n",
    "demogroup['Valoracion'].describe()\n",
    "\n",
    "\n",
    "```"
   ]
  },
  {
   "cell_type": "markdown",
   "metadata": {
    "slideshow": {
     "slide_type": "slide"
    }
   },
   "source": [
    "## Descargar datos\n",
    "\n",
    "```python\n",
    "\n",
    "!wget  https://huggingface.co/datasets/minoruskore/asfijioasfwlf/resolve/main/nmbrs.zip -O /tmp/nmbrs.zip\n",
    "!unzip /tmp/nmbrs.zip -d /tmp/\n",
    "\n",
    "archivo = '../tmp/nombres.csv'\n",
    "\n",
    "``` "
   ]
  },
  {
   "cell_type": "markdown",
   "metadata": {},
   "source": [
    " \n",
    "\n",
    "## Lectura de datos\n",
    "\n",
    "```python\n",
    "\n",
    "nombres = pd.read_csv(archivo )\n",
    "\n",
    "```"
   ]
  }
 ],
 "metadata": {
  "kernelspec": {
   "display_name": "Python 3 (ipykernel)",
   "language": "python",
   "name": "python3"
  },
  "language_info": {
   "codemirror_mode": {
    "name": "ipython",
    "version": 3
   },
   "file_extension": ".py",
   "mimetype": "text/x-python",
   "name": "python",
   "nbconvert_exporter": "python",
   "pygments_lexer": "ipython3",
   "version": "3.8.10"
  }
 },
 "nbformat": 4,
 "nbformat_minor": 2
}
