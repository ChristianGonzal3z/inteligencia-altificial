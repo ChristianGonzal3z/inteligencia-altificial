{
 "cells": [
  {
   "cell_type": "markdown",
   "metadata": {
    "slideshow": {
     "slide_type": "slide"
    }
   },
   "source": [
    "# Agentes Inteligentes\n",
    "\n",
    "---\n",
    "\n",
    "<style>\n",
    "      h1, h2, h3, h4, h5, h6,.imagen {\n",
    "        text-align: center;\n",
    "      }\n",
    " img{width: 50%; height: 50%;}\n",
    "</style>\n",
    "\n"
   ]
  },
  {
   "cell_type": "markdown",
   "metadata": {
    "slideshow": {
     "slide_type": "skip"
    }
   },
   "source": [
    "## Indice\n",
    "\n",
    "- [Agentes Inteligentes](#agentes-inteligentes)\n",
    "  - [Análisis y diseño de sistemas en la Inteligencia Artificial](#análisis-y-diseño-de-sistemas-en-la-inteligencia-artificial)\n",
    "  - [Agente Inteligente](#agente-inteligente)\n",
    "  - [Agentes y Su Relación Con El Medio](#agentes-y-su-relación-con-el-medio)\n",
    "    - [Medio Ambiente](#medio-ambiente)\n",
    "    - [Sensores](#sensores)\n",
    "    - [Actuadores](#actuadores)\n",
    "    - [Percepciones](#percepciones)\n",
    "    - [Secuencia de percepciones](#secuencia-de-percepciones)\n",
    "  - [Agentes Racionales y Medidas de rendimiento](#agentes-racionales-y-medidas-de-rendimiento)\n",
    "    - [Omnisicencia, aprendizaje y autonomía](#omnisicencia-aprendizaje-y-autonomía)\n",
    "    - [Otros](#otros)\n",
    "  - [Entornos de trabajo (REAS)](#entornos-de-trabajo-reas)\n",
    "    - [Ejemplos de REAS](#ejemplos-de-reas)\n",
    "    - [Clasificacion de los entornos de trabajo](#clasificacion-de-los-entornos-de-trabajo)\n",
    "  - [Ejemplos de entornos de trabajo](#ejemplos-de-entornos-de-trabajo)\n",
    "  - [Estructura de los agentes](#estructura-de-los-agentes)\n",
    "    - [La Función y el Programa del Agente](#la-función-y-el-programa-del-agente)\n",
    "    - [Tipos de agentes](#tipos-de-agentes)\n",
    "      - [Agente reactivo simple](#agente-reactivo-simple)\n",
    "      - [Agente reactivo basado en modelo](#agente-reactivo-basado-en-modelo)\n",
    "      - [Agente basado en objetivos](#agente-basado-en-objetivos)\n",
    "      - [Agente basado en utilidad](#agente-basado-en-utilidad)\n",
    "      - [Agentes que aprenden](#agentes-que-aprenden)\n",
    "\n",
    "---"
   ]
  },
  {
   "cell_type": "markdown",
   "metadata": {
    "slideshow": {
     "slide_type": "slide"
    }
   },
   "source": [
    "## Análisis y diseño de sistemas en la Inteligencia Artificial\n",
    "\n",
    "El análisis de sistemas es un proceso utilizado para comprender, interpretar y evaluar un sistema existente o propuesto. Su objetivo es descomponer el sistema en componentes más pequeños, identificar sus funciones, procesos y requisitos, y luego analizar y documentar esta información para identificar mejoras, soluciones o cambios necesarios. El análisis de sistemas busca mejorar la eficiencia, la efectividad y la calidad de los sistemas de información o los procesos empresariales.\n",
    "\n",
    "El diseño de sistemas, por otro lado, implica definir la arquitectura, los componentes, los módulos, las interfaces y los datos de un sistema con el fin de satisfacer los requisitos especificados. Se considera una extensión del análisis, ya que el analista de sistemas interpreta los requisitos y los traduce en una especificación del sistema. El diseño se centra en la creación de una estructura y un plan detallados para implementar el sistema de manera efectiva y eficiente.\n",
    "\n",
    "---"
   ]
  },
  {
   "cell_type": "markdown",
   "metadata": {
    "slideshow": {
     "slide_type": "slide"
    }
   },
   "source": [
    "## Agente Inteligente\n",
    " \n",
    "<div class=\"imagen\">\n",
    "<img src=\"https://drive.google.com/uc?id=1fH5K0tbG1X-ZyCQOK9edXC4-VtO8e1vc\" alt=\"Mcpits\"  >\n",
    "</div>\n",
    "\n",
    "- Un agente inteligente es cualquier cosa capaz de percibir su medioambiente con la ayuda de sensores y actuar en ese medio utilizando actuadores\n",
    "\n",
    "- Un agente inteligente es un sistema que tiene la habilidad de ver, analizar y reaccionar a su entorno de manera racional, tomando decisiones que buscan maximizar los resultados esperados. Los agentes inteligentes pueden ver su entorno a través de sensores y realizar acciones en él mediante actuadores.\n",
    "\n",
    "---"
   ]
  },
  {
   "cell_type": "markdown",
   "metadata": {
    "slideshow": {
     "slide_type": "slide"
    }
   },
   "source": [
    "## Agentes y Su Relación Con El Medio\n"
   ]
  },
  {
   "cell_type": "markdown",
   "metadata": {
    "slideshow": {
     "slide_type": "fragment"
    }
   },
   "source": [
    "### Medio Ambiente\n",
    " \n",
    "- El medio ambiente proporciona el contexto en el cual el agente interactúa, recibe percepciones o entradas, y realiza acciones o salidas.\n"
   ]
  },
  {
   "cell_type": "markdown",
   "metadata": {
    "slideshow": {
     "slide_type": "fragment"
    }
   },
   "source": [
    "### Sensores\n",
    " \n",
    "- Un sensor es un dispositivo que detecta y responde a algún tipo de entrada del entorno. Los sensores son los ojos y los oídos de un agente."
   ]
  },
  {
   "cell_type": "markdown",
   "metadata": {
    "slideshow": {
     "slide_type": "fragment"
    }
   },
   "source": [
    "### Actuadores\n",
    " \n",
    "- Un actuador es un dispositivo que efectúa una acción. Los actuadores son las manos y los pies de un agente.\n",
    "\n",
    "---"
   ]
  },
  {
   "cell_type": "markdown",
   "metadata": {
    "slideshow": {
     "slide_type": "subslide"
    }
   },
   "source": [
    "### Percepciones\n",
    "\n",
    "- Una percepción es la entrada cruda que recibe un agente a través de los sensores en un momento dado. Las percepciones pueden ser imágenes, sonidos, olores, etc."
   ]
  },
  {
   "cell_type": "markdown",
   "metadata": {
    "slideshow": {
     "slide_type": "fragment"
    }
   },
   "source": [
    "### Secuencia de percepciones\n",
    " \n",
    "- La secuencia de percepciones es la historia completa de lo que el agente ha percibido hasta el momento. Es la secuencia de percepciones que determina el comportamiento del agente en cualquier momento.\n",
    "\n",
    "---"
   ]
  },
  {
   "cell_type": "markdown",
   "metadata": {
    "slideshow": {
     "slide_type": "slide"
    }
   },
   "source": [
    "## Agentes Racionales y Medidas de rendimiento"
   ]
  },
  {
   "cell_type": "markdown",
   "metadata": {
    "slideshow": {
     "slide_type": "fragment"
    }
   },
   "source": [
    "- Un agente racional es aquel que realiza la acción correcta en cada momento dado. La acción correcta es aquella que permitirá al agente alcanzar su objetivo."
   ]
  },
  {
   "cell_type": "markdown",
   "metadata": {
    "slideshow": {
     "slide_type": "fragment"
    }
   },
   "source": [
    "- En cada posible secuencia de percepciones, un agente racional deberá emprender aquella acción que supuestamente maximice su medida de rendimiento, basándose en las evidencias aportadas por la secuencia de percepciones y en el conocimiento que el agente mantiene almacenado."
   ]
  },
  {
   "cell_type": "markdown",
   "metadata": {
    "slideshow": {
     "slide_type": "fragment"
    }
   },
   "source": [
    "- Las medidas de rendimiento son criterios que se utilizan para evaluar el rendimiento de un agente. Las medidas de rendimiento dependen del entorno en el que se encuentra el agente.\n",
    "\n",
    "---"
   ]
  },
  {
   "cell_type": "markdown",
   "metadata": {
    "slideshow": {
     "slide_type": "subslide"
    }
   },
   "source": [
    "### Omnisicencia, aprendizaje y autonomía\n",
    " \n",
    "- Un agente omnisciente es aquel que conoce el resultado de sus acciones. Un agente racional no tiene por qué ser omnisciente.\n",
    "\n",
    "- Un agente que aprende es aquel que mejora su rendimiento a lo largo del tiempo. Un agente racional no tiene por qué ser un agente que aprende.\n",
    "\n",
    "- Un agente autónomo es aquel que no depende de un control externo. Un agente racional no tiene por qué ser autónomo, aunque si requiere de cierto grado de autonomía.\n",
    "\n",
    "---"
   ]
  },
  {
   "cell_type": "markdown",
   "metadata": {
    "slideshow": {
     "slide_type": "subslide"
    }
   },
   "source": [
    "### Otros\n",
    " \n",
    "- Habilidad Social\n",
    "- Adaptabilidad\n",
    "- Reactividad\n",
    "- Proactividad\n",
    "\n",
    "---"
   ]
  },
  {
   "cell_type": "markdown",
   "metadata": {
    "slideshow": {
     "slide_type": "slide"
    }
   },
   "source": [
    "## Entornos de trabajo (REAS)\n",
    "\n",
    "- Medidas de rendimiento\n",
    "- Entorno\n",
    "- Actuadores\n",
    "- sensores\n",
    "\n",
    "---"
   ]
  },
  {
   "cell_type": "markdown",
   "metadata": {
    "slideshow": {
     "slide_type": "subslide"
    }
   },
   "source": [
    "### Ejemplos de REAS\n",
    "\n",
    "---"
   ]
  },
  {
   "cell_type": "markdown",
   "metadata": {
    "slideshow": {
     "slide_type": "subslide"
    }
   },
   "source": [
    "| Tipo de agente | Medidas de rendimiento | Entorno | Actuadores | Sensores |\n",
    "| -------------- | ---------------------- | ------- | ---------- | -------- |\n",
    "|Taxista|Seguro, rápido,legal, viaje confortable,maximización del beneficio|Carreteras, otro tráfico, peatones,clientes| Volante, acelerador, freno, señal de giro,claxon|Cámaras, GPS, odómetro, acelerómetro, micrófono, medidor de combustible, sensores de proximidad, reloj|\n",
    "\n",
    "---"
   ]
  },
  {
   "cell_type": "markdown",
   "metadata": {
    "slideshow": {
     "slide_type": "subslide"
    }
   },
   "source": [
    "| Tipo de agente | Medidas de rendimiento | Entorno | Actuadores | Sensores |\n",
    "| -------------- | ---------------------- | ------- | ---------- | -------- | \n",
    "|Robot aspirador|Limpieza rápida, completa, minimización del ruido|Suelo, muebles, cargador, personas, otros robots, gatos|Motor de aspiración, motor de cepillo, brazo mecánico, indicador luminoso, altavoz|Cámaras, sensores de proximidad, sensores de contacto, sensores de suciedad, reloj|\n",
    "\n",
    "---"
   ]
  },
  {
   "cell_type": "markdown",
   "metadata": {
    "slideshow": {
     "slide_type": "subslide"
    }
   },
   "source": [
    "| Tipo de agente | Medidas de rendimiento | Entorno | Actuadores | Sensores |\n",
    "| -------------- | ---------------------- | ------- | ---------- | -------- |\n",
    "|Agente de diagnóstico médico|Salud del paciente, minimización del dolor, minimización del costo,demandas|Paciente, hospital, personal, otros pacientes|Pantalla, altavoz, brazo mecánico|Cámaras, micrófono, escáner, teclado, reloj|\n",
    "\n",
    "---"
   ]
  },
  {
   "cell_type": "markdown",
   "metadata": {
    "slideshow": {
     "slide_type": "subslide"
    }
   },
   "source": [
    "| Tipo de agente | Medidas de rendimiento | Entorno | Actuadores | Sensores |\n",
    "| -------------- | ---------------------- | ------- | ---------- | -------- |\n",
    "| Sistema de análisis de imágenes de satélites | Categorización de imagen correcta | Conexión con el satélite en órbita | Visualizar la categorización de una escena | Matriz de pixels de colores |\n",
    "\n",
    "---"
   ]
  },
  {
   "cell_type": "markdown",
   "metadata": {
    "slideshow": {
     "slide_type": "subslide"
    }
   },
   "source": [
    "| Tipo de agente | Medidas de rendimiento | Entorno | Actuadores | Sensores |\n",
    "| -------------- | ---------------------- | ------- | ---------- | -------- |\n",
    "| Robot para la selección de componentes | Porcentaje de componentes clasificados en los cubos correctos | Cinta transportadora con componentes, cubos | Brazo y mano articulados | Cámara, sensor angular |\n",
    "\n",
    "---"
   ]
  },
  {
   "cell_type": "markdown",
   "metadata": {
    "slideshow": {
     "slide_type": "subslide"
    }
   },
   "source": [
    "| Tipo de agente | Medidas de rendimiento | Entorno | Actuadores | Sensores |\n",
    "| -------------- | ---------------------- | ------- | ---------- | -------- |\n",
    "| Controlador de una refinería | Maximizar la pureza, producción y seguridad | Refinería, operadores | Válvulas, bombas, calentadores, monitores | Temperatura, presión, sensores químicos |\n",
    "\n",
    "---"
   ]
  },
  {
   "cell_type": "markdown",
   "metadata": {
    "slideshow": {
     "slide_type": "subslide"
    }
   },
   "source": [
    "| Tipo de agente | Medidas de rendimiento | Entorno | Actuadores | Sensores |\n",
    "| -------------- | ---------------------- | ------- | ---------- | -------- |\n",
    "| Tutor de inglés interactivo | Maximizar la puntuación de los estudiantes en los exámenes | Conjunto de estudiantes, agencia examinadora | Visualizar los ejercicios, sugerencias, correcciones | Teclado de entrada |\n",
    "\n",
    "---"
   ]
  },
  {
   "cell_type": "markdown",
   "metadata": {
    "slideshow": {
     "slide_type": "subslide"
    }
   },
   "source": [
    "### Clasificacion de los entornos de trabajo"
   ]
  },
  {
   "cell_type": "markdown",
   "metadata": {
    "slideshow": {
     "slide_type": "fragment"
    }
   },
   "source": [
    "- Completamente Observable vs. Parcialmente Observable\n",
    "- Determinista vs. Estocástico\n",
    "- Episódico vs. Secuencial\n",
    "- Estático vs. Dinámico vs. Semidinámico\n",
    "- Discreto vs. Continuo\n",
    "- Agente único vs. Multiagente\n",
    "  - Competitivo vs. Cooperativo\n",
    "\n",
    "---"
   ]
  },
  {
   "cell_type": "markdown",
   "metadata": {
    "slideshow": {
     "slide_type": "slide"
    }
   },
   "source": [
    "## Ejemplos de entornos de trabajo"
   ]
  },
  {
   "cell_type": "markdown",
   "metadata": {
    "slideshow": {
     "slide_type": "fragment"
    }
   },
   "source": [
    "|Entornos de trabajo|Observable|Determinista|Episódico|Estático|Discreto|Agentes|\n",
    "|-------------------|----------|------------|---------|--------|--------|-------|\n",
    "|Crucigrama|Totalmente|Determinista|Secuencial|Estático|Discreto|Individual|\n",
    "|Ajedrez con reloj|Totalmente|Estratégico|Secuencial|Semi|Discreto|Multi|\n",
    "|Póker|Parcialmente|Estratégico|Secuencial|Estático|Discreto|Multi|\n",
    "|Backgammon|Totalmente|Estocástico|Secuencial|Estático|Discreto|Multi|\n",
    "\n",
    "---"
   ]
  },
  {
   "cell_type": "markdown",
   "metadata": {
    "slideshow": {
     "slide_type": "subslide"
    }
   },
   "source": [
    "## Ejemplos de entornos de trabajo\n",
    "\n",
    "|Entornos de trabajo|Observable|Determinista|Episódico|Estático|Discreto|Agentes|\n",
    "|-------------------|----------|------------|---------|--------|--------|-------|\n",
    "|Taxi circulando|Parcialmente|Estocástico|Secuencial|Dinámico|Continuo|Multi|\n",
    "|Diagnóstico médico|Parcialmente|Estocástico|Secuencial|Dinámico|Continuo|Individual|\n",
    "|Análisis de imagen|Totalmente|Determinista|Episódico|Semi|Continuo|Individual|\n",
    "|Robot clasificador|Parcialmente|Estocástico|Episódico|Dinámico|Continuo|Individual|\n",
    "|Controlador de refinería|Parcialmente|Estocástico|Secuencial|Dinámico|Continuo|Individual|\n",
    "|Tutor de inglés|Parcialmente|Estocástico|Secuencial|Dinámico|Discreto|Multi|\n",
    "\n",
    "---"
   ]
  },
  {
   "cell_type": "markdown",
   "metadata": {
    "slideshow": {
     "slide_type": "slide"
    }
   },
   "source": [
    "## Estructura de los agentes\n",
    "\n",
    "La estructura de un agente viene dada por la arquitectura del agente y el programa del agente."
   ]
  },
  {
   "cell_type": "markdown",
   "metadata": {
    "slideshow": {
     "slide_type": "subslide"
    }
   },
   "source": [
    "### La Función y el Programa del Agente\n",
    "\n",
    "```python\n",
    "def AGENTE_DIRIGIDO_MEDIANTE_TABLA(percepcion):\n",
    "    #variables estáticas: percepciones, una secuencia, vacía inicialmente\n",
    "    #                  tabla, una tabla de acciones, indexada por las secuencias de\n",
    "    #                  percepciones, totalmente definida inicialmente\n",
    "    añadir la percepción al final de las percepciones\n",
    "    acción = CONSULTA(percepciones, tabla)\n",
    "    devolver acción\n",
    "```\n",
    "\n",
    "- La función de agente define el comportamiento del agente. Toma la secuencia de percepciones como entrada y devuelve una acción. La función de agente es una función de mapeo de la secuencia de percepciones al conjunto de acciones.\n",
    "\n",
    "- El programa es una implementación concreta de la función de agente, generalmente en forma de un programa de computadora.\n",
    "\n",
    "---"
   ]
  },
  {
   "cell_type": "markdown",
   "metadata": {
    "slideshow": {
     "slide_type": "subslide"
    }
   },
   "source": [
    "### Tipos de agentes"
   ]
  },
  {
   "cell_type": "markdown",
   "metadata": {
    "slideshow": {
     "slide_type": "subslide"
    }
   },
   "source": [
    "#### Agente reactivo simple\n",
    "\n",
    "<div class=\"imagen\">\n",
    "<img src=\"https://drive.google.com/uc?id=1CGrMiMQt8x79Dx6IXus2wEaP448C8Fe7\" alt=\"Mcpits\"  >\n",
    "</div>\n",
    "  "
   ]
  },
  {
   "cell_type": "markdown",
   "metadata": {
    "slideshow": {
     "slide_type": "subslide"
    }
   },
   "source": [
    "#### Agente reactivo basado en modelo\n",
    "\n",
    "<div class=\"imagen\">\n",
    "<img src=\"https://drive.google.com/uc?id=1qPJHacI_zf0XiCp2WG-y5hzeNIOmSdwV\" alt=\"Mcpits\"  >\n",
    "</div>\n",
    " "
   ]
  },
  {
   "cell_type": "markdown",
   "metadata": {},
   "source": [
    "#### Agente basado en objetivos\n",
    "\n",
    "<div class=\"imagen\">\n",
    "<img src=\"https://drive.google.com/uc?id=14GNQezQuUKM4XDskdpkGpNTsXc4CQE4m\" alt=\"Mcpits\"  >\n",
    "</div>\n",
    " "
   ]
  },
  {
   "cell_type": "markdown",
   "metadata": {},
   "source": [
    "#### Agente basado en utilidad\n",
    "\n",
    "<div class=\"imagen\">\n",
    "<img src=\"https://drive.google.com/uc?id=1XpA1YM20cwsY1vczUvCzZR4SdZrHY2kA\" alt=\"Mcpits\"  >\n",
    "</div>\n",
    " \n",
    " "
   ]
  },
  {
   "cell_type": "markdown",
   "metadata": {},
   "source": [
    "#### Agentes que aprenden\n",
    "\n",
    "\n",
    "<div class=\"imagen\">\n",
    "<img src=\"https://drive.google.com/uc?id=1c30XK2P9UDrpDwQgeQy-H5QhHBT9mboe\" alt=\"Mcpits\"  >\n",
    "</div>\n",
    "  "
   ]
  }
 ],
 "metadata": {
  "language_info": {
   "name": "python"
  },
  "orig_nbformat": 4
 },
 "nbformat": 4,
 "nbformat_minor": 2
}
