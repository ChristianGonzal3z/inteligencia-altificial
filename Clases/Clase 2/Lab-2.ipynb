{
 "cells": [
  {
   "cell_type": "markdown",
   "metadata": {
    "slideshow": {
     "slide_type": "slide"
    }
   },
   "source": [
    "# Formularios Colab y Jupyter\n",
    "\n",
    "---\n",
    "\n",
    "<style>\n",
    "      h1, h2, h3, h4, h5, h6,.imagen {\n",
    "        text-align: center;\n",
    "      }\n",
    " img{width: 50%; height: 50%;}\n",
    " body {\n",
    "  transform: scale(1.3);\n",
    "}\n",
    "</style>"
   ]
  },
  {
   "cell_type": "code",
   "execution_count": null,
   "metadata": {
    "slideshow": {
     "slide_type": "skip"
    }
   },
   "outputs": [],
   "source": [
    "import ipywidgets as widgets\n",
    "from IPython  import display\n",
    "import os\n",
    "#from PIL import Image\n",
    "#from google.colab import files\n",
    " "
   ]
  },
  {
   "cell_type": "markdown",
   "metadata": {
    "slideshow": {
     "slide_type": "skip"
    }
   },
   "source": [
    "## Indice\n",
    "- [Formularios Colab y Jupyter](#Formularios-Colab-y-Jupyter)\n",
    "  - [Indice](#Indice)\n",
    "   -  [colab](#colab)\n",
    "    - [campos](#campos)\n",
    "    - [IPython Widgets](#IPython-Widgets)\n",
    "    - [Manejo de archivos con python](#Manejo-de-archivos-con-python)\n",
    "    - [Stable Diffusion](#Stable-Diffusion)\n",
    "---\n"
   ]
  },
  {
   "cell_type": "markdown",
   "metadata": {
    "slideshow": {
     "slide_type": "slide"
    }
   },
   "source": [
    "## Colab \n",
    "\n",
    "\"Para crear un formulario en Colab, se puede utilizar la siguiente sintaxis para cada campo:\n",
    "\n",
    "```python\n",
    "Nombrevariable=valorinicial #@param {tipo y opciones} \n",
    "```\n",
    "\n",
    "\n"
   ]
  },
  {
   "cell_type": "markdown",
   "metadata": {
    "slideshow": {
     "slide_type": "fragment"
    }
   },
   "source": [
    "También se pueden utilizar las opciones de la celda. En la esquina superior derecha de cada celda, se selecciona el menú de 3 puntos, luego la opción \"Formulario\" y \"Agregar formulario\". Esto agregará automáticamente los campos que desees con la configuración proporcionada."
   ]
  },
  {
   "cell_type": "markdown",
   "metadata": {
    "slideshow": {
     "slide_type": "subslide"
    }
   },
   "source": [
    "## campos\n",
    "\n",
    "```python\n",
    "\n",
    "campostring = \"Esto es un  campo string\"# @param {type:\"string\"}\n",
    "\n",
    "campoint = 5# @param {type:\"integer\"}\n",
    "\n",
    "campofloat = 3e-5# @param {type:\"number\"}\n",
    "\n",
    "campobool = True# @param {type:\"boolean\"}\n",
    "\n",
    "camposelect = \"dos\"# @param [\"uno\", \"dos\", \"tres\"]\n",
    "\n",
    "slider = 26 #@param {type:\"slider\", min:0, max:100, step:1}\n",
    "\n",
    "campodate = \"2024-01-01\"# @param {type:\"date\"}\n",
    "\n",
    "camporaw = None #@param {type:\"raw\"}\n",
    "```"
   ]
  },
  {
   "cell_type": "markdown",
   "metadata": {
    "slideshow": {
     "slide_type": "subslide"
    }
   },
   "source": [
    "## Ejemplo 1\n",
    "\n",
    "```python\n",
    "num1 = 0 #@param {type:\"integer\"}\n",
    "num2 = 0 #@param {type:\"integer\"}\n",
    "Resultado = num1 + num2\n",
    "print(Resultado)\n",
    "```\n",
    "\n",
    "\n",
    "     "
   ]
  },
  {
   "cell_type": "markdown",
   "metadata": {
    "slideshow": {
     "slide_type": "subslide"
    }
   },
   "source": [
    "## Ejemplo 2\n",
    "\n",
    "```python\n",
    "num1 = 0 #@param {type:\"integer\"}\n",
    "num2 = 0.01 #@param {type:\"slider\", min:0, max:1, step:0.01}\n",
    "Resultado = num1 * num2\n",
    "print(Resultado)\n",
    "```\n",
    "\n"
   ]
  },
  {
   "cell_type": "markdown",
   "metadata": {
    "slideshow": {
     "slide_type": "subslide"
    }
   },
   "source": [
    "## Ejemplo 3\n",
    "\n",
    "```python\n",
    "sujeto = \"Juan\" #@param {type:\"string\"}\n",
    "verbo = \"corre\" #@param [\"corre\", \"camina\", \"salta\", \"vuela\", \"nada\"]\n",
    "atributo = \"rápido\" #@param [\"rápido\", \"lento\", \"mucho\", \"poco\"]\n",
    "print(sujeto, verbo, atributo)\n",
    "```"
   ]
  },
  {
   "cell_type": "markdown",
   "metadata": {
    "slideshow": {
     "slide_type": "slide"
    }
   },
   "source": [
    "## IPython Widgets\n",
    "\n",
    "Los widgets son objetos de Python que se utilizan para construir aplicaciones interactivas. Estos se emplean para crear interfaces gráficas de usuario (GUI) en los cuadernos de Jupyter. Los widgets pueden utilizarse para mostrar y manipular elementos como botones, casillas de selección, menús desplegables, barras de progreso, entre otros."
   ]
  },
  {
   "cell_type": "code",
   "execution_count": null,
   "metadata": {
    "slideshow": {
     "slide_type": "subslide"
    }
   },
   "outputs": [],
   "source": [
    "# Ejemplo, mostrar imagen\n",
    " \n",
    "display.Image(url=\"https://www.python.org/static/community_logos/python-logo.png\")\n"
   ]
  },
  {
   "cell_type": "code",
   "execution_count": null,
   "metadata": {
    "slideshow": {
     "slide_type": "subslide"
    }
   },
   "outputs": [],
   "source": [
    "#youtube\n",
    "display.YouTubeVideo('gTNrBp_Ckio')"
   ]
  },
  {
   "cell_type": "code",
   "execution_count": null,
   "metadata": {
    "slideshow": {
     "slide_type": "subslide"
    }
   },
   "outputs": [],
   "source": [
    "#Audio\n",
    "display.Audio(url=\"https://www.soundhelix.com/examples/mp3/SoundHelix-Song-1.mp3\", autoplay=False)\n",
    "\n"
   ]
  },
  {
   "cell_type": "code",
   "execution_count": null,
   "metadata": {
    "slideshow": {
     "slide_type": "subslide"
    }
   },
   "outputs": [],
   "source": [
    "#Codigo\n",
    "display.Code(data=\"print('Hello World')\", language=\"python\")"
   ]
  },
  {
   "cell_type": "markdown",
   "metadata": {
    "slideshow": {
     "slide_type": "subslide"
    }
   },
   "source": [
    "## Slider Int\n",
    "\n",
    "```python\n",
    "w = widgets.IntSlider()\n",
    "display.display(w)\n",
    "```\n",
    "leer el valor del slider\n",
    "\n",
    "```python\n",
    "w.value\n",
    "```\n"
   ]
  },
  {
   "cell_type": "code",
   "execution_count": null,
   "metadata": {
    "slideshow": {
     "slide_type": "fragment"
    }
   },
   "outputs": [],
   "source": [
    "# Slider int\n",
    "w = widgets.IntSlider()\n",
    "display.display(w)"
   ]
  },
  {
   "cell_type": "code",
   "execution_count": null,
   "metadata": {
    "slideshow": {
     "slide_type": "fragment"
    }
   },
   "outputs": [],
   "source": [
    "w.value"
   ]
  },
  {
   "cell_type": "markdown",
   "metadata": {
    "slideshow": {
     "slide_type": "subslide"
    }
   },
   "source": [
    "## Slider Float\n",
    "\n",
    "```python\n",
    "w = widgets.FloatSlider(\n",
    "      value=7.5,\n",
    "    min=5.0,\n",
    "    max=10.0,\n",
    "    step=0.1\n",
    ")\n",
    "display.display(w)\n",
    "```\n",
    " \n"
   ]
  },
  {
   "cell_type": "code",
   "execution_count": null,
   "metadata": {
    "slideshow": {
     "slide_type": "fragment"
    }
   },
   "outputs": [],
   "source": [
    "## Slider float\n",
    "w = widgets.FloatSlider()\n",
    "display.display(w)"
   ]
  },
  {
   "cell_type": "markdown",
   "metadata": {
    "slideshow": {
     "slide_type": "subslide"
    }
   },
   "source": [
    "## Texto\n",
    "    \n",
    "```python\n",
    "w = widgets.Text( placeholder='placeholder',disabled=False)\n",
    "display.display(w)\n",
    "```"
   ]
  },
  {
   "cell_type": "code",
   "execution_count": null,
   "metadata": {
    "slideshow": {
     "slide_type": "fragment"
    }
   },
   "outputs": [],
   "source": [
    "# texto\n",
    "w = widgets.Text(   \n",
    "    placeholder='Type something',\n",
    "    description='String:',\n",
    "    disabled=False\n",
    ")\n",
    "display.display(w)"
   ]
  },
  {
   "cell_type": "markdown",
   "metadata": {
    "slideshow": {
     "slide_type": "subslide"
    }
   },
   "source": [
    "## HTML\n",
    "\n",
    "```python\n",
    "w = widgets.HTML(value=\"Hello <b>World</b>\")\n",
    "display.display(w)\n",
    "```"
   ]
  },
  {
   "cell_type": "code",
   "execution_count": null,
   "metadata": {
    "slideshow": {
     "slide_type": "subslide"
    }
   },
   "outputs": [],
   "source": [
    "html_code = \"\"\"\n",
    "<!DOCTYPE html>\n",
    "<html>\n",
    "<head>\n",
    "    <title>Mi Página</title>\n",
    "    <style>\n",
    "        .htmlcode{background-color: powderblue;}\n",
    "        .htmlcode>h1   {color: blue;}\n",
    "        .htmlcode>p {color: red;}\n",
    "    </style>\n",
    "</head>\n",
    "<body>\n",
    "<div class=\"htmlcode\"> \n",
    "<h1>Esto es un encabezado</h1>\n",
    "<p>Esto es un párrafo.</p>\n",
    "</div>\n",
    "</body>\n",
    "</html>\n",
    "\"\"\""
   ]
  },
  {
   "cell_type": "code",
   "execution_count": null,
   "metadata": {
    "slideshow": {
     "slide_type": "subslide"
    }
   },
   "outputs": [],
   "source": [
    "# HTML\n",
    "w = widgets.HTML(value=html_code)\n",
    "display.display(w)"
   ]
  },
  {
   "cell_type": "markdown",
   "metadata": {
    "slideshow": {
     "slide_type": "slide"
    }
   },
   "source": [
    "## Manejo de archivos con python\n",
    " "
   ]
  },
  {
   "cell_type": "markdown",
   "metadata": {
    "slideshow": {
     "slide_type": "subslide"
    }
   },
   "source": [
    "### Carpetas\n",
    "\n",
    "```python\n",
    "import os\n",
    "\n",
    "# Crear carpeta\n",
    "\n",
    "os.mkdir(\"nombre_carpeta\")\n",
    "\n",
    "# Crear carpeta y subcarpetas\n",
    "\n",
    "os.makedirs(\"nombre_carpeta/subcarpeta1/subcarpeta2\")\n",
    "\n",
    "# Eliminar carpeta\n",
    "\n",
    "os.rmdir(\"nombre_carpeta\")\n",
    "\n",
    "# Eliminar carpeta y subcarpetas\n",
    "\n",
    "os.removedirs(\"nombre_carpeta/subcarpeta1/subcarpeta2\")\n",
    "```"
   ]
  },
  {
   "cell_type": "markdown",
   "metadata": {
    "slideshow": {
     "slide_type": "subslide"
    }
   },
   "source": [
    "### Ruta de terminal\n",
    "\n",
    "```python\n",
    "\n",
    "import os\n",
    "\n",
    "# Obtener ruta actual\n",
    "\n",
    "os.getcwd()\n",
    "\n",
    "# Cambiar de ruta\n",
    "\n",
    "os.chdir(\"ruta/nueva_carpeta\")\n",
    "\n",
    "# Listar archivos y carpetas\n",
    "\n",
    "os.listdir()\n",
    "\n",
    "\n",
    "```"
   ]
  },
  {
   "cell_type": "markdown",
   "metadata": {
    "slideshow": {
     "slide_type": "subslide"
    }
   },
   "source": [
    "### manejo de archivos \n",
    "\n",
    "```python\n",
    "\n",
    "import os\n",
    "\n",
    "# Obtener ruta actual\n",
    "\n",
    "os.getcwd()\n",
    "\n",
    "# Cambiar de ruta\n",
    "\n",
    "os.chdir(\"ruta/nueva_carpeta\")\n",
    "\n",
    "\n",
    "```\n",
    " "
   ]
  },
  {
   "cell_type": "markdown",
   "metadata": {
    "slideshow": {
     "slide_type": "subslide"
    }
   },
   "source": [
    "```python\n",
    "# Listar archivos y carpetas\n",
    "\n",
    "os.listdir()\n",
    "\n",
    "# Renombrar archivo\n",
    "\n",
    "os.rename(\"nombre_archivo_actual.txt\", \"nuevo_nombre_archivo.txt\")\n",
    "\n",
    "# Mover archivo\n",
    "\n",
    "import shutil\n",
    "\n",
    "shutil.move(\"nombre_archivo.txt\", \"ruta/nueva_carpeta/nombre_archivo.txt\")\n",
    "# Eliminar archivo\n",
    "\n",
    "os.remove(\"nombre_archivo.txt\")\n",
    "\n",
    "```"
   ]
  },
  {
   "cell_type": "markdown",
   "metadata": {
    "slideshow": {
     "slide_type": "subslide"
    }
   },
   "source": [
    "### Pillow\n",
    "\n",
    "```python\n",
    "from PIL import Image\n",
    "im = Image.open(\"imagen.png\")\n",
    "im.show()\n",
    "```\n"
   ]
  },
  {
   "cell_type": "markdown",
   "metadata": {
    "slideshow": {
     "slide_type": "skip"
    }
   },
   "source": [
    "## Stable Diffusion\n",
    "\n",
    "Instalar librerías\n",
    "\n",
    "```python\n",
    "%pip install diffusers[\"torch\"]\n",
    "%pip install transformers\n",
    "\n",
    "```\n",
    "Seleccionar modelo e inicializar  \n",
    "\n",
    "```python\n",
    " from diffusers import StableDiffusionPipeline\n",
    "import torch \n",
    "from diffusers import     EulerAncestralDiscreteScheduler\n",
    "repo_id = \"runwayml/stable-diffusion-v1-5\"\n",
    " \n",
    "euler_anc = EulerAncestralDiscreteScheduler.from_pretrained(repo_id, subfolder=\"scheduler\")\n",
    "\n",
    "model_id = \"darkstorm2150/Protogen_Infinity_Official_Release\" #@param [\"runwayml/stable-diffusion-v1-5\",\"darkstorm2150/Protogen_Infinity_Official_Release\",\"gsdf/Counterfeit-V2.5\",\"SG161222/Realistic_Vision_V2.0\"]\n",
    " \n",
    "pipe = StableDiffusionPipeline.from_pretrained(model_id, torch_dtype=torch.float16,  scheduler=euler_anc)\n",
    "pipe = pipe.to(\"cuda\")\n",
    "```\n",
    "\n",
    "Permitir contenido NSFW\n",
    "\n",
    "```python\n",
    "NSFW = False #@param {type:\"boolean\"}\n",
    "if  NSFW:\n",
    "  pipe.safety_checker = None\n",
    "  pipe.requires_safety_checker = False\n",
    "```\n",
    "\n",
    "Generar Imagen\n",
    "\n",
    "```python\n",
    "prompt = \" \" #@param {type:\"string\"}\n",
    "negativeprompt=\"  \" #@param {type:\"string\"}\n",
    "height = 512 #@param {type:\"integer\"}\n",
    "width = 512 #@param {type:\"integer\"}\n",
    "steps = 70 #@param {type:\"slider\", min:5, max:200, step:1}\n",
    "scale = 11 #@param {type:\"slider\", min:1, max:15, step:0.1}\n",
    "Cantidad = 1 #@param {type:\"slider\", min:1, max:4, step:1}\n",
    "\n",
    "image = pipe(prompt=prompt,negative_prompt=negativeprompt,height=height,width=width,\n",
    "             num_inference_steps=steps,guidance_scale=scale,num_images_per_prompt=Cantidad).images[0]  \n",
    "\n",
    "image.save(prompt+\".png\")\n",
    "image\n",
    "```"
   ]
  }
 ],
 "metadata": {
  "kernelspec": {
   "display_name": ".venv",
   "language": "python",
   "name": "python3"
  },
  "language_info": {
   "codemirror_mode": {
    "name": "ipython",
    "version": 3
   },
   "file_extension": ".py",
   "mimetype": "text/x-python",
   "name": "python",
   "nbconvert_exporter": "python",
   "pygments_lexer": "ipython3",
   "version": "3.10.12"
  },
  "orig_nbformat": 4
 },
 "nbformat": 4,
 "nbformat_minor": 2
}
