{
    "cells": [
     {
      "cell_type": "markdown",
      "metadata": {
       "slideshow": {
        "slide_type": "slide"
       }
      },
      "source": [
       "# Resolver problemas mediante búsqueda\n",
       "\n",
       "---\n",
       "\n",
       "<style>\n",
       "      h1, h2, h3, h4, h5, h6,.imagen {\n",
       "        text-align: center;\n",
       "      }\n",
       " img{width: 50%; height: 50%;}\n",
       "</style>"
      ]
     },
     {
      "cell_type": "markdown",
      "metadata": {
       "slideshow": {
        "slide_type": "skip"
       }
      },
      "source": [
       "# Indice\n",
       "\n",
       " - [Resolver problemas mediante búsqueda](#resolver-problemas-mediante-búsqueda)\n",
       "  - [Agente solucionador de problemas](#agente-solucionador-de-problemas)\n",
       "    - [Problema y Solución](#problema-y-solución)\n",
       "    - [Búsqueda](#búsqueda)\n",
       "  - [Problemas y soluciones bien definidos](#problemas-y-soluciones-bien-definidos)\n",
       "    - [Solución](#solución)\n",
       "    - [Abstracción](#abstracción)\n",
       "  - [Problemas​](#problemas)\n",
       "    - [Problemas de juguetes](#problemas-de-juguetes)\n",
       "  - [Problemas del  mundo real](#problemas-del--mundo-real)\n",
       "  - [Búsqueda de soluciones](#búsqueda-de-soluciones)\n",
       "    - [Arbol De Búsqueda​](#arbol-de-búsqueda)\n",
       "    - [Nodo De Búsqueda​](#nodo-de-búsqueda)\n",
       "    - [Expansión De Nodos​](#expansión-de-nodos)\n",
       "    - [Generación De Nodos​](#generación-de-nodos)\n",
       "    - [Estrategia De Búsqueda​](#estrategia-de-búsqueda)\n",
       "  - [Medir el rendimiento de la resolución del problema](#medir-el-rendimiento-de-la-resolución-del-problema)\n",
       "    - [Completitud](#completitud)\n",
       "    - [Optimización​](#optimización)\n",
       "    - [Complejidad De Tiempo​](#complejidad-de-tiempo)\n",
       "    - [Complejidad De Espacio](#complejidad-de-espacio)\n",
       "    - [Factor De Ramificación​](#factor-de-ramificación)\n",
       "    - [Costo de la Búsqueda​](#costo-de-la-búsqueda)\n",
       "    - [Costo Total De La Solución​](#costo-total-de-la-solución)\n",
       "  - [Busquedad no informada](#busquedad-no-informada)\n",
       "    - [Búsqueda En Anchura](#búsqueda-en-anchura)\n",
       "      - [Algoritmo de busqueda en anchura](#algoritmo-de-busqueda-en-anchura)\n",
       "      - [Codigo en python de busqueda en anchura](#codigo-en-python-de-busqueda-en-anchura)\n",
       "    - [Búsqueda de costo uniforme](#búsqueda-de-costo-uniforme)\n",
       "    - [Búsqueda en profundidad](#búsqueda-en-profundidad)\n",
       "      - [Algoritmo de búsqueda en profundidad](#algoritmo-de-búsqueda-en-profundidad)\n",
       "      - [Codigo en python de busqueda en profundidad](#codigo-en-python-de-busqueda-en-profundidad)\n",
       "    - [Búsqueda con información parcial](#búsqueda-con-información-parcial)"
      ]
     },
     {
      "cell_type": "markdown",
      "metadata": {
       "slideshow": {
        "slide_type": "slide"
       }
      },
      "source": [
       "## Agente solucionador de problemas\n",
       "\n",
       "Los agentes resolvente de problemas son aquellos que reciben una descripción de un problema y devuelven una secuencia de acciones que resuelven el problema."
      ]
     },
     {
      "cell_type": "markdown",
      "metadata": {
       "slideshow": {
        "slide_type": "subslide"
       }
      },
      "source": [
       "### Problema y Solución\n",
       " \n",
       "Un problema puede representar 2 o más estados del mundo, y la solución es la secuencia de acciones que llevan desde un estado inicial hasta un estado objetivo."
      ]
     },
     {
      "cell_type": "markdown",
      "metadata": {
       "slideshow": {
        "slide_type": "subslide"
       }
      },
      "source": [
       "### Búsqueda\n",
       "\n",
       "La búsqueda es el proceso de encontrar una secuencia de acciones que lleven desde el estado inicial hasta el estado objetivo."
      ]
     },
     {
      "cell_type": "markdown",
      "metadata": {
       "slideshow": {
        "slide_type": "slide"
       }
      },
      "source": [
       "## Problemas y soluciones bien definidos\n",
       "\n"
      ]
     },
     {
      "cell_type": "markdown",
      "metadata": {
       "slideshow": {
        "slide_type": "fragment"
       }
      },
      "source": [
       "Un problema bien definido es aquel que cumple con las siguientes características:\n",
       "\n",
       "- Estado inicial\n",
       "- Función sucesor\n",
       "- Espacio de estados\n",
       "- prueba objetivo\n",
       "- Camino\n",
       "- Costo de camino\n",
       "- Costo individual de cada acción"
      ]
     },
     {
      "cell_type": "markdown",
      "metadata": {
       "slideshow": {
        "slide_type": "subslide"
       }
      },
      "source": [
       "### Solución\n",
       "\n",
       "- Solución: es la secuencia de acciones que llevan desde el estado inicial hasta el estado objetivo.\n",
       "\n",
       "- Solución óptima: es aquella que tiene el menor costo de camino."
      ]
     },
     {
      "cell_type": "markdown",
      "metadata": {
       "slideshow": {
        "slide_type": "subslide"
       }
      },
      "source": [
       "### Abstracción\n",
       "\n",
       "La abstracción es el proceso de eliminar detalles innecesarios para resolver un problema."
      ]
     },
     {
      "cell_type": "markdown",
      "metadata": {
       "slideshow": {
        "slide_type": "fragment"
       }
      },
      "source": [
       "```python\n",
       "def AGENTE_SENCILLO_RESOLVENTE_PROBLEMAS(percepcion):\n",
       "    sec = [] # una secuencia de acciones, vacía inicialmente\n",
       "    estado = None # una descripción del estado actual del mundo\n",
       "    objetivo = None # un objetivo, inicialmente nulo\n",
       "    problema = None # una formulación del problema\n",
       "    estado = ACTUALIZAR_ESTADO(estado, percepcion)\n",
       "    if not sec:\n",
       "        objetivo = FORMULAR_OBJETIVO(estado)\n",
       "        problema = FORMULAR_PROBLEMA(estado, objetivo)\n",
       "        sec = BUSQUEDA(problema)\n",
       "    accion = sec[0]\n",
       "    sec = sec[1:]\n",
       "    return accion\n",
       "```"
      ]
     },
     {
      "cell_type": "markdown",
      "metadata": {
       "slideshow": {
        "slide_type": "slide"
       }
      },
      "source": [
       "## Problemas​\n",
       "\n",
       "Existen 2 tipos de problemas de juguetes y problemas del mundo real."
      ]
     },
     {
      "cell_type": "markdown",
      "metadata": {
       "slideshow": {
        "slide_type": "subslide"
       }
      },
      "source": [
       "### Problemas de juguetes\n",
       "  \n",
       "<div class=\"imagen\">\n",
       "<img src=\"https://drive.google.com/uc?id=1hBpP5UPjF7NlvaYdVx68Q2yDiiJo1uqA\" alt=\"Mcpits\"  >\n",
       "</div>\n",
       "\n",
       "- Piezas Deslizantes (N PUZLES)​\n",
       "\n",
       "- Problemas De Ajedrez (8-REINAS,HT…)"
      ]
     },
     {
      "cell_type": "markdown",
      "metadata": {
       "slideshow": {
        "slide_type": "subslide"
       }
      },
      "source": [
       "## Problemas del  mundo real\n",
       "\n",
       "- Problema De Búsqueda De Ruta​\n",
       "\n",
       "- Problemas Turísticos​\n",
       "\n",
       "- TSP​\n",
       "\n",
       "- Navegación De Un Robot​\n",
       "\n",
       "- Búsqueda En Internet\n",
       "\n",
       "- Distribución VLSI"
      ]
     },
     {
      "cell_type": "markdown",
      "metadata": {
       "slideshow": {
        "slide_type": "slide"
       }
      },
      "source": [
       "## Búsqueda de soluciones"
      ]
     },
     {
      "cell_type": "markdown",
      "metadata": {
       "slideshow": {
        "slide_type": "subslide"
       }
      },
      "source": [
       "### Arbol De Búsqueda​\n",
       "\n",
       "```mermaid\n",
       "graph TD;\n",
       "  A((Inicio))-->B[Estado 1];\n",
       "  A-->C[Estado 2];\n",
       "  A-->D[Estado 3];\n",
       "  C-->E[Estado 4];\n",
       "  C-->F[Estado 5];\n",
       "  D-->G[Estado 6];\n",
       "  D-->H[Estado 7];\n",
       "  E-->I[Estado 8];\n",
       "  E-->J[Estado 9];\n",
       "  F-->K[Estado 10];\n",
       "  F-->L[Estado 11];\n",
       "  G-->M[Estado 12];\n",
       "  G-->N[Estado 13];\n",
       "  H-->O[Estado 14];\n",
       "  H-->P[Estado 15];\n",
       "  ```"
      ]
     },
     {
      "cell_type": "markdown",
      "metadata": {
       "slideshow": {
        "slide_type": "subslide"
       }
      },
      "source": [
       "### Nodo De Búsqueda​\n",
       " \n",
       "<div class=\"imagen\">\n",
       "<img src=\"https://drive.google.com/uc?id=12yz_3Q7XSACkGoOGCKbYqQ1XvoZurL2Z\" alt=\"Mcpits\"  >\n",
       "</div>\n",
       "\n"
      ]
     },
     {
      "cell_type": "markdown",
      "metadata": {
       "slideshow": {
        "slide_type": "fragment"
       }
      },
      "source": [
       "``` python\n",
       "class Nodo:\n",
       "    def __init__(self, estado, padre=None, accion=None, costo_camino=0):\n",
       "        self.estado = estado\n",
       "        self.padre = padre\n",
       "        self.accion = accion\n",
       "        self.costo_camino = costo_camino\n",
       "        self.profundidad = 0\n",
       "        if padre:\n",
       "            self.profundidad = padre.profundidad + 1\n",
       " ```"
      ]
     },
     {
      "cell_type": "markdown",
      "metadata": {
       "slideshow": {
        "slide_type": "subslide"
       }
      },
      "source": [
       "### Expansión y Generación De Nodos​"
      ]
     },
     {
      "cell_type": "markdown",
      "metadata": {
       "slideshow": {
        "slide_type": "fragment"
       }
      },
      "source": [
       "```mermaid\n",
       "graph TD;\n",
       "  A((Inicio))-->B[Estado 1];\n",
       "  A-->C[Estado 2];\n",
       "  A-->D[Estado 3];    \n",
       "  B-->E[Estado 4];\n",
       "  B-->F[Estado 5];\n",
       "  E-->G[Estado 6];\n",
       "  E-->H[Estado 6];\n",
       "  style B fill:#f9f,stroke:#333,stroke-width:4px\n",
       "  style A fill:#f9f,stroke:#333,stroke-width:4px\n",
       "  style E fill:#f9f,stroke:#333,stroke-width:4px\n",
       "  \n",
       "  ```"
      ]
     },
     {
      "cell_type": "markdown",
      "metadata": {
       "slideshow": {
        "slide_type": "subslide"
       }
      },
      "source": [
       "```python\n",
       "def BÚSQUEDA_ÁRBOLES(problema, frontera):\n",
       "    frontera.append(HACER_NODO(problema.ESTADO_INICIAL))\n",
       "    \n",
       "    while frontera:\n",
       "        nodo = BORRAR_PRIMERO(frontera)\n",
       "        \n",
       "        if problema.TEST_OBJETIVO(nodo.estado):\n",
       "            return SOLUCIÓN(nodo)\n",
       "        \n",
       "        sucesores = EXPANDIR(nodo, problema)\n",
       "        INSERTAR_TODO(sucesores, frontera)\n",
       "    \n",
       "    return \"Fallo\"\n",
       "\n",
       "def EXPANDIR(nodo, problema):\n",
       "    sucesores = set()\n",
       "    \n",
       "    for accion, resultado in problema.SUCESOR_FN(nodo.estado):\n",
       "        s = HACER_NODO(resultado, nodo, accion, nodo.costo_camino + problema.COSTO_INDIVIDUAL(nodo, accion, resultado))\n",
       "        sucesores.add(s)\n",
       "    \n",
       "    return sucesores\n",
       "  ```"
      ]
     },
     {
      "cell_type": "markdown",
      "metadata": {
       "slideshow": {
        "slide_type": "subslide"
       }
      },
      "source": [
       "### Estrategia De Búsqueda​\n",
       "\n",
       "```python\n",
       "def BÚSQUEDA_ÁRBOLES(problema, estrategia):\n",
       "    # Inicializar el árbol de búsqueda usando el estado inicial del problema\n",
       "    arbol = Nodo(problema.estado_inicial)\n",
       "    \n",
       "    # Bucle principal\n",
       "    while True:\n",
       "        # Si no hay candidatos para expandir, devolver fallo\n",
       "        if arbol is None:\n",
       "            return \"Fallo\"\n",
       "        \n",
       "        # Escoger, de acuerdo a la estrategia, un nodo hoja para expandir\n",
       "        nodo = estrategia.elige_nodo(arbol)\n",
       "        \n",
       "        # Si el nodo contiene un estado objetivo, devolver la correspondiente solución\n",
       "        if problema.es_objetivo(nodo.estado):\n",
       "            return nodo.solucion()\n",
       "        \n",
       "        # En otro caso, expandir el nodo y añadir los nodos resultado al árbol de búsqueda\n",
       "        arbol = estrategia.expandir_nodo(nodo, problema, arbol)\n",
       "  ```"
      ]
     },
     {
      "cell_type": "markdown",
      "metadata": {
       "slideshow": {
        "slide_type": "slide"
       }
      },
      "source": [
       "## Medir el rendimiento de la resolución del problema"
      ]
     },
     {
      "cell_type": "markdown",
      "metadata": {
       "slideshow": {
        "slide_type": "subslide"
       }
      },
      "source": [
       "### Completitud\n",
       "\n",
       "Un algoritmo de búsqueda es completo si siempre encuentra una solución si existe."
      ]
     },
     {
      "cell_type": "markdown",
      "metadata": {
       "slideshow": {
        "slide_type": "subslide"
       }
      },
      "source": [
       "### Completitud\n",
       "\n",
       "Un algoritmo de búsqueda es completo si siempre encuentra una solución si existe."
      ]
     },
     {
      "cell_type": "markdown",
      "metadata": {
       "slideshow": {
        "slide_type": "subslide"
       }
      },
      "source": [
       "### Optimización​\n",
       " \n",
       "Un algoritmo de búsqueda es óptimo si encuentra una solución óptima si existe."
      ]
     },
     {
      "cell_type": "markdown",
      "metadata": {
       "slideshow": {
        "slide_type": "subslide"
       }
      },
      "source": [
       "### Complejidad De Tiempo​\n",
       "\n",
       "La complejidad de tiempo de un algoritmo de búsqueda es el número de nodos que se expanden."
      ]
     },
     {
      "cell_type": "markdown",
      "metadata": {
       "slideshow": {
        "slide_type": "subslide"
       }
      },
      "source": [
       "### Complejidad De Espacio\n",
       "\n",
       "La complejidad de espacio de un algoritmo de búsqueda es el máximo número de nodos en memoria en cualquier momento."
      ]
     },
     {
      "cell_type": "markdown",
      "metadata": {
       "slideshow": {
        "slide_type": "subslide"
       }
      },
      "source": [
       "### Factor De Ramificación​\n",
       "\n",
       "El factor de ramificación de un árbol de búsqueda es el número promedio de sucesores de cualquier nodo."
      ]
     },
     {
      "cell_type": "markdown",
      "metadata": {
       "slideshow": {
        "slide_type": "subslide"
       }
      },
      "source": [
       "### Costo de la Búsqueda​\n",
       "\n",
       "El costo de la búsqueda es el número de nodos generados durante la búsqueda."
      ]
     },
     {
      "cell_type": "markdown",
      "metadata": {
       "slideshow": {
        "slide_type": "subslide"
       }
      },
      "source": [
       "### Costo Total De La Solución​\n",
       "\n",
       "El costo total de la solución es el número de nodos generados hasta que se encuentra la solución."
      ]
     },
     {
      "cell_type": "markdown",
      "metadata": {
       "slideshow": {
        "slide_type": "slide"
       }
      },
      "source": [
       "## Busquedad no informada\n",
       "\n",
       "La búsqueda no informada que no utiliza información específica del problema más allá de la definición del propio problema."
      ]
     },
     {
      "cell_type": "markdown",
      "metadata": {
       "slideshow": {
        "slide_type": "subslide"
       }
      },
      "source": [
       "### Búsqueda En Anchura\n",
       "\n",
       "```mermaid\n",
       "graph TD;\n",
       "  A((Inicio))-->B[Estado 1];\n",
       "  A-->C[Estado 2];\n",
       "  A-->D[Estado 3];    \n",
       "  B-->E[Estado 4];\n",
       "  B-->F[Estado 5];\n",
       "  B-->G[Estado 6];\n",
       "  C-->H[Estado 7];\n",
       "  E-->I[Estado 8];\n",
       "\n",
       "  style A fill:#f9f,stroke:#333,stroke-width:4px\n",
       "  style B fill:#f9f,stroke:#333,stroke-width:4px\n",
       "  style C fill:#f9f,stroke:#333,stroke-width:4px\n",
       "  style D fill:#f9f,stroke:#333,stroke-width:4px\n",
       "  style E fill:#f9f,stroke:#333,stroke-width:4px  \n",
       " \n",
       "  ```"
      ]
     },
     {
      "cell_type": "markdown",
      "metadata": {
       "slideshow": {
        "slide_type": "subslide"
       }
      },
      "source": [
       "#### Algoritmo de busqueda en anchura\n",
       "\n",
       "1. Crear una lista de nodos FIFO y asignarle el nodo raíz, que representa el estado inicial del problema planteado.\n",
       "\n",
       "2. Hasta que lista  esté vacía o se encuentre una meta, realizar  las  siguientes acciones:\n",
       "\n",
       "    2.1 Extraer el primer nodo de lista y llamarlo m.\n",
       "\n",
       "    2.2 Expandir m (generar  todos  sus  sucesores).  Para cada operador aplicable y cada forma de aplicación:\n",
       "\n",
       "   2.2.1 Aplicar el operador a m, obtener un nuevo estado y crear un  puntero que permita saber que su predecesor es m.\n",
       "\n",
       "    2.2.2 Si el nuevo estado generado es meta, salir del proceso iterativo iniciado en 2.2 y devolver dicho estado.\n",
       "\n",
       "    2.2.3  Incluir  el  nuevo estado al  final  de la lista .  "
      ]
     },
     {
      "cell_type": "markdown",
      "metadata": {
       "slideshow": {
        "slide_type": "subslide"
       }
      },
      "source": [
       "#### Codigo en python de busqueda en anchura\n",
       "\n",
       "```python\n",
       "    from collections import deque\n",
       "\n",
       "def busqueda_en_anchura(problema):\n",
       "    # Inicializar la frontera con el estado inicial\n",
       "    frontera = deque([problema.estado_inicial])\n",
       "    # Inicializar el conjunto de explorados\n",
       "    explorados = set()\n",
       "    \n",
       "    # Bucle principal\n",
       "    while frontera:\n",
       "        # Sacar el primer estado de la frontera\n",
       "        estado = frontera.popleft()\n",
       "        \n",
       "        # Si el estado es objetivo, devolver la solución\n",
       "        if problema.es_objetivo(estado):\n",
       "            return problema.solucion(estado)\n",
       "        \n",
       "        # Si el estado no ha sido explorado, añadirlo al conjunto de explorados\n",
       "        if estado not in explorados:\n",
       "            explorados.add(estado)\n",
       "            # Expandir el estado y añadir los sucesores a la frontera\n",
       "            for sucesor in problema.sucesores(estado):\n",
       "                frontera.append(sucesor)\n",
       "    \n",
       "    # Si no se encontró solución, devolver fallo\n",
       "    return \"Fallo\"\n",
       "```"
      ]
     },
     {
      "cell_type": "markdown",
      "metadata": {
       "slideshow": {
        "slide_type": "subslide"
       }
      },
      "source": [
       "### Búsqueda de costo uniforme\n",
       "\n",
       "La búsqueda de costo uniforme es una búsqueda en anchura que expande el nodo con el menor costo de ruta."
      ]
     },
     {
      "cell_type": "markdown",
      "metadata": {
       "slideshow": {
        "slide_type": "slide"
       }
      },
      "source": [
       "### Búsqueda en profundidad\n",
       "\n"
      ]
     },
     {
      "cell_type": "markdown",
      "metadata": {
       "slideshow": {
        "slide_type": "subslide"
       }
      },
      "source": [
       "```mermaid\n",
       "graph TD;\n",
       "  A((Inicio))-->B[Estado 1];\n",
       "  A-->C[Estado 2];\n",
       "  A-->D[Estado 3];    \n",
       "  B-->E[Estado 4];\n",
       "  B-->F[Estado 5];\n",
       "  B-->G[Estado 6];\n",
       "  E-->H[Estado 7];\n",
       "  H-->I[Estado 8];\n",
       "  I-->J[Estado 9];\n",
       "  I-->K[Estado 10];\n",
       "\n",
       "  style A fill:#f9f,stroke:#333,stroke-width:4px\n",
       "  style B fill:#f9f,stroke:#333,stroke-width:4px\n",
       "  style E fill:#f9f,stroke:#333,stroke-width:4px\n",
       "  style H fill:#f9f,stroke:#333,stroke-width:4px\n",
       "  style I fill:#f9f,stroke:#333,stroke-width:4px\n",
       "  style J fill:#f9f,stroke:#333,stroke-width:4px\n",
       "   \n",
       "  ```"
      ]
     },
     {
      "cell_type": "markdown",
      "metadata": {
       "slideshow": {
        "slide_type": "subslide"
       }
      },
      "source": [
       "#### Algoritmo de búsqueda en profundidad\n",
       "\n",
       "1. Crear una lista de nodos LIFO y asignarle el nodo raíz, que  representa el estado inicial del problema planteado.\n",
       "\n",
       "2. Hasta que se encuentre una meta o se devuelva fallo, realizar las siguientes acciones:\n",
       "\n",
       "   2.1 Si la lista está vacía, terminar  con fallo;  en caso contrario, continuar.\n",
       "   2.2  Extraer el primer nodo de la lista y denominarlo m.\n",
       "   2.3 Si la profundidad de m es igual a lp (límite de profundidad), regresar a 2.2; en caso contrario, continuar.\n",
       "   2.4 Expandir m creando punteros hacia este nodo desde todos  sus sucesores, de forma que pueda saberse cuál es su predecesor. Introducir dichos sucesores al principio de lista siguiendo un orden arbitrario.  \n",
       "   2.4.1 Si algún sucesor de mes meta, abandonar el proceso iterativo  señalado en 2, devolviendo el camino de la solución, que se obtiene recorriendo los punteros de sus antepasados.\n",
       "   2.4.2 Si algún sucesor de m se encuentra en un \"callejón sin salida\",  eliminarlo de la lista."
      ]
     },
     {
      "cell_type": "markdown",
      "metadata": {
       "slideshow": {
        "slide_type": "subslide"
       }
      },
      "source": [
       "#### Codigo en python de busqueda en profundidad\n",
       "\n",
       "```python\n",
       "def busqueda_profundidad(problema):\n",
       "    # Inicializar la pila con el estado inicial\n",
       "    pila = [(problema.estado_inicial, [])]\n",
       "    # Inicializar el conjunto de estados explorados\n",
       "    explorados = set()\n",
       "    \n",
       "    # Mientras la pila no esté vacía\n",
       "    while pila:\n",
       "        # Sacar el estado y el camino de la pila\n",
       "        estado, camino = pila.pop()\n",
       "        # Si el estado es objetivo, devolver el camino\n",
       "        if problema.es_objetivo(estado):\n",
       "            return camino\n",
       "        # Si el estado no ha sido explorado\n",
       "        if estado not in explorados:\n",
       "            # Marcar el estado como explorado\n",
       "            explorados.add(estado)\n",
       "            # Expandir el estado y añadir los sucesores a la pila\n",
       "            for sucesor, accion, costo in problema.sucesores(estado):\n",
       "                pila.append((sucesor, camino + [accion]))\n",
       "    \n",
       "    # Si no se encontró solución, devolver None\n",
       "    return None\n",
       "  ```"
      ]
     },
     {
      "cell_type": "markdown",
      "metadata": {
       "slideshow": {
        "slide_type": "subslide"
       }
      },
      "source": [
       "- Búsqueda de profundidad iterativa\n",
       "\n",
       "  La búsqueda de profundidad iterativa es una búsqueda en profundidad que se ejecuta con un límite de profundidad creciente.\n",
       "\n",
       "- Búsqueda de profundidad limitada\n",
       "\n",
       "  La búsqueda de profundidad limitada es una búsqueda en profundidad que se ejecuta con un límite de profundidad fijo.\n",
       "\n",
       "- Búsqueda bidireccional\n",
       "\n",
       "  La búsqueda bidireccional es una búsqueda en la que se ejecutan dos búsquedas en paralelo, una desde el estado inicial y otra desde el estado objetivo.\n",
       "\n",
       "- Evitar estados repetidos: la búsqueda en profundidad no evita estados repetidos, por lo que puede entrar en bucles infinitos. Para evitar esto, se puede utilizar un conjunto de explorados, que almacena los estados que ya han sido explorados y no se deben volver a explorar."
      ]
     },
     {
      "cell_type": "markdown",
      "metadata": {
       "slideshow": {
        "slide_type": "slide"
       }
      },
      "source": [
       "### Búsqueda con información parcial\n",
       "\n",
       "- Problemas sin sensores: si el agente no tiene ningún sensor, entonces (por lo que sabe) podría estar en uno de los posibles estados iniciales, y cada acción por lo tanto podría conducir a uno de los posibles estados sucesores.\n",
       "\n",
       "- Problemas de contingencia: si el entorno es parcialmente observable o si las acciones son inciertas, entonces las percepciones del agente proporcionan nueva información después de cada acción. Cada percepción posible define una contingencia que debe de planearse. A un problema se le llama entre adversarios si la incertidumbre está causada por las acciones de otro agente.\n",
       "\n",
       "- Problemas de exploración: cuando se desconocen los estados y las acciones del entorno, el agente debe actuar para descubrirlos. Los problemas de exploración pueden verse como un caso extremo de problemas de contingencia.\n"
      ]
     }
    ],
    "metadata": {
     "language_info": {
      "name": "python"
     },
     "orig_nbformat": 4
    },
    "nbformat": 4,
    "nbformat_minor": 2
   }