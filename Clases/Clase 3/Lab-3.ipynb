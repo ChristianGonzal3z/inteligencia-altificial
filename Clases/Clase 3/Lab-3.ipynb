{
    "cells": [
     {
      "cell_type": "markdown",
      "metadata": {
       "slideshow": {
        "slide_type": "slide"
       }
      },
      "source": [
       "# Algoritmos y Complejidad \n",
       "\n",
       "---\n",
       "\n",
       "<style>\n",
       "      h1, h2, h3, h4, h5, h6,.imagen {\n",
       "        text-align: center;\n",
       "      }\n",
       " img{width: 50%; height: 50%;}\n",
       " body {\n",
       "  transform: scale(1.3);\n",
       "}\n",
       "</style>"
      ]
     },
     {
      "cell_type": "markdown",
      "metadata": {
       "slideshow": {
        "slide_type": "skip"
       }
      },
      "source": [
       "## Indice \n",
       "\n",
       "- [Introducción](#Introducción)\n",
       "- [Algoritmos](#Algoritmos)\n",
       "  - [Definición de Algoritmo](#Definición-de-Algoritmo)\n",
       "  - [Complejidad Computacional](#Complejidad-Computacional)\n",
       "    - [Notación Big O](#Notación-Big-O)\n",
       "    - [Complejidad Temporal](#Complejidad-Temporal)\n",
       "    - [Complejidad Espacial](#Complejidad-Espacial)\n",
       "  - [Medir la Complejidad de un Algoritmo](#Medir-la-Complejidad-de-un-Algoritmo)\n",
       "- [Tipos de Complejidad](#Tipos-de-Complejidad)\n",
       "  - [Tiempo Constante: O(1)](#Tiempo-Constante:-O(1))\n",
       "  - [Tiempo Lineal: O(n)](#Tiempo-Lineal:-O(n))\n",
       "  - [Tiempo Cuadrático: O(n^2)](#Tiempo-Cuadrático:-O(n^2))\n",
       "  - [Tiempo Exponencial: O(c^n)](#Tiempo-Exponencial:-O(c^n))\n",
       "  - [Tiempo Cúbico: O(n^3)](#Tiempo-Cúbico:-O(n^3))\n",
       "  - [Tiempo Logarítmico: O(log n)](#Tiempo-Logarítmico:-O(log-n))\n",
       "  - [Tiempo Logarítmico Lineal: O(n log n)](#Tiempo-Logarítmico-Lineal:-O(n-log-n))\n",
       "  - [Tiempo Factorial: O(n!)](#Tiempo-Factorial:-O(n!))\n",
       "- [Más Clases](#Más-Clases)\n",
       "  - [Definiendo una Clase](#Definiendo-una-Clase)\n",
       "  - [Creando un Objeto de la Clase](#Creando-un-Objeto-de-la-Clase)\n",
       "  - [Utilizando el Objeto](#Utilizando-el-Objeto)\n",
       "  - [Herencia](#Herencia)\n",
       "  - [Agregando Propiedades de Manera Dinámica](#Agregando-Propiedades-de-Manera-Dinámica)\n",
       "  - [Composición](#Composición)\n",
       "- [Estructuras de Datos](#Estructuras-de-Datos)\n",
       "  - [Nodo](#Nodo)\n",
       "  - [Listas Enlazadas](#Listas-Enlazadas)\n",
       "    - [Uso](#Uso)\n",
       "  - [Colas](#Colas)\n",
       "  - [Pilas](#Pilas)\n",
       "    - [Uso](#Uso)\n",
       "    - [Comportamiento de Pila y Cola con la Lista](#Comportamiento-de-Pila-y-Cola-con-la-Lista)\n",
       "  - [Operaciones](#Operaciones)\n",
       "- [Árboles](#Árboles)\n",
       "  - [Clase Nodo](#Clase-Nodo)\n",
       "  - [Clase Árbol](#Clase-Árbol)"
      ]
     },
     {
      "cell_type": "markdown",
      "metadata": {
       "slideshow": {
        "slide_type": "slide"
       }
      },
      "source": [
       "## Algoritmos\n",
       "\n",
       "Un algoritmo es un conjunto de pasos claramente definidos que se utilizan para resolver un problema. Un algoritmo debe tener un inicio y un final bien definidos. Además, debe producir resultados consistentes siempre que se le presenten las mismas condiciones. La calidad de un algoritmo se mide en términos de eficiencia, es decir, cuánto tiempo o recursos se requieren para resolver el problema. La complejidad del algoritmo se evalúa a través de la complejidad computacional, que analiza cuánto tiempo o espacio adicional se necesita a medida que se incrementa el tamaño del problema."
      ]
     },
     {
      "cell_type": "markdown",
      "metadata": {
       "slideshow": {
        "slide_type": "subslide"
       }
      },
      "source": [
       "## Complejidad Computacional\n",
       "\n",
       "La complejidad de un algoritmo se refiere a cómo los requerimientos de recursos computacionales aumentan a medida que el tamaño de la entrada del problema crece. Esto implica evaluar tanto la complejidad temporal como la complejidad espacial utilizando la notación Big O."
      ]
     },
     {
      "cell_type": "markdown",
      "metadata": {
       "slideshow": {
        "slide_type": "subslide"
       }
      },
      "source": [
       "### Notación Big O\n",
       "\n",
       "La notación Big O nos permite medir la complejidad de un algoritmo al evaluar el peor de los casos, es decir, el tiempo de ejecución más largo que el algoritmo podría tomar para resolver un problema. Esta notación nos ayuda a evaluar tanto la complejidad temporal como la complejidad espacial de un algoritmo."
      ]
     },
     {
      "cell_type": "markdown",
      "metadata": {
       "slideshow": {
        "slide_type": "subslide"
       }
      },
      "source": [
       "### Complejidad Temporal\n",
       "\n",
       "La complejidad temporal nos indica cuántas operaciones o pasos debe realizar el algoritmo en función del tamaño de la entrada. Por ejemplo, un algoritmo con una complejidad temporal lineal (O(n)) implica que el número de operaciones aumenta de manera proporcional al tamaño de la entrada."
      ]
     },
     {
      "cell_type": "markdown",
      "metadata": {
       "slideshow": {
        "slide_type": "subslide"
       }
      },
      "source": [
       "### Complejidad Espacial\n",
       "\n",
       "Por otro lado, la complejidad espacial nos permite entender cuánta memoria adicional necesita el algoritmo a medida que el tamaño de la entrada crece. Si un algoritmo tiene una complejidad espacial lineal (O(n)), significa que la cantidad de memoria requerida aumenta de manera proporcional al tamaño de la entrada."
      ]
     },
     {
      "cell_type": "markdown",
      "metadata": {
       "slideshow": {
        "slide_type": "slide"
       }
      },
      "source": [
       "# Medir la complejidad de un algoritmo\n",
       "\n",
       "Algo que podemos hacer es asignar unidades de tiempo a cada tipo de operacion en el algoritmo."
      ]
     },
     {
      "cell_type": "markdown",
      "metadata": {
       "slideshow": {
        "slide_type": "subslide"
       }
      },
      "source": [
       "Operaciones con una unidad de tiempo:\n",
       "\n",
       "- Asignaciones\n",
       "\n",
       "- Comparaciones\n",
       "\n",
       "- acceso a un elemento de un arreglo\n",
       "\n",
       "- Operaciones aritmeticas\n",
       "\n",
       "- Ciertas Inserciones y eliminaciones en estructuras de datos"
      ]
     },
     {
      "cell_type": "markdown",
      "metadata": {
       "slideshow": {
        "slide_type": "subslide"
       }
      },
      "source": [
       "Para los bucles N tiempo:\n",
       "\n",
       "- Para bucles simples El numero de iteraciones por el numero de operaciones dentro del bucle.\n",
       "\n",
       "- Para bucles anidados El numero de iteraciones por el numero de operaciones dentro del bucle,elevarlo al numero de bucles anidados.\n",
       "  \n"
      ]
     },
     {
      "cell_type": "markdown",
      "metadata": {
       "slideshow": {
        "slide_type": "subslide"
       }
      },
      "source": [
       "Condicionales una unidad de tiempo por evaluacion de la condición:\n",
       "\n",
       "- La condicionales simple de una condición se considera una unidad de tiempo.\n",
       "\n",
       "- si la condición tiene operaciones dentro de ella, se considera una unidad de tiempo por cada operacion, asi como si hace varias comparaciones. en el mismo if."
      ]
     },
     {
      "cell_type": "markdown",
      "metadata": {
       "slideshow": {
        "slide_type": "subslide"
       }
      },
      "source": [
       "## Tipos de complejidad"
      ]
     },
     {
      "cell_type": "markdown",
      "metadata": {
       "slideshow": {
        "slide_type": "subslide"
       }
      },
      "source": [
       "### Tiempo Constante: O(1)\n",
       "\n",
       "El tiempo de ejecución del algoritmo no cambia a medida que aumenta el tamaño de la entrada.  \n",
       "        \n",
       "Esto significa que el algoritmo realiza una cantidad constante de operaciones sin importar el tamaño del problema."
      ]
     },
     {
      "cell_type": "markdown",
      "metadata": {
       "slideshow": {
        "slide_type": "subslide"
       }
      },
      "source": [
       "```python\n",
       "SoloPares =[]\n",
       "def EvaluarPares(n):\n",
       "    if n%2 == 0: \n",
       "        SoloPares.append(n) \n",
       "    else: \n",
       "        print(f\"{n} no es par\") \n",
       "```"
      ]
     },
     {
      "cell_type": "markdown",
      "metadata": {
       "slideshow": {
        "slide_type": "subslide"
       }
      },
      "source": [
       "### Tiempo Lineal: O(n)\n",
       "\n",
       "El tiempo de ejecución del algoritmo aumenta de manera proporcional al tamaño de la entrada.\n",
       "\n",
       "Esto implica que el algoritmo realiza una operación para cada elemento de entrada."
      ]
     },
     {
      "cell_type": "markdown",
      "metadata": {
       "slideshow": {
        "slide_type": "subslide"
       }
      },
      "source": [
       "```python\n",
       "def SumarImprimir(n):\n",
       "    resultado = 0 #1\n",
       "    for i in n: #n\n",
       "        if i<=0: #1\n",
       "            resultado = resultado + i #1\n",
       "    print(resultado) #1\n",
       "    4 + n\n",
       "```"
      ]
     },
     {
      "cell_type": "markdown",
      "metadata": {
       "slideshow": {
        "slide_type": "subslide"
       }
      },
      "source": [
       "### Tiempo Cuadratico: O(n^2)\n",
       "\n",
       "El tiempo de ejecución del algoritmo aumenta de manera proporcional al cuadrado del tamaño de la entrada.\n",
       "        \n",
       "Esto significa que el algoritmo realiza una operación anidada para cada par de elementos de entrada."
      ]
     },
     {
      "cell_type": "markdown",
      "metadata": {
       "slideshow": {
        "slide_type": "subslide"
       }
      },
      "source": [
       "```python\n",
       "def SumarPares(n):\n",
       "    resultado = 0  #1\n",
       "    for i in n:  #n\n",
       "        for j in n: #n \n",
       "            if i%2 == 0 and j%2 == 0: #1 \n",
       "                resultado = resultado + i + j #1 \n",
       "    print(resultado)  #1\n",
       "```"
      ]
     },
     {
      "cell_type": "markdown",
      "metadata": {
       "slideshow": {
        "slide_type": "subslide"
       }
      },
      "source": [
       "### Tiempo Exponencial: O(c^n)\n",
       "\n",
       "El tiempo de ejecución del algoritmo aumenta de manera exponencial al tamaño de la entrada.\n",
       "        \n",
       "Esto implica que el tiempo de ejecución crece rápidamente a medida que aumenta el tamaño del problema."
      ]
     },
     {
      "cell_type": "markdown",
      "metadata": {
       "slideshow": {
        "slide_type": "subslide"
       }
      },
      "source": [
       "```python\n",
       "def fibonacci(n):\n",
       "    if n <= 1:\n",
       "        return n\n",
       "    else:\n",
       "        return fibonacci(n-1) + fibonacci(n-2)\n",
       "```"
      ]
     },
     {
      "cell_type": "markdown",
      "metadata": {
       "slideshow": {
        "slide_type": "subslide"
       }
      },
      "source": [
       "### Tiempo cubico: O(n^3)\n",
       "\n",
       "El tiempo de ejecución del algoritmo aumenta de manera proporcional al cubo del tamaño de la entrada.\n",
       "        \n",
       "Esto significa que el algoritmo realiza operaciones anidadas en tres niveles."
      ]
     },
     {
      "cell_type": "markdown",
      "metadata": {
       "slideshow": {
        "slide_type": "subslide"
       }
      },
      "source": [
       "```python\n",
       "def SumaCubos(n):\n",
       "    suma = 0  \n",
       "    for i in range(n):                      \n",
       "        for j in range(n):                   \n",
       "            for k in range(n):              \n",
       "                suma += i * j * k            \n",
       "    return suma\n",
       "```"
      ]
     },
     {
      "cell_type": "markdown",
      "metadata": {
       "slideshow": {
        "slide_type": "subslide"
       }
      },
      "source": [
       "### Tiempo Logarítmico: O(log n)\n",
       "\n",
       "El tiempo de ejecución del algoritmo aumenta de manera logarítmica al tamaño de la entrada.\n",
       "        \n",
       "Esto implica que el tiempo de ejecución crece lentamente a medida que aumenta el tamaño del problema."
      ]
     },
     {
      "cell_type": "markdown",
      "metadata": {
       "slideshow": {
        "slide_type": "subslide"
       }
      },
      "source": [
       "```python\n",
       "def BusquedaBinaria(n, x):\n",
       "    \n",
       "    izq = 0 \n",
       "    der = len(n) - 1 \n",
       "    while izq <= der: \n",
       "        medio = (izq + der) // 2 \n",
       "        if n[medio] == x: \n",
       "            return medio \n",
       "        elif n[medio] > x: \n",
       "            der = medio - 1 \n",
       "        else:\n",
       "            izq = medio + 1 \n",
       "    return -1 \n",
       "\n",
       "```"
      ]
     },
     {
      "cell_type": "markdown",
      "metadata": {
       "slideshow": {
        "slide_type": "subslide"
       }
      },
      "source": [
       "### Tiempo Logaritmico lineal: O(n log n)\n",
       "\n",
       "El tiempo de ejecución del algoritmo aumenta de manera logarítmica al tamaño de la entrada, pero multiplicado por una constante. \n",
       "        \n",
       "Esto es común en algoritmos de ordenamiento eficientes como el algoritmo Quicksort y el algoritmo Merge Sort."
      ]
     },
     {
      "cell_type": "markdown",
      "metadata": {
       "slideshow": {
        "slide_type": "subslide"
       }
      },
      "source": [
       "```python\n",
       "def merge_sort(arr):\n",
       "    if len(arr) <= 1:\n",
       "        return arr\n",
       "    mid = len(arr) // 2\n",
       "    left_half = arr[:mid]   \n",
       "    right_half = arr[mid:]   \n",
       "    left_half = merge_sort(left_half)   \n",
       "    right_half = merge_sort(right_half) \n",
       "    return merge(left_half, right_half)   \n",
       "\n",
       "\n",
       "```"
      ]
     },
     {
      "cell_type": "markdown",
      "metadata": {
       "slideshow": {
        "slide_type": "subslide"
       }
      },
      "source": [
       "```python\n",
       "def merge(left, right):\n",
       "    result = []\n",
       "    i = 0\n",
       "    j = 0\n",
       "    while i < len(left) and j < len(right):\n",
       "        if left[i] <= right[j]:\n",
       "            result.append(left[i])   \n",
       "            i += 1\n",
       "        else:\n",
       "            result.append(right[j])   \n",
       "            j += 1\n",
       "    while i < len(left):\n",
       "        result.append(left[i])   \n",
       "        i += 1\n",
       "    while j < len(right):\n",
       "        result.append(right[j])  \n",
       "        j += 1\n",
       "    return result\n",
       "```"
      ]
     },
     {
      "cell_type": "markdown",
      "metadata": {
       "slideshow": {
        "slide_type": "subslide"
       }
      },
      "source": [
       "### Tiempo Factorial: O(n!)\n",
       "\n",
       "El tiempo de ejecución del algoritmo aumenta de manera factorial al tamaño de la entrada.\n",
       "        \n",
       "Esto implica que el tiempo de ejecución crece extremadamente rápido y se vuelve muy ineficiente para tamaños de problema moderados o grandes."
      ]
     },
     {
      "cell_type": "markdown",
      "metadata": {
       "slideshow": {
        "slide_type": "subslide"
       }
      },
      "source": [
       "```python\n",
       "def generar_todas_las_permutaciones(conjunto, permutacion_actual):\n",
       "    if len(conjunto) == 0:\n",
       "        print(permutacion_actual)\n",
       "    else:\n",
       "        for i in range(len(conjunto)):\n",
       "            nuevo_conjunto = conjunto[:i] + conjunto[i+1:]\n",
       "            nueva_permutacion = permutacion_actual + [conjunto[i]]\n",
       "            generar_todas_las_permutaciones(nuevo_conjunto, nueva_permutacion)\n",
       "\n",
       "def generar_todas_las_permutaciones_ineficiente(conjunto):\n",
       "    generar_todas_las_permutaciones(conjunto, [])\n",
       "\n",
       "```"
      ]
     },
     {
      "cell_type": "markdown",
      "metadata": {
       "slideshow": {
        "slide_type": "slide"
       }
      },
      "source": [
       "## Mas clases"
      ]
     },
     {
      "cell_type": "markdown",
      "metadata": {
       "slideshow": {
        "slide_type": "slide"
       }
      },
      "source": [
       "### Definiendo una clase \n",
       "\n",
       "```python\n",
       "\n",
       "class Pokemon:\n",
       "  def __init__(self,nombre,tipo,ataque):\n",
       "    self.nombre=nombre\n",
       "    self.tipo=tipo\n",
       "    self.ataque=ataque\n",
       "    #variables por defecto\n",
       "    self.nivel=1\n",
       "    self.salud=10\n",
       "  def Atacar(self):\n",
       "    print(self.ataque)\n",
       "\n",
       "```"
      ]
     },
     {
      "cell_type": "markdown",
      "metadata": {
       "slideshow": {
        "slide_type": "subslide"
       }
      },
      "source": [
       "### Creando un objeto de la clase \n",
       "\n",
       "```python\n",
       "\n",
       "pikachu=Pokemon(\"Pikachu\",\"Electrico\",10)\n",
       "metapod=Pokemon(\"metapod\",\"planta\",\"endurecer\")\n",
       "print(metapod)\n",
       "\n",
       "```"
      ]
     },
     {
      "cell_type": "markdown",
      "metadata": {
       "slideshow": {
        "slide_type": "subslide"
       }
      },
      "source": [
       "### Utilizando el objeto\n",
       "\n",
       "```python\n",
       "\n",
       "metapod.Atacar()\n",
       "metapod.salud=metapod.salud+1\n",
       "pikachu.Atacar()\n",
       "\n",
       "``` "
      ]
     },
     {
      "cell_type": "markdown",
      "metadata": {
       "slideshow": {
        "slide_type": "subslide"
       }
      },
      "source": [
       "### Herencia\n",
       "\n",
       "```python\n",
       "class Unknown(Pokemon):\n",
       "  pass\n",
       "unknown=Unknown(\"Raro\",\"Psiquico\",\"Aleatorio\")\n",
       "```"
      ]
     },
     {
      "cell_type": "markdown",
      "metadata": {
       "slideshow": {
        "slide_type": "subslide"
       }
      },
      "source": [
       "### Agregando propiedades de manera dinamica \n",
       "\n",
       "```python \n",
       "unknown.edad=5\n",
       "print(unknown.edad)\n",
       "```"
      ]
     },
     {
      "cell_type": "markdown",
      "metadata": {
       "slideshow": {
        "slide_type": "subslide"
       }
      },
      "source": [
       "### Composición \n",
       "\n",
       "```python\n",
       "\n",
       "class Entrenador:\n",
       "  def __init__(self,pokemon1,pokemon2):\n",
       "    self.pokemon1=pokemon1\n",
       "    self.pokemon2=pokemon2\n",
       "    self.pokemon3=Pokemon(\"vulpix\",\"fuego\",\"barbacoa\")\n",
       "\n",
       "satoshi=Entrenador(unknown,metapod)\n",
       "satoshi.pokemon1.Atacar()\n",
       "satoshi.pokemon2.Atacar()\n",
       "satoshi.pokemon3.Atacar()\n",
       "\n",
       "```"
      ]
     },
     {
      "cell_type": "markdown",
      "metadata": {
       "slideshow": {
        "slide_type": "slide"
       }
      },
      "source": [
       "## Estructuras de Datos"
      ]
     },
     {
      "cell_type": "markdown",
      "metadata": {
       "slideshow": {
        "slide_type": "subslide"
       }
      },
      "source": [
       "### Nodo\n",
       "\n",
       "```python\n",
       "class NodoListaEnlazada:\n",
       "  def __init__(self) -> None:\n",
       "    self.dato=None\n",
       "    self.Siguiente=None\n",
       "```"
      ]
     },
     {
      "cell_type": "markdown",
      "metadata": {
       "slideshow": {
        "slide_type": "subslide"
       }
      },
      "source": [
       "### Listas enlazadas\n",
       "\n",
       "```python\n",
       "class ListaEnlazada:\n",
       "  def __init__(self) -> None:\n",
       "    self.Inicio=NodoListaEnlazada()\n",
       "    self.Ultimo=self.Inicio\n",
       "    self.__NodoActual=self.Inicio\n",
       "  \n",
       "  def Agregar(self,dato):\n",
       "    if self.Ultimo.dato==None:\n",
       "      self.Ultimo.dato=dato\n",
       "    else:\n",
       "      self.Ultimo.Siguiente=NodoListaEnlazada()\n",
       "      self.Ultimo=self.Ultimo.Siguiente\n",
       "      self.Ultimo.dato=dato\n",
       "\n",
       "  def __Buscar(self,dato):\n",
       "    if self.Inicio.dato==dato:\n",
       "      return self.Inicio\n",
       "    \n",
       "    self.__NodoActual=self.Inicio\n",
       "    while self.__NodoActual.Siguiente!=None:\n",
       "      if self.__NodoActual.Siguiente.dato==dato:\n",
       "        return self.__NodoActual\n",
       "      self.__NodoActual=self.__NodoActual.Siguiente\n",
       "    return self.__NodoActual\n",
       "     \n",
       "  def Buscar(self,dato):\n",
       "    return self.__Buscar(dato).Siguiente\n",
       " \n",
       "  def Borrar(self,dato):\n",
       "    if  self.Inicio.dato==dato:\n",
       "      self.Inicio=self.Inicio.Siguiente      \n",
       "      return \n",
       "    temp=self.__Buscar(dato)\n",
       "\n",
       "    if temp.Siguiente==self.Ultimo:\n",
       "       self.Ultimo=temp\n",
       "       self.Ultimo.Siguiente=None\n",
       "       return\n",
       "    temp.Siguiente=temp.Siguiente.Siguiente\n",
       "  \n",
       "  def Imprimir(self):\n",
       "    self.__NodoActual=self.Inicio\n",
       "    while self.__NodoActual!=None:\n",
       "      print(self.__NodoActual.dato)\n",
       "      self.__NodoActual=self.__NodoActual.Siguiente\n",
       "```\n",
       " "
      ]
     },
     {
      "cell_type": "markdown",
      "metadata": {
       "slideshow": {
        "slide_type": "subslide"
       }
      },
      "source": [
       "### Uso\n",
       "\n",
       "```python \n",
       "listaenlazada=ListaEnlazada()\n",
       "\n",
       "for x in range(5):\n",
       "  listaenlazada.Agregar(x) \n",
       "listaenlazada.Imprimir()\n",
       "\n",
       "#borrar el nodo que contiene el valor que se pasa por parametro\n",
       "listaenlazada.Borrar(2)\n",
       "listaenlazada.Imprimir()\n",
       "\n",
       "#remplazar valor en nodo\n",
       "nodotemporal=listaenlazada.Buscar(3)\n",
       "nodotemporal.dato=3264\n",
       "\n",
       "listaenlazada.Imprimir() \n",
       "```"
      ]
     },
     {
      "cell_type": "markdown",
      "metadata": {
       "slideshow": {
        "slide_type": "subslide"
       }
      },
      "source": [
       "### pokelista\n",
       "\n",
       "```python\n",
       "pokelista=ListaEnlazada()\n",
       "\n",
       "pokelista.Agregar(unknown)\n",
       "pokelista.Agregar(metapod)\n",
       "\n",
       "pokelista.Inicio.dato.Atacar()\n",
       "\n",
       "pokelista.Borrar(unknown)\n",
       "pokelista.Inicio.dato.Atacar()\n",
       "``` "
      ]
     },
     {
      "cell_type": "markdown",
      "metadata": {
       "slideshow": {
        "slide_type": "subslide"
       }
      },
      "source": [
       "### Colas\n",
       "\n",
       "clase Nodo\n",
       "\n",
       "```python\n",
       "\n",
       "class Nodo:\n",
       "  def __init__(self, valor):\n",
       "    self.valor = valor\n",
       "    self.siguiente = None\n",
       "```"
      ]
     },
     {
      "cell_type": "markdown",
      "metadata": {
       "slideshow": {
        "slide_type": "subslide"
       }
      },
      "source": [
       "### clase Cola\n",
       "\n",
       "```python\n",
       "\n",
       "class Cola:\n",
       "    def __init__(self):\n",
       "        self.frente = None\n",
       "        self.final = None\n",
       "        self.count=0\n",
       "\n",
       "    def encolar(self, valor):\n",
       "        nuevo_nodo = Nodo(valor)\n",
       "        if self.final:\n",
       "            self.final.siguiente = nuevo_nodo\n",
       "        self.final = nuevo_nodo\n",
       "        if not self.frente:\n",
       "            self.frente = self.final\n",
       "        self.count+=1\n",
       "\n",
       "    def desencolar(self):\n",
       "        if self.frente:\n",
       "            valor = self.frente.valor\n",
       "            self.frente = self.frente.siguiente\n",
       "            if not self.frente:\n",
       "                self.final = None\n",
       "            self.count-=1\n",
       "            return valor\n",
       "        else:\n",
       "            return None\n",
       "```\n"
      ]
     },
     {
      "cell_type": "markdown",
      "metadata": {
       "slideshow": {
        "slide_type": "subslide"
       }
      },
      "source": [
       "### Uso\n",
       "\n",
       "```python\n",
       "\n",
       "cola=Cola()\n",
       "\n",
       "for x in range(10):\n",
       "  cola.encolar(x)\n",
       "\n",
       "while cola.count>0:\n",
       "  valor=cola.desencolar()\n",
       "  print(valor)\n",
       "\n",
       "```"
      ]
     },
     {
      "cell_type": "markdown",
      "metadata": {
       "slideshow": {
        "slide_type": "subslide"
       }
      },
      "source": [
       "### Pilas\n",
       "\n",
       "- clase Nodo\n",
       "\n",
       "```python\n",
       "  \n",
       "class Nodo:\n",
       "  def __init__(self, valor):\n",
       "    self.valor = valor\n",
       "    self.siguiente = None\n",
       "```"
      ]
     },
     {
      "cell_type": "markdown",
      "metadata": {
       "slideshow": {
        "slide_type": "subslide"
       }
      },
      "source": [
       "### clase Pila\n",
       "\n",
       "```python\n",
       "\n",
       "class Pila:\n",
       "    def __init__(self):\n",
       "        self.cabeza = None\n",
       "        self.count=0\n",
       "\n",
       "    def apilar(self, valor):\n",
       "        nuevo_nodo = Nodo(valor)\n",
       "        nuevo_nodo.siguiente = self.cabeza\n",
       "        self.cabeza = nuevo_nodo\n",
       "        self.count+=1\n",
       "\n",
       "    def desapilar(self):\n",
       "        if self.cabeza:\n",
       "            valor = self.cabeza.valor\n",
       "            self.cabeza = self.cabeza.siguiente\n",
       "            self.count-=1\n",
       "            return valor\n",
       "        else:\n",
       "            return None\n",
       "```\n"
      ]
     },
     {
      "cell_type": "markdown",
      "metadata": {
       "slideshow": {
        "slide_type": "subslide"
       }
      },
      "source": [
       "### uso\n",
       "\n",
       "```python\n",
       "pila=Pila()\n",
       "\n",
       "for x in range(10):\n",
       "  pila.apilar(x)\n",
       "\n",
       "while pila.count>0:\n",
       "  valor=pila.desapilar()\n",
       "  print(valor)\n",
       "\n",
       "```"
      ]
     },
     {
      "cell_type": "markdown",
      "metadata": {
       "slideshow": {
        "slide_type": "subslide"
       }
      },
      "source": [
       "### Comportamiento de pila y cola con la lista\n",
       "\n",
       "```python\n",
       "listapila=[]  \n",
       "listacola=[]\n",
       "\n",
       "for x in range(10):\n",
       "  listapila.append(x)\n",
       "  listacola.append(x) \n",
       "\n",
       "for x in range(len(listacola)):\n",
       "  print(listacola.pop(0)) \n",
       "\n",
       "for x in range(len(listapila)):\n",
       "  print(listapila.pop())  \n",
       "\n",
       "```"
      ]
     },
     {
      "cell_type": "markdown",
      "metadata": {
       "slideshow": {
        "slide_type": "subslide"
       }
      },
      "source": [
       "### Operaciones\n",
       "\n",
       "```python\n",
       "from random import randint\n",
       "\n",
       "listanumeros=[]\n",
       "for x in range(1000 ):\n",
       "    listanumeros.append(randint(0,999))\n",
       "\n",
       "print(\"sin orden\")\n",
       "print(listanumeros)\n",
       "```\n"
      ]
     },
     {
      "cell_type": "markdown",
      "metadata": {
       "slideshow": {
        "slide_type": "subslide"
       }
      },
      "source": [
       "#### Ordenar \n",
       "\n",
       "```python\n",
       "listanumeros.sort()\n",
       "print(\"ordenados\")\n",
       "print(listanumeros)\n",
       "```"
      ]
     },
     {
      "cell_type": "markdown",
      "metadata": {
       "slideshow": {
        "slide_type": "subslide"
       }
      },
      "source": [
       "#### Pares e impares\n",
       "\n",
       "```python\n",
       "# separados en pares e impares\n",
       "#for x in listanumeros:\n",
       " # if x%2==0 and x>0:\n",
       "  #  pares.append(x)\n",
       "#^ lo que esta comentado es lo mismo que lo de la siguiente linea\n",
       "pares=[x for x in listanumeros if not x%2 and x>0]\n",
       "print(\"pares\")\n",
       "print(pares) \n",
       "# separados en pares e impares\n",
       "impares=[x for x in listanumeros if  x%2]\n",
       "print(\"impares\")\n",
       "print(impares)\n",
       "```"
      ]
     },
     {
      "cell_type": "markdown",
      "metadata": {
       "slideshow": {
        "slide_type": "subslide"
       }
      },
      "source": [
       "#### eliminar repetidos\n",
       "\n",
       "```python\n",
       "pares=list(set(pares))\n",
       "print(\"pares unicos\")\n",
       "print(pares) \n",
       "impares=  list(set(impares))\n",
       "print(\"impares unicos \")\n",
       "print(impares)\n",
       "```"
      ]
     },
     {
      "cell_type": "markdown",
      "metadata": {
       "slideshow": {
        "slide_type": "subslide"
       }
      },
      "source": [
       "#### Ordenar\n",
       "\n",
       "```python \n",
       "pares.sort()\n",
       "print(\"pares unicos ordenados\")\n",
       "print(pares) \n",
       "\n",
       "impares.sort()\n",
       "print(\"impares unicos ordenados\")\n",
       "print(impares)\n",
       "\n",
       "```"
      ]
     },
     {
      "cell_type": "markdown",
      "metadata": {
       "slideshow": {
        "slide_type": "subslide"
       }
      },
      "source": [
       "## Arboles"
      ]
     },
     {
      "cell_type": "markdown",
      "metadata": {
       "slideshow": {
        "slide_type": "subslide"
       }
      },
      "source": [
       "### clase Nodo\n",
       "\n",
       "```python\n",
       "\n",
       "class NodoArbolb:\n",
       "  def __init__(self,valor)  :\n",
       "     self.der=None\n",
       "     self.izq=None\n",
       "     self.valor=valor\n",
       "\n",
       "```"
      ]
     },
     {
      "cell_type": "markdown",
      "metadata": {
       "slideshow": {
        "slide_type": "subslide"
       }
      },
      "source": [
       "### clase Arbol\n",
       "\n",
       "```python\n",
       "\n",
       "class ArbolB:\n",
       "  def __init__(self)  :\n",
       "      self.cabeza=None\n",
       "\n",
       "  def Agregar(self,valor):\n",
       "   \n",
       "    self.__Agregar(self.cabeza,valor)\n",
       " \n",
       "  def __Agregar(self,nodo,valor):\n",
       "    if nodo is None:\n",
       "      nodo = NodoArbolb(valor)\n",
       "      self.cabeza = nodo\n",
       "    else:\n",
       "      if valor==nodo.valor:\n",
       "        return\n",
       "      if valor < nodo.valor:\n",
       "          if nodo.izq is None:\n",
       "              nodo.izq = NodoArbolb(valor)\n",
       "          else:\n",
       "              self.__Agregar(nodo.izq, valor)\n",
       "      else:\n",
       "        if nodo.der is None:\n",
       "          nodo.der = NodoArbolb(valor)\n",
       "        else:\n",
       "          self.__Agregar(nodo.der, valor)\n",
       "\n",
       " \n",
       "  def __Imprimir(self,nodo):\n",
       "     if nodo is None:\n",
       "       return \n",
       "     else:\n",
       "       self.__Imprimir(nodo.izq) \n",
       "       print(nodo.valor)  \n",
       "       self.__Imprimir(nodo.der)\n",
       "  \n",
       "  def Imprimir(self):\n",
       "    nodoactual=self.cabeza\n",
       "    self.__Imprimir(nodoactual)\n",
       "      \n",
       "\n",
       "  def Eliminar(self, valor):\n",
       "      self.cabeza = self.__Eliminar(self.cabeza, valor)\n",
       "\n",
       "  def __Eliminar(self, nodo, valor):\n",
       "      if nodo is None:\n",
       "          return None\n",
       "      elif valor < nodo.valor:\n",
       "          nodo.izq = self.__Eliminar(nodo.izq, valor)\n",
       "      elif valor > nodo.valor:\n",
       "          nodo.der = self.__Eliminar(nodo.der, valor)\n",
       "      else:\n",
       "          if nodo.izq is None:\n",
       "              return nodo.der\n",
       "          elif nodo.der is None:\n",
       "              return nodo.izq\n",
       "          else:\n",
       "              min_nodo_der = self.__BuscarMin(nodo.der)\n",
       "              nodo.valor = min_nodo_der.valor\n",
       "              nodo.der = self.__Eliminar(nodo.der, min_nodo_der.valor)\n",
       "      return nodo\n",
       "\n",
       "  def __BuscarMin(self, nodo):\n",
       "      while nodo.izq is not None:\n",
       "          nodo = nodo.izq\n",
       "      return nodo\n",
       "\n",
       "```\n",
       "\n"
      ]
     },
     {
      "cell_type": "markdown",
      "metadata": {
       "slideshow": {
        "slide_type": "subslide"
       }
      },
      "source": [
       "### Uso\n",
       "\n",
       "```python\n",
       "\n",
       "arbolbinario=ArbolB()\n",
       "arbolbinario.Agregar(-1)\n",
       "arbolbinario.Agregar(-34)\n",
       "for x in range(500):\n",
       "  arbolbinario.Agregar(randint(0,1000000))\n",
       "    \n",
       "arbolbinario.Eliminar(-1) \n",
       "arbolbinario.Imprimir()  \n",
       "```"
      ]
     }
    ],
    "metadata": {
     "language_info": {
      "name": "python"
     },
     "orig_nbformat": 4
    },
    "nbformat": 4,
    "nbformat_minor": 2
   }